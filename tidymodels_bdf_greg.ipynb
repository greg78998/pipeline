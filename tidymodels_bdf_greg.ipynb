{
  "nbformat": 4,
  "nbformat_minor": 0,
  "metadata": {
    "colab": {
      "provenance": [],
      "collapsed_sections": [
        "92NpRWSwIL1I"
      ],
      "toc_visible": true
    },
    "kernelspec": {
      "name": "ir",
      "display_name": "R"
    },
    "language_info": {
      "name": "R"
    }
  },
  "cells": [
    {
      "cell_type": "markdown",
      "source": [
        "Pipeline"
      ],
      "metadata": {
        "id": "Z95TY6_kE7hj"
      }
    },
    {
      "cell_type": "code",
      "source": [
        "library(tidymodels)\n",
        "library(tidyverse)\n",
        "library(dplyr)\n",
        "library(ranger)\n",
        "library(xgboost)"
      ],
      "metadata": {
        "colab": {
          "base_uri": "https://localhost:8080/"
        },
        "id": "Nj4HTMfr9tW7",
        "outputId": "c8e9bbd5-7224-496d-8049-82f62b2ca48a"
      },
      "execution_count": 4,
      "outputs": [
        {
          "output_type": "stream",
          "name": "stderr",
          "text": [
            "── \u001b[1mAttaching packages\u001b[22m ────────────────────────────────────── tidymodels 1.1.1 ──\n",
            "\n",
            "\u001b[32m✔\u001b[39m \u001b[34mbroom       \u001b[39m 1.0.5      \u001b[32m✔\u001b[39m \u001b[34mrecipes     \u001b[39m 1.0.10\n",
            "\u001b[32m✔\u001b[39m \u001b[34mdials       \u001b[39m 1.2.1      \u001b[32m✔\u001b[39m \u001b[34mrsample     \u001b[39m 1.2.0 \n",
            "\u001b[32m✔\u001b[39m \u001b[34mdplyr       \u001b[39m 1.1.4      \u001b[32m✔\u001b[39m \u001b[34mtibble      \u001b[39m 3.2.1 \n",
            "\u001b[32m✔\u001b[39m \u001b[34mggplot2     \u001b[39m 3.4.4      \u001b[32m✔\u001b[39m \u001b[34mtidyr       \u001b[39m 1.3.1 \n",
            "\u001b[32m✔\u001b[39m \u001b[34minfer       \u001b[39m 1.0.6      \u001b[32m✔\u001b[39m \u001b[34mtune        \u001b[39m 1.1.2 \n",
            "\u001b[32m✔\u001b[39m \u001b[34mmodeldata   \u001b[39m 1.3.0      \u001b[32m✔\u001b[39m \u001b[34mworkflows   \u001b[39m 1.1.4 \n",
            "\u001b[32m✔\u001b[39m \u001b[34mparsnip     \u001b[39m 1.2.0      \u001b[32m✔\u001b[39m \u001b[34mworkflowsets\u001b[39m 1.0.1 \n",
            "\u001b[32m✔\u001b[39m \u001b[34mpurrr       \u001b[39m 1.0.2      \u001b[32m✔\u001b[39m \u001b[34myardstick   \u001b[39m 1.3.0 \n",
            "\n",
            "── \u001b[1mConflicts\u001b[22m ───────────────────────────────────────── tidymodels_conflicts() ──\n",
            "\u001b[31m✖\u001b[39m \u001b[34mpurrr\u001b[39m::\u001b[32mdiscard()\u001b[39m masks \u001b[34mscales\u001b[39m::discard()\n",
            "\u001b[31m✖\u001b[39m \u001b[34mdplyr\u001b[39m::\u001b[32mfilter()\u001b[39m  masks \u001b[34mstats\u001b[39m::filter()\n",
            "\u001b[31m✖\u001b[39m \u001b[34mdplyr\u001b[39m::\u001b[32mlag()\u001b[39m     masks \u001b[34mstats\u001b[39m::lag()\n",
            "\u001b[31m✖\u001b[39m \u001b[34mrecipes\u001b[39m::\u001b[32mstep()\u001b[39m  masks \u001b[34mstats\u001b[39m::step()\n",
            "\u001b[34m•\u001b[39m Learn how to get started at \u001b[32mhttps://www.tidymodels.org/start/\u001b[39m\n",
            "\n",
            "── \u001b[1mAttaching core tidyverse packages\u001b[22m ──────────────────────── tidyverse 2.0.0 ──\n",
            "\u001b[32m✔\u001b[39m \u001b[34mforcats  \u001b[39m 1.0.0     \u001b[32m✔\u001b[39m \u001b[34mreadr    \u001b[39m 2.1.5\n",
            "\u001b[32m✔\u001b[39m \u001b[34mlubridate\u001b[39m 1.9.3     \u001b[32m✔\u001b[39m \u001b[34mstringr  \u001b[39m 1.5.1\n",
            "── \u001b[1mConflicts\u001b[22m ────────────────────────────────────────── tidyverse_conflicts() ──\n",
            "\u001b[31m✖\u001b[39m \u001b[34mreadr\u001b[39m::\u001b[32mcol_factor()\u001b[39m masks \u001b[34mscales\u001b[39m::col_factor()\n",
            "\u001b[31m✖\u001b[39m \u001b[34mpurrr\u001b[39m::\u001b[32mdiscard()\u001b[39m    masks \u001b[34mscales\u001b[39m::discard()\n",
            "\u001b[31m✖\u001b[39m \u001b[34mdplyr\u001b[39m::\u001b[32mfilter()\u001b[39m     masks \u001b[34mstats\u001b[39m::filter()\n",
            "\u001b[31m✖\u001b[39m \u001b[34mstringr\u001b[39m::\u001b[32mfixed()\u001b[39m    masks \u001b[34mrecipes\u001b[39m::fixed()\n",
            "\u001b[31m✖\u001b[39m \u001b[34mdplyr\u001b[39m::\u001b[32mlag()\u001b[39m        masks \u001b[34mstats\u001b[39m::lag()\n",
            "\u001b[31m✖\u001b[39m \u001b[34mreadr\u001b[39m::\u001b[32mspec()\u001b[39m       masks \u001b[34myardstick\u001b[39m::spec()\n",
            "\u001b[36mℹ\u001b[39m Use the conflicted package (\u001b[3m\u001b[34m<http://conflicted.r-lib.org/>\u001b[39m\u001b[23m) to force all conflicts to become errors\n",
            "\n",
            "Attaching package: ‘xgboost’\n",
            "\n",
            "\n",
            "The following object is masked from ‘package:dplyr’:\n",
            "\n",
            "    slice\n",
            "\n",
            "\n"
          ]
        }
      ]
    },
    {
      "cell_type": "code",
      "source": [
        "list.files()"
      ],
      "metadata": {
        "colab": {
          "base_uri": "https://localhost:8080/",
          "height": 34
        },
        "id": "gd4VUYWuHKeG",
        "outputId": "6e8680ef-4ae0-49f0-b69c-2f46833032e2"
      },
      "execution_count": 5,
      "outputs": [
        {
          "output_type": "display_data",
          "data": {
            "text/html": [
              "<style>\n",
              ".list-inline {list-style: none; margin:0; padding: 0}\n",
              ".list-inline>li {display: inline-block}\n",
              ".list-inline>li:not(:last-child)::after {content: \"\\00b7\"; padding: 0 .5ex}\n",
              "</style>\n",
              "<ol class=list-inline><li>'readmission_avc.rds'</li><li>'sample_data'</li></ol>\n"
            ],
            "text/markdown": "1. 'readmission_avc.rds'\n2. 'sample_data'\n\n\n",
            "text/latex": "\\begin{enumerate*}\n\\item 'readmission\\_avc.rds'\n\\item 'sample\\_data'\n\\end{enumerate*}\n",
            "text/plain": [
              "[1] \"readmission_avc.rds\" \"sample_data\"        "
            ]
          },
          "metadata": {}
        }
      ]
    },
    {
      "cell_type": "code",
      "source": [
        "dataini <- readRDS(\"readmission_avc.rds\")\n",
        "dim(dataini)\n",
        "head(dataini)"
      ],
      "metadata": {
        "colab": {
          "base_uri": "https://localhost:8080/",
          "height": 303
        },
        "id": "YJiVMzX8Hye7",
        "outputId": "5db7b612-2713-48bf-a68d-0e0430dee7cb"
      },
      "execution_count": 6,
      "outputs": [
        {
          "output_type": "display_data",
          "data": {
            "text/html": [
              "<style>\n",
              ".list-inline {list-style: none; margin:0; padding: 0}\n",
              ".list-inline>li {display: inline-block}\n",
              ".list-inline>li:not(:last-child)::after {content: \"\\00b7\"; padding: 0 .5ex}\n",
              "</style>\n",
              "<ol class=list-inline><li>1700</li><li>12</li></ol>\n"
            ],
            "text/markdown": "1. 1700\n2. 12\n\n\n",
            "text/latex": "\\begin{enumerate*}\n\\item 1700\n\\item 12\n\\end{enumerate*}\n",
            "text/plain": [
              "[1] 1700   12"
            ]
          },
          "metadata": {}
        },
        {
          "output_type": "display_data",
          "data": {
            "text/html": [
              "<table class=\"dataframe\">\n",
              "<caption>A data.table: 6 × 12</caption>\n",
              "<thead>\n",
              "\t<tr><th scope=col>modeEntree</th><th scope=col>modeSortie</th><th scope=col>duree</th><th scope=col>ghm2</th><th scope=col>dp</th><th scope=col>sexe</th><th scope=col>age</th><th scope=col>nbActe</th><th scope=col>nbRum</th><th scope=col>nbda</th><th scope=col>id</th><th scope=col>id_D</th></tr>\n",
              "\t<tr><th scope=col>&lt;int&gt;</th><th scope=col>&lt;int&gt;</th><th scope=col>&lt;int&gt;</th><th scope=col>&lt;chr&gt;</th><th scope=col>&lt;chr&gt;</th><th scope=col>&lt;int&gt;</th><th scope=col>&lt;int&gt;</th><th scope=col>&lt;int&gt;</th><th scope=col>&lt;int&gt;</th><th scope=col>&lt;int&gt;</th><th scope=col>&lt;chr&gt;</th><th scope=col>&lt;chr&gt;</th></tr>\n",
              "</thead>\n",
              "<tbody>\n",
              "\t<tr><td>8</td><td>9</td><td> 0</td><td>01M37E</td><td>I671</td><td> 2</td><td>76</td><td>4</td><td>1</td><td>NA</td><td>l19</td><td>  </td></tr>\n",
              "\t<tr><td>8</td><td>8</td><td> 3</td><td>01C061</td><td>I652</td><td> 2</td><td>77</td><td>4</td><td>1</td><td> 1</td><td>s7e</td><td>  </td></tr>\n",
              "\t<tr><td>8</td><td>7</td><td>13</td><td>01M303</td><td>I634</td><td>NA</td><td>NA</td><td>4</td><td>1</td><td> 7</td><td>23f</td><td>  </td></tr>\n",
              "\t<tr><td>8</td><td>8</td><td>11</td><td>01M301</td><td>I639</td><td> 1</td><td>83</td><td>4</td><td>2</td><td> 2</td><td>8oi</td><td>NA</td></tr>\n",
              "\t<tr><td>8</td><td>6</td><td> 8</td><td>01M303</td><td>I635</td><td> 1</td><td>71</td><td>4</td><td>1</td><td> 9</td><td>otz</td><td>ld</td></tr>\n",
              "\t<tr><td>8</td><td>9</td><td>18</td><td>01M303</td><td>I635</td><td>NA</td><td>NA</td><td>9</td><td>2</td><td> 6</td><td>bof</td><td>NA</td></tr>\n",
              "</tbody>\n",
              "</table>\n"
            ],
            "text/markdown": "\nA data.table: 6 × 12\n\n| modeEntree &lt;int&gt; | modeSortie &lt;int&gt; | duree &lt;int&gt; | ghm2 &lt;chr&gt; | dp &lt;chr&gt; | sexe &lt;int&gt; | age &lt;int&gt; | nbActe &lt;int&gt; | nbRum &lt;int&gt; | nbda &lt;int&gt; | id &lt;chr&gt; | id_D &lt;chr&gt; |\n|---|---|---|---|---|---|---|---|---|---|---|---|\n| 8 | 9 |  0 | 01M37E | I671 |  2 | 76 | 4 | 1 | NA | l19 | <!----> |\n| 8 | 8 |  3 | 01C061 | I652 |  2 | 77 | 4 | 1 |  1 | s7e | <!----> |\n| 8 | 7 | 13 | 01M303 | I634 | NA | NA | 4 | 1 |  7 | 23f | <!----> |\n| 8 | 8 | 11 | 01M301 | I639 |  1 | 83 | 4 | 2 |  2 | 8oi | NA |\n| 8 | 6 |  8 | 01M303 | I635 |  1 | 71 | 4 | 1 |  9 | otz | ld |\n| 8 | 9 | 18 | 01M303 | I635 | NA | NA | 9 | 2 |  6 | bof | NA |\n\n",
            "text/latex": "A data.table: 6 × 12\n\\begin{tabular}{llllllllllll}\n modeEntree & modeSortie & duree & ghm2 & dp & sexe & age & nbActe & nbRum & nbda & id & id\\_D\\\\\n <int> & <int> & <int> & <chr> & <chr> & <int> & <int> & <int> & <int> & <int> & <chr> & <chr>\\\\\n\\hline\n\t 8 & 9 &  0 & 01M37E & I671 &  2 & 76 & 4 & 1 & NA & l19 &   \\\\\n\t 8 & 8 &  3 & 01C061 & I652 &  2 & 77 & 4 & 1 &  1 & s7e &   \\\\\n\t 8 & 7 & 13 & 01M303 & I634 & NA & NA & 4 & 1 &  7 & 23f &   \\\\\n\t 8 & 8 & 11 & 01M301 & I639 &  1 & 83 & 4 & 2 &  2 & 8oi & NA\\\\\n\t 8 & 6 &  8 & 01M303 & I635 &  1 & 71 & 4 & 1 &  9 & otz & ld\\\\\n\t 8 & 9 & 18 & 01M303 & I635 & NA & NA & 9 & 2 &  6 & bof & NA\\\\\n\\end{tabular}\n",
            "text/plain": [
              "  modeEntree modeSortie duree ghm2   dp   sexe age nbActe nbRum nbda id  id_D\n",
              "1 8          9           0    01M37E I671  2   76  4      1     NA   l19     \n",
              "2 8          8           3    01C061 I652  2   77  4      1      1   s7e     \n",
              "3 8          7          13    01M303 I634 NA   NA  4      1      7   23f     \n",
              "4 8          8          11    01M301 I639  1   83  4      2      2   8oi NA  \n",
              "5 8          6           8    01M303 I635  1   71  4      1      9   otz ld  \n",
              "6 8          9          18    01M303 I635 NA   NA  9      2      6   bof NA  "
            ]
          },
          "metadata": {}
        }
      ]
    },
    {
      "cell_type": "markdown",
      "source": [
        "# Exploratory data analysis\n",
        "\n",
        "* check missing values\n",
        "* tabs and plots"
      ],
      "metadata": {
        "id": "92NpRWSwIL1I"
      }
    },
    {
      "cell_type": "code",
      "source": [
        "# summary(dataini)\n",
        "\n",
        "# colSums(is.na(dataini))\n",
        "apply(is.na(dataini),2,sum)\n",
        "#map(dataini, function(x) sum(is.na(x))) ## fonction de dplyr on calcule en colonne\n",
        "#map(dataini, ~ sum(is.na(.))) ## une syntaxe simplifée\n",
        "\n"
      ],
      "metadata": {
        "colab": {
          "base_uri": "https://localhost:8080/",
          "height": 34
        },
        "id": "wdCxf6RGHkj7",
        "outputId": "159229c3-b8b9-4b22-a5e1-5ba63862b0d1"
      },
      "execution_count": 12,
      "outputs": [
        {
          "output_type": "display_data",
          "data": {
            "text/html": [
              "<style>\n",
              ".dl-inline {width: auto; margin:0; padding: 0}\n",
              ".dl-inline>dt, .dl-inline>dd {float: none; width: auto; display: inline-block}\n",
              ".dl-inline>dt::after {content: \":\\0020\"; padding-right: .5ex}\n",
              ".dl-inline>dt:not(:first-of-type) {padding-left: .5ex}\n",
              "</style><dl class=dl-inline><dt>modeEntree</dt><dd>0</dd><dt>modeSortie</dt><dd>0</dd><dt>duree</dt><dd>0</dd><dt>ghm2</dt><dd>0</dd><dt>dp</dt><dd>0</dd><dt>sexe</dt><dd>20</dd><dt>age</dt><dd>20</dd><dt>nbActe</dt><dd>0</dd><dt>nbRum</dt><dd>0</dd><dt>nbda</dt><dd>134</dd><dt>id</dt><dd>0</dd><dt>id_D</dt><dd>200</dd></dl>\n"
            ],
            "text/markdown": "modeEntree\n:   0modeSortie\n:   0duree\n:   0ghm2\n:   0dp\n:   0sexe\n:   20age\n:   20nbActe\n:   0nbRum\n:   0nbda\n:   134id\n:   0id_D\n:   200\n\n",
            "text/latex": "\\begin{description*}\n\\item[modeEntree] 0\n\\item[modeSortie] 0\n\\item[duree] 0\n\\item[ghm2] 0\n\\item[dp] 0\n\\item[sexe] 20\n\\item[age] 20\n\\item[nbActe] 0\n\\item[nbRum] 0\n\\item[nbda] 134\n\\item[id] 0\n\\item[id\\textbackslash{}\\_D] 200\n\\end{description*}\n",
            "text/plain": [
              "modeEntree modeSortie      duree       ghm2         dp       sexe        age \n",
              "         0          0          0          0          0         20         20 \n",
              "    nbActe      nbRum       nbda         id       id_D \n",
              "         0          0        134          0        200 "
            ]
          },
          "metadata": {}
        }
      ]
    },
    {
      "cell_type": "markdown",
      "source": [
        "# 0- Recoding and data pre-processing"
      ],
      "metadata": {
        "id": "d3Rx3jYzcMEm"
      }
    },
    {
      "cell_type": "code",
      "source": [
        "dataset <- dataini %>%\n",
        "  filter(!is.na(id_D)) %>%\n",
        "    mutate(target = as.factor(ifelse(id_D==\"\",0,1))) %>%\n",
        "    mutate_at(c(\"modeEntree\",\"modeSortie\",\"sexe\"), as.character)  %>%    # mutate_at : permet d'appliquer une fonction à une liste de colonne que l'on sélectionne\n",
        "    mutate(nbda = ifelse(is.na(nbda),0,nbda))  %>%\n",
        "    select(-c(id,id_D)) %>%\n",
        "    filter(modeSortie != 9)\n",
        "\n",
        "dim(dataset)\n",
        "\n",
        "\n",
        ""
      ],
      "metadata": {
        "colab": {
          "base_uri": "https://localhost:8080/",
          "height": 34
        },
        "id": "R17so-3ucC4n",
        "outputId": "ec2e3c9b-e93c-4e83-be2d-0ea98f55edee"
      },
      "execution_count": 10,
      "outputs": [
        {
          "output_type": "display_data",
          "data": {
            "text/html": [
              "<style>\n",
              ".list-inline {list-style: none; margin:0; padding: 0}\n",
              ".list-inline>li {display: inline-block}\n",
              ".list-inline>li:not(:last-child)::after {content: \"\\00b7\"; padding: 0 .5ex}\n",
              "</style>\n",
              "<ol class=list-inline><li>1322</li><li>11</li></ol>\n"
            ],
            "text/markdown": "1. 1322\n2. 11\n\n\n",
            "text/latex": "\\begin{enumerate*}\n\\item 1322\n\\item 11\n\\end{enumerate*}\n",
            "text/plain": [
              "[1] 1322   11"
            ]
          },
          "metadata": {}
        }
      ]
    },
    {
      "cell_type": "markdown",
      "source": [
        "# 1 -  Resample library : train set, eval set et test set ✈"
      ],
      "metadata": {
        "id": "Gw503NtIjlj8"
      }
    },
    {
      "cell_type": "code",
      "source": [
        "set.seed(24)  # pour assurer la reproductivité\n",
        "\n",
        "data_split <- initial_split(dataset, strata = target, prop = 0.8)\n",
        "\n",
        "class(data_split)\n",
        "\n",
        "training <- training(data_split) # data frame qui permet de faire le premier découpage\n",
        "test_set <- testing(data_split) # extraire le test set\n",
        "\n",
        "training_split <- initial_split(training, strata = target, prop = 0.8)\n",
        "\n",
        "train_set <- training(training_split)\n",
        "eval_set <- testing(training_split)\n",
        "\n",
        "dim(train_set)\n",
        "dim(eval_set)\n",
        "dim(test_set)\n"
      ],
      "metadata": {
        "colab": {
          "base_uri": "https://localhost:8080/",
          "height": 86
        },
        "id": "afEYSI7MjuY6",
        "outputId": "acb090ec-3712-47ed-8db7-ce0290c84b3e"
      },
      "execution_count": 11,
      "outputs": [
        {
          "output_type": "display_data",
          "data": {
            "text/html": [
              "<style>\n",
              ".list-inline {list-style: none; margin:0; padding: 0}\n",
              ".list-inline>li {display: inline-block}\n",
              ".list-inline>li:not(:last-child)::after {content: \"\\00b7\"; padding: 0 .5ex}\n",
              "</style>\n",
              "<ol class=list-inline><li>'initial_split'</li><li>'mc_split'</li><li>'rsplit'</li></ol>\n"
            ],
            "text/markdown": "1. 'initial_split'\n2. 'mc_split'\n3. 'rsplit'\n\n\n",
            "text/latex": "\\begin{enumerate*}\n\\item 'initial\\_split'\n\\item 'mc\\_split'\n\\item 'rsplit'\n\\end{enumerate*}\n",
            "text/plain": [
              "[1] \"initial_split\" \"mc_split\"      \"rsplit\"       "
            ]
          },
          "metadata": {}
        },
        {
          "output_type": "display_data",
          "data": {
            "text/html": [
              "<style>\n",
              ".list-inline {list-style: none; margin:0; padding: 0}\n",
              ".list-inline>li {display: inline-block}\n",
              ".list-inline>li:not(:last-child)::after {content: \"\\00b7\"; padding: 0 .5ex}\n",
              "</style>\n",
              "<ol class=list-inline><li>845</li><li>11</li></ol>\n"
            ],
            "text/markdown": "1. 845\n2. 11\n\n\n",
            "text/latex": "\\begin{enumerate*}\n\\item 845\n\\item 11\n\\end{enumerate*}\n",
            "text/plain": [
              "[1] 845  11"
            ]
          },
          "metadata": {}
        },
        {
          "output_type": "display_data",
          "data": {
            "text/html": [
              "<style>\n",
              ".list-inline {list-style: none; margin:0; padding: 0}\n",
              ".list-inline>li {display: inline-block}\n",
              ".list-inline>li:not(:last-child)::after {content: \"\\00b7\"; padding: 0 .5ex}\n",
              "</style>\n",
              "<ol class=list-inline><li>212</li><li>11</li></ol>\n"
            ],
            "text/markdown": "1. 212\n2. 11\n\n\n",
            "text/latex": "\\begin{enumerate*}\n\\item 212\n\\item 11\n\\end{enumerate*}\n",
            "text/plain": [
              "[1] 212  11"
            ]
          },
          "metadata": {}
        },
        {
          "output_type": "display_data",
          "data": {
            "text/html": [
              "<style>\n",
              ".list-inline {list-style: none; margin:0; padding: 0}\n",
              ".list-inline>li {display: inline-block}\n",
              ".list-inline>li:not(:last-child)::after {content: \"\\00b7\"; padding: 0 .5ex}\n",
              "</style>\n",
              "<ol class=list-inline><li>265</li><li>11</li></ol>\n"
            ],
            "text/markdown": "1. 265\n2. 11\n\n\n",
            "text/latex": "\\begin{enumerate*}\n\\item 265\n\\item 11\n\\end{enumerate*}\n",
            "text/plain": [
              "[1] 265  11"
            ]
          },
          "metadata": {}
        }
      ]
    },
    {
      "cell_type": "markdown",
      "source": [
        "# 2 - recipes library : create a collection of input formulas\n",
        "\n"
      ],
      "metadata": {
        "id": "eZsu2CokmC2J"
      }
    },
    {
      "cell_type": "markdown",
      "source": [
        "## 2.1 Basic recipe and design matrix"
      ],
      "metadata": {
        "id": "Lp8u4KAdKZif"
      }
    },
    {
      "cell_type": "code",
      "source": [
        "rec_basic <- recipe(data = train_set, target ~.)\n",
        "\n",
        "class(rec_basic)\n",
        "\n",
        "prep(rec_basic)  ### pour préparer\n",
        "## juice(prep(rec_basic))  ### pour extraire la design matrix\n",
        "formula(prep(prep(rec_basic)))"
      ],
      "metadata": {
        "colab": {
          "base_uri": "https://localhost:8080/",
          "height": 416
        },
        "id": "PXH3SkcxmeGV",
        "outputId": "e84b6601-be67-4262-bb5c-fff9660865bb"
      },
      "execution_count": 13,
      "outputs": [
        {
          "output_type": "display_data",
          "data": {
            "text/html": [
              "'recipe'"
            ],
            "text/markdown": "'recipe'",
            "text/latex": "'recipe'",
            "text/plain": [
              "[1] \"recipe\""
            ]
          },
          "metadata": {}
        },
        {
          "output_type": "stream",
          "name": "stderr",
          "text": [
            "\n",
            "\n",
            "\u001b[36m──\u001b[39m \u001b[1mRecipe\u001b[22m \u001b[36m──────────────────────────────────────────────────────────────────────\u001b[39m\n",
            "\n",
            "\n",
            "\n",
            "── Inputs \n",
            "\n",
            "Number of variables by role\n",
            "\n",
            "outcome:    1\n",
            "predictor: 10\n",
            "\n",
            "\n",
            "\n",
            "── Training information \n",
            "\n",
            "Training data contained 845 data points and 6 incomplete rows.\n",
            "\n"
          ]
        },
        {
          "output_type": "display_data",
          "data": {
            "text/plain": [
              "target ~ modeEntree + modeSortie + duree + ghm2 + dp + sexe + \n",
              "    age + nbActe + nbRum + nbda\n",
              "<environment: 0x578a16ee7388>"
            ]
          },
          "metadata": {}
        }
      ]
    },
    {
      "cell_type": "code",
      "source": [
        "# pour montrer --> mais pas généralisable --> voir le code ci-dessous\n",
        "rec_basic <- recipe(data = train_set, target ~ .) %>%\n",
        "  step_impute_mean(age) %>%     # on impute par la moyenne\n",
        "  step_impute_mode(sexe) %>%    # on impute par le mode (la valeur qui revient le plus)\n",
        "  step_normalize(age) %>%\n",
        "  step_dummy(modeEntree) %>%\n",
        "  step_other(dp, threshold = 0.05) %>% ## si la proportion est inférieure à 5%, on place dans la catégorie other.\n",
        "  step_dummy(dp)\n",
        "\n",
        "\n",
        "juice(prep(rec_basic)) %>% head(10)"
      ],
      "metadata": {
        "colab": {
          "base_uri": "https://localhost:8080/",
          "height": 411
        },
        "id": "8mjd87EJgi8w",
        "outputId": "da653058-f5e7-44c2-97b2-49e82a2cc167"
      },
      "execution_count": 14,
      "outputs": [
        {
          "output_type": "display_data",
          "data": {
            "text/html": [
              "<table class=\"dataframe\">\n",
              "<caption>A tibble: 10 × 18</caption>\n",
              "<thead>\n",
              "\t<tr><th scope=col>modeSortie</th><th scope=col>duree</th><th scope=col>ghm2</th><th scope=col>sexe</th><th scope=col>age</th><th scope=col>nbActe</th><th scope=col>nbRum</th><th scope=col>nbda</th><th scope=col>target</th><th scope=col>modeEntree_X7</th><th scope=col>modeEntree_X8</th><th scope=col>dp_I633</th><th scope=col>dp_I634</th><th scope=col>dp_I635</th><th scope=col>dp_I638</th><th scope=col>dp_I639</th><th scope=col>dp_I652</th><th scope=col>dp_other</th></tr>\n",
              "\t<tr><th scope=col>&lt;fct&gt;</th><th scope=col>&lt;int&gt;</th><th scope=col>&lt;fct&gt;</th><th scope=col>&lt;fct&gt;</th><th scope=col>&lt;dbl&gt;</th><th scope=col>&lt;int&gt;</th><th scope=col>&lt;int&gt;</th><th scope=col>&lt;dbl&gt;</th><th scope=col>&lt;fct&gt;</th><th scope=col>&lt;dbl&gt;</th><th scope=col>&lt;dbl&gt;</th><th scope=col>&lt;dbl&gt;</th><th scope=col>&lt;dbl&gt;</th><th scope=col>&lt;dbl&gt;</th><th scope=col>&lt;dbl&gt;</th><th scope=col>&lt;dbl&gt;</th><th scope=col>&lt;dbl&gt;</th><th scope=col>&lt;dbl&gt;</th></tr>\n",
              "</thead>\n",
              "<tbody>\n",
              "\t<tr><td>8</td><td> 3</td><td>01C061</td><td>2</td><td> 0.3570417</td><td> 4</td><td>1</td><td>1</td><td>0</td><td>0</td><td>1</td><td>0</td><td>0</td><td>0</td><td>0</td><td>0</td><td>1</td><td>0</td></tr>\n",
              "\t<tr><td>7</td><td> 8</td><td>01M302</td><td>1</td><td> 1.3248570</td><td> 7</td><td>2</td><td>4</td><td>0</td><td>0</td><td>1</td><td>0</td><td>0</td><td>0</td><td>0</td><td>1</td><td>0</td><td>0</td></tr>\n",
              "\t<tr><td>8</td><td> 8</td><td>01M301</td><td>2</td><td> 1.0667729</td><td> 8</td><td>2</td><td>5</td><td>0</td><td>0</td><td>1</td><td>0</td><td>0</td><td>0</td><td>1</td><td>0</td><td>0</td><td>0</td></tr>\n",
              "\t<tr><td>8</td><td> 0</td><td>01M30T</td><td>2</td><td> 0.6796468</td><td> 5</td><td>1</td><td>3</td><td>0</td><td>0</td><td>1</td><td>0</td><td>0</td><td>1</td><td>0</td><td>0</td><td>0</td><td>0</td></tr>\n",
              "\t<tr><td>7</td><td> 1</td><td>01M31T</td><td>2</td><td>-1.5785887</td><td> 1</td><td>1</td><td>0</td><td>0</td><td>0</td><td>1</td><td>0</td><td>0</td><td>0</td><td>0</td><td>0</td><td>0</td><td>1</td></tr>\n",
              "\t<tr><td>8</td><td> 4</td><td>01M301</td><td>1</td><td> 0.2925207</td><td> 4</td><td>2</td><td>1</td><td>0</td><td>0</td><td>1</td><td>0</td><td>0</td><td>1</td><td>0</td><td>0</td><td>0</td><td>0</td></tr>\n",
              "\t<tr><td>7</td><td>20</td><td>01M303</td><td>1</td><td> 0.4215628</td><td>30</td><td>2</td><td>8</td><td>0</td><td>0</td><td>1</td><td>0</td><td>0</td><td>1</td><td>0</td><td>0</td><td>0</td><td>0</td></tr>\n",
              "\t<tr><td>8</td><td> 4</td><td>01M302</td><td>1</td><td> 0.4215628</td><td> 0</td><td>1</td><td>5</td><td>0</td><td>0</td><td>1</td><td>0</td><td>0</td><td>0</td><td>0</td><td>1</td><td>0</td><td>0</td></tr>\n",
              "\t<tr><td>8</td><td>11</td><td>01M302</td><td>2</td><td> 0.2279997</td><td> 7</td><td>2</td><td>3</td><td>0</td><td>0</td><td>1</td><td>0</td><td>0</td><td>0</td><td>1</td><td>0</td><td>0</td><td>0</td></tr>\n",
              "\t<tr><td>8</td><td> 5</td><td>01M303</td><td>2</td><td> 0.9377309</td><td>11</td><td>1</td><td>7</td><td>0</td><td>0</td><td>1</td><td>0</td><td>0</td><td>1</td><td>0</td><td>0</td><td>0</td><td>0</td></tr>\n",
              "</tbody>\n",
              "</table>\n"
            ],
            "text/markdown": "\nA tibble: 10 × 18\n\n| modeSortie &lt;fct&gt; | duree &lt;int&gt; | ghm2 &lt;fct&gt; | sexe &lt;fct&gt; | age &lt;dbl&gt; | nbActe &lt;int&gt; | nbRum &lt;int&gt; | nbda &lt;dbl&gt; | target &lt;fct&gt; | modeEntree_X7 &lt;dbl&gt; | modeEntree_X8 &lt;dbl&gt; | dp_I633 &lt;dbl&gt; | dp_I634 &lt;dbl&gt; | dp_I635 &lt;dbl&gt; | dp_I638 &lt;dbl&gt; | dp_I639 &lt;dbl&gt; | dp_I652 &lt;dbl&gt; | dp_other &lt;dbl&gt; |\n|---|---|---|---|---|---|---|---|---|---|---|---|---|---|---|---|---|---|\n| 8 |  3 | 01C061 | 2 |  0.3570417 |  4 | 1 | 1 | 0 | 0 | 1 | 0 | 0 | 0 | 0 | 0 | 1 | 0 |\n| 7 |  8 | 01M302 | 1 |  1.3248570 |  7 | 2 | 4 | 0 | 0 | 1 | 0 | 0 | 0 | 0 | 1 | 0 | 0 |\n| 8 |  8 | 01M301 | 2 |  1.0667729 |  8 | 2 | 5 | 0 | 0 | 1 | 0 | 0 | 0 | 1 | 0 | 0 | 0 |\n| 8 |  0 | 01M30T | 2 |  0.6796468 |  5 | 1 | 3 | 0 | 0 | 1 | 0 | 0 | 1 | 0 | 0 | 0 | 0 |\n| 7 |  1 | 01M31T | 2 | -1.5785887 |  1 | 1 | 0 | 0 | 0 | 1 | 0 | 0 | 0 | 0 | 0 | 0 | 1 |\n| 8 |  4 | 01M301 | 1 |  0.2925207 |  4 | 2 | 1 | 0 | 0 | 1 | 0 | 0 | 1 | 0 | 0 | 0 | 0 |\n| 7 | 20 | 01M303 | 1 |  0.4215628 | 30 | 2 | 8 | 0 | 0 | 1 | 0 | 0 | 1 | 0 | 0 | 0 | 0 |\n| 8 |  4 | 01M302 | 1 |  0.4215628 |  0 | 1 | 5 | 0 | 0 | 1 | 0 | 0 | 0 | 0 | 1 | 0 | 0 |\n| 8 | 11 | 01M302 | 2 |  0.2279997 |  7 | 2 | 3 | 0 | 0 | 1 | 0 | 0 | 0 | 1 | 0 | 0 | 0 |\n| 8 |  5 | 01M303 | 2 |  0.9377309 | 11 | 1 | 7 | 0 | 0 | 1 | 0 | 0 | 1 | 0 | 0 | 0 | 0 |\n\n",
            "text/latex": "A tibble: 10 × 18\n\\begin{tabular}{llllllllllllllllll}\n modeSortie & duree & ghm2 & sexe & age & nbActe & nbRum & nbda & target & modeEntree\\_X7 & modeEntree\\_X8 & dp\\_I633 & dp\\_I634 & dp\\_I635 & dp\\_I638 & dp\\_I639 & dp\\_I652 & dp\\_other\\\\\n <fct> & <int> & <fct> & <fct> & <dbl> & <int> & <int> & <dbl> & <fct> & <dbl> & <dbl> & <dbl> & <dbl> & <dbl> & <dbl> & <dbl> & <dbl> & <dbl>\\\\\n\\hline\n\t 8 &  3 & 01C061 & 2 &  0.3570417 &  4 & 1 & 1 & 0 & 0 & 1 & 0 & 0 & 0 & 0 & 0 & 1 & 0\\\\\n\t 7 &  8 & 01M302 & 1 &  1.3248570 &  7 & 2 & 4 & 0 & 0 & 1 & 0 & 0 & 0 & 0 & 1 & 0 & 0\\\\\n\t 8 &  8 & 01M301 & 2 &  1.0667729 &  8 & 2 & 5 & 0 & 0 & 1 & 0 & 0 & 0 & 1 & 0 & 0 & 0\\\\\n\t 8 &  0 & 01M30T & 2 &  0.6796468 &  5 & 1 & 3 & 0 & 0 & 1 & 0 & 0 & 1 & 0 & 0 & 0 & 0\\\\\n\t 7 &  1 & 01M31T & 2 & -1.5785887 &  1 & 1 & 0 & 0 & 0 & 1 & 0 & 0 & 0 & 0 & 0 & 0 & 1\\\\\n\t 8 &  4 & 01M301 & 1 &  0.2925207 &  4 & 2 & 1 & 0 & 0 & 1 & 0 & 0 & 1 & 0 & 0 & 0 & 0\\\\\n\t 7 & 20 & 01M303 & 1 &  0.4215628 & 30 & 2 & 8 & 0 & 0 & 1 & 0 & 0 & 1 & 0 & 0 & 0 & 0\\\\\n\t 8 &  4 & 01M302 & 1 &  0.4215628 &  0 & 1 & 5 & 0 & 0 & 1 & 0 & 0 & 0 & 0 & 1 & 0 & 0\\\\\n\t 8 & 11 & 01M302 & 2 &  0.2279997 &  7 & 2 & 3 & 0 & 0 & 1 & 0 & 0 & 0 & 1 & 0 & 0 & 0\\\\\n\t 8 &  5 & 01M303 & 2 &  0.9377309 & 11 & 1 & 7 & 0 & 0 & 1 & 0 & 0 & 1 & 0 & 0 & 0 & 0\\\\\n\\end{tabular}\n",
            "text/plain": [
              "   modeSortie duree ghm2   sexe age        nbActe nbRum nbda target\n",
              "1  8           3    01C061 2     0.3570417  4     1     1    0     \n",
              "2  7           8    01M302 1     1.3248570  7     2     4    0     \n",
              "3  8           8    01M301 2     1.0667729  8     2     5    0     \n",
              "4  8           0    01M30T 2     0.6796468  5     1     3    0     \n",
              "5  7           1    01M31T 2    -1.5785887  1     1     0    0     \n",
              "6  8           4    01M301 1     0.2925207  4     2     1    0     \n",
              "7  7          20    01M303 1     0.4215628 30     2     8    0     \n",
              "8  8           4    01M302 1     0.4215628  0     1     5    0     \n",
              "9  8          11    01M302 2     0.2279997  7     2     3    0     \n",
              "10 8           5    01M303 2     0.9377309 11     1     7    0     \n",
              "   modeEntree_X7 modeEntree_X8 dp_I633 dp_I634 dp_I635 dp_I638 dp_I639 dp_I652\n",
              "1  0             1             0       0       0       0       0       1      \n",
              "2  0             1             0       0       0       0       1       0      \n",
              "3  0             1             0       0       0       1       0       0      \n",
              "4  0             1             0       0       1       0       0       0      \n",
              "5  0             1             0       0       0       0       0       0      \n",
              "6  0             1             0       0       1       0       0       0      \n",
              "7  0             1             0       0       1       0       0       0      \n",
              "8  0             1             0       0       0       0       1       0      \n",
              "9  0             1             0       0       0       1       0       0      \n",
              "10 0             1             0       0       1       0       0       0      \n",
              "   dp_other\n",
              "1  0       \n",
              "2  0       \n",
              "3  0       \n",
              "4  0       \n",
              "5  1       \n",
              "6  0       \n",
              "7  0       \n",
              "8  0       \n",
              "9  0       \n",
              "10 0       "
            ]
          },
          "metadata": {}
        }
      ]
    },
    {
      "cell_type": "code",
      "source": [
        "rec_basic <- recipe(train_set, target~.)%>%\n",
        "  step_impute_mean(all_numeric_predictors())%>%\n",
        "  step_impute_mode(all_nominal_predictors())%>%\n",
        "  step_normalize(all_numeric_predictors())%>%\n",
        "  step_other(dp, threshold =  .05)%>%\n",
        "  step_other(ghm2, threshold = .02)%>%\n",
        "  step_dummy(all_nominal_predictors())\n",
        "\n",
        "colnames(juice(prep(rec_basic)))\n",
        "\n",
        "juice(prep(rec_basic)) %>% head(10)\n",
        "dim(juice(prep(rec_basic)))"
      ],
      "metadata": {
        "colab": {
          "base_uri": "https://localhost:8080/",
          "height": 483
        },
        "id": "ApheelyJrJDe",
        "outputId": "d80a3430-ea71-4a08-e9f9-200e9615894d"
      },
      "execution_count": 15,
      "outputs": [
        {
          "output_type": "display_data",
          "data": {
            "text/html": [
              "<style>\n",
              ".list-inline {list-style: none; margin:0; padding: 0}\n",
              ".list-inline>li {display: inline-block}\n",
              ".list-inline>li:not(:last-child)::after {content: \"\\00b7\"; padding: 0 .5ex}\n",
              "</style>\n",
              "<ol class=list-inline><li>'duree'</li><li>'age'</li><li>'nbActe'</li><li>'nbRum'</li><li>'nbda'</li><li>'target'</li><li>'modeEntree_X7'</li><li>'modeEntree_X8'</li><li>'modeSortie_X7'</li><li>'modeSortie_X8'</li><li>'ghm2_X01C062'</li><li>'ghm2_X01M301'</li><li>'ghm2_X01M302'</li><li>'ghm2_X01M303'</li><li>'ghm2_X01M304'</li><li>'ghm2_X01M30T'</li><li>'ghm2_X01M311'</li><li>'ghm2_X01M312'</li><li>'ghm2_X01M31T'</li><li>'ghm2_other'</li><li>'dp_I633'</li><li>'dp_I634'</li><li>'dp_I635'</li><li>'dp_I638'</li><li>'dp_I639'</li><li>'dp_I652'</li><li>'dp_other'</li><li>'sexe_X2'</li></ol>\n"
            ],
            "text/markdown": "1. 'duree'\n2. 'age'\n3. 'nbActe'\n4. 'nbRum'\n5. 'nbda'\n6. 'target'\n7. 'modeEntree_X7'\n8. 'modeEntree_X8'\n9. 'modeSortie_X7'\n10. 'modeSortie_X8'\n11. 'ghm2_X01C062'\n12. 'ghm2_X01M301'\n13. 'ghm2_X01M302'\n14. 'ghm2_X01M303'\n15. 'ghm2_X01M304'\n16. 'ghm2_X01M30T'\n17. 'ghm2_X01M311'\n18. 'ghm2_X01M312'\n19. 'ghm2_X01M31T'\n20. 'ghm2_other'\n21. 'dp_I633'\n22. 'dp_I634'\n23. 'dp_I635'\n24. 'dp_I638'\n25. 'dp_I639'\n26. 'dp_I652'\n27. 'dp_other'\n28. 'sexe_X2'\n\n\n",
            "text/latex": "\\begin{enumerate*}\n\\item 'duree'\n\\item 'age'\n\\item 'nbActe'\n\\item 'nbRum'\n\\item 'nbda'\n\\item 'target'\n\\item 'modeEntree\\_X7'\n\\item 'modeEntree\\_X8'\n\\item 'modeSortie\\_X7'\n\\item 'modeSortie\\_X8'\n\\item 'ghm2\\_X01C062'\n\\item 'ghm2\\_X01M301'\n\\item 'ghm2\\_X01M302'\n\\item 'ghm2\\_X01M303'\n\\item 'ghm2\\_X01M304'\n\\item 'ghm2\\_X01M30T'\n\\item 'ghm2\\_X01M311'\n\\item 'ghm2\\_X01M312'\n\\item 'ghm2\\_X01M31T'\n\\item 'ghm2\\_other'\n\\item 'dp\\_I633'\n\\item 'dp\\_I634'\n\\item 'dp\\_I635'\n\\item 'dp\\_I638'\n\\item 'dp\\_I639'\n\\item 'dp\\_I652'\n\\item 'dp\\_other'\n\\item 'sexe\\_X2'\n\\end{enumerate*}\n",
            "text/plain": [
              " [1] \"duree\"         \"age\"           \"nbActe\"        \"nbRum\"        \n",
              " [5] \"nbda\"          \"target\"        \"modeEntree_X7\" \"modeEntree_X8\"\n",
              " [9] \"modeSortie_X7\" \"modeSortie_X8\" \"ghm2_X01C062\"  \"ghm2_X01M301\" \n",
              "[13] \"ghm2_X01M302\"  \"ghm2_X01M303\"  \"ghm2_X01M304\"  \"ghm2_X01M30T\" \n",
              "[17] \"ghm2_X01M311\"  \"ghm2_X01M312\"  \"ghm2_X01M31T\"  \"ghm2_other\"   \n",
              "[21] \"dp_I633\"       \"dp_I634\"       \"dp_I635\"       \"dp_I638\"      \n",
              "[25] \"dp_I639\"       \"dp_I652\"       \"dp_other\"      \"sexe_X2\"      "
            ]
          },
          "metadata": {}
        },
        {
          "output_type": "display_data",
          "data": {
            "text/html": [
              "<table class=\"dataframe\">\n",
              "<caption>A tibble: 10 × 28</caption>\n",
              "<thead>\n",
              "\t<tr><th scope=col>duree</th><th scope=col>age</th><th scope=col>nbActe</th><th scope=col>nbRum</th><th scope=col>nbda</th><th scope=col>target</th><th scope=col>modeEntree_X7</th><th scope=col>modeEntree_X8</th><th scope=col>modeSortie_X7</th><th scope=col>modeSortie_X8</th><th scope=col>⋯</th><th scope=col>ghm2_X01M31T</th><th scope=col>ghm2_other</th><th scope=col>dp_I633</th><th scope=col>dp_I634</th><th scope=col>dp_I635</th><th scope=col>dp_I638</th><th scope=col>dp_I639</th><th scope=col>dp_I652</th><th scope=col>dp_other</th><th scope=col>sexe_X2</th></tr>\n",
              "\t<tr><th scope=col>&lt;dbl&gt;</th><th scope=col>&lt;dbl&gt;</th><th scope=col>&lt;dbl&gt;</th><th scope=col>&lt;dbl&gt;</th><th scope=col>&lt;dbl&gt;</th><th scope=col>&lt;fct&gt;</th><th scope=col>&lt;dbl&gt;</th><th scope=col>&lt;dbl&gt;</th><th scope=col>&lt;dbl&gt;</th><th scope=col>&lt;dbl&gt;</th><th scope=col>⋯</th><th scope=col>&lt;dbl&gt;</th><th scope=col>&lt;dbl&gt;</th><th scope=col>&lt;dbl&gt;</th><th scope=col>&lt;dbl&gt;</th><th scope=col>&lt;dbl&gt;</th><th scope=col>&lt;dbl&gt;</th><th scope=col>&lt;dbl&gt;</th><th scope=col>&lt;dbl&gt;</th><th scope=col>&lt;dbl&gt;</th><th scope=col>&lt;dbl&gt;</th></tr>\n",
              "</thead>\n",
              "<tbody>\n",
              "\t<tr><td>-0.6890871</td><td> 0.3570417</td><td>-0.28795077</td><td>-0.8933736</td><td>-1.00131507</td><td>0</td><td>0</td><td>1</td><td>0</td><td>1</td><td>⋯</td><td>0</td><td>0</td><td>0</td><td>0</td><td>0</td><td>0</td><td>0</td><td>1</td><td>0</td><td>1</td></tr>\n",
              "\t<tr><td>-0.1550825</td><td> 1.3248570</td><td>-0.08970112</td><td> 0.1928144</td><td>-0.21055691</td><td>0</td><td>0</td><td>1</td><td>1</td><td>0</td><td>⋯</td><td>0</td><td>0</td><td>0</td><td>0</td><td>0</td><td>0</td><td>1</td><td>0</td><td>0</td><td>0</td></tr>\n",
              "\t<tr><td>-0.1550825</td><td> 1.0667729</td><td>-0.02361791</td><td> 0.1928144</td><td> 0.05302915</td><td>0</td><td>0</td><td>1</td><td>0</td><td>1</td><td>⋯</td><td>0</td><td>0</td><td>0</td><td>0</td><td>0</td><td>1</td><td>0</td><td>0</td><td>0</td><td>1</td></tr>\n",
              "\t<tr><td>-1.0094899</td><td> 0.6796468</td><td>-0.22186756</td><td>-0.8933736</td><td>-0.47414296</td><td>0</td><td>0</td><td>1</td><td>0</td><td>1</td><td>⋯</td><td>0</td><td>0</td><td>0</td><td>0</td><td>1</td><td>0</td><td>0</td><td>0</td><td>0</td><td>1</td></tr>\n",
              "\t<tr><td>-0.9026890</td><td>-1.5785887</td><td>-0.48620042</td><td>-0.8933736</td><td>-1.26490112</td><td>0</td><td>0</td><td>1</td><td>1</td><td>0</td><td>⋯</td><td>1</td><td>0</td><td>0</td><td>0</td><td>0</td><td>0</td><td>0</td><td>0</td><td>1</td><td>1</td></tr>\n",
              "\t<tr><td>-0.5822862</td><td> 0.2925207</td><td>-0.28795077</td><td> 0.1928144</td><td>-1.00131507</td><td>0</td><td>0</td><td>1</td><td>0</td><td>1</td><td>⋯</td><td>0</td><td>0</td><td>0</td><td>0</td><td>1</td><td>0</td><td>0</td><td>0</td><td>0</td><td>0</td></tr>\n",
              "\t<tr><td> 1.1265285</td><td> 0.4215628</td><td> 1.43021285</td><td> 0.1928144</td><td> 0.84378731</td><td>0</td><td>0</td><td>1</td><td>1</td><td>0</td><td>⋯</td><td>0</td><td>0</td><td>0</td><td>0</td><td>1</td><td>0</td><td>0</td><td>0</td><td>0</td><td>0</td></tr>\n",
              "\t<tr><td>-0.5822862</td><td> 0.4215628</td><td>-0.55228364</td><td>-0.8933736</td><td> 0.05302915</td><td>0</td><td>0</td><td>1</td><td>0</td><td>1</td><td>⋯</td><td>0</td><td>0</td><td>0</td><td>0</td><td>0</td><td>0</td><td>1</td><td>0</td><td>0</td><td>0</td></tr>\n",
              "\t<tr><td> 0.1653202</td><td> 0.2279997</td><td>-0.08970112</td><td> 0.1928144</td><td>-0.47414296</td><td>0</td><td>0</td><td>1</td><td>0</td><td>1</td><td>⋯</td><td>0</td><td>0</td><td>0</td><td>0</td><td>0</td><td>1</td><td>0</td><td>0</td><td>0</td><td>1</td></tr>\n",
              "\t<tr><td>-0.4754853</td><td> 0.9377309</td><td> 0.17463174</td><td>-0.8933736</td><td> 0.58020125</td><td>0</td><td>0</td><td>1</td><td>0</td><td>1</td><td>⋯</td><td>0</td><td>0</td><td>0</td><td>0</td><td>1</td><td>0</td><td>0</td><td>0</td><td>0</td><td>1</td></tr>\n",
              "</tbody>\n",
              "</table>\n"
            ],
            "text/markdown": "\nA tibble: 10 × 28\n\n| duree &lt;dbl&gt; | age &lt;dbl&gt; | nbActe &lt;dbl&gt; | nbRum &lt;dbl&gt; | nbda &lt;dbl&gt; | target &lt;fct&gt; | modeEntree_X7 &lt;dbl&gt; | modeEntree_X8 &lt;dbl&gt; | modeSortie_X7 &lt;dbl&gt; | modeSortie_X8 &lt;dbl&gt; | ⋯ ⋯ | ghm2_X01M31T &lt;dbl&gt; | ghm2_other &lt;dbl&gt; | dp_I633 &lt;dbl&gt; | dp_I634 &lt;dbl&gt; | dp_I635 &lt;dbl&gt; | dp_I638 &lt;dbl&gt; | dp_I639 &lt;dbl&gt; | dp_I652 &lt;dbl&gt; | dp_other &lt;dbl&gt; | sexe_X2 &lt;dbl&gt; |\n|---|---|---|---|---|---|---|---|---|---|---|---|---|---|---|---|---|---|---|---|---|\n| -0.6890871 |  0.3570417 | -0.28795077 | -0.8933736 | -1.00131507 | 0 | 0 | 1 | 0 | 1 | ⋯ | 0 | 0 | 0 | 0 | 0 | 0 | 0 | 1 | 0 | 1 |\n| -0.1550825 |  1.3248570 | -0.08970112 |  0.1928144 | -0.21055691 | 0 | 0 | 1 | 1 | 0 | ⋯ | 0 | 0 | 0 | 0 | 0 | 0 | 1 | 0 | 0 | 0 |\n| -0.1550825 |  1.0667729 | -0.02361791 |  0.1928144 |  0.05302915 | 0 | 0 | 1 | 0 | 1 | ⋯ | 0 | 0 | 0 | 0 | 0 | 1 | 0 | 0 | 0 | 1 |\n| -1.0094899 |  0.6796468 | -0.22186756 | -0.8933736 | -0.47414296 | 0 | 0 | 1 | 0 | 1 | ⋯ | 0 | 0 | 0 | 0 | 1 | 0 | 0 | 0 | 0 | 1 |\n| -0.9026890 | -1.5785887 | -0.48620042 | -0.8933736 | -1.26490112 | 0 | 0 | 1 | 1 | 0 | ⋯ | 1 | 0 | 0 | 0 | 0 | 0 | 0 | 0 | 1 | 1 |\n| -0.5822862 |  0.2925207 | -0.28795077 |  0.1928144 | -1.00131507 | 0 | 0 | 1 | 0 | 1 | ⋯ | 0 | 0 | 0 | 0 | 1 | 0 | 0 | 0 | 0 | 0 |\n|  1.1265285 |  0.4215628 |  1.43021285 |  0.1928144 |  0.84378731 | 0 | 0 | 1 | 1 | 0 | ⋯ | 0 | 0 | 0 | 0 | 1 | 0 | 0 | 0 | 0 | 0 |\n| -0.5822862 |  0.4215628 | -0.55228364 | -0.8933736 |  0.05302915 | 0 | 0 | 1 | 0 | 1 | ⋯ | 0 | 0 | 0 | 0 | 0 | 0 | 1 | 0 | 0 | 0 |\n|  0.1653202 |  0.2279997 | -0.08970112 |  0.1928144 | -0.47414296 | 0 | 0 | 1 | 0 | 1 | ⋯ | 0 | 0 | 0 | 0 | 0 | 1 | 0 | 0 | 0 | 1 |\n| -0.4754853 |  0.9377309 |  0.17463174 | -0.8933736 |  0.58020125 | 0 | 0 | 1 | 0 | 1 | ⋯ | 0 | 0 | 0 | 0 | 1 | 0 | 0 | 0 | 0 | 1 |\n\n",
            "text/latex": "A tibble: 10 × 28\n\\begin{tabular}{lllllllllllllllllllll}\n duree & age & nbActe & nbRum & nbda & target & modeEntree\\_X7 & modeEntree\\_X8 & modeSortie\\_X7 & modeSortie\\_X8 & ⋯ & ghm2\\_X01M31T & ghm2\\_other & dp\\_I633 & dp\\_I634 & dp\\_I635 & dp\\_I638 & dp\\_I639 & dp\\_I652 & dp\\_other & sexe\\_X2\\\\\n <dbl> & <dbl> & <dbl> & <dbl> & <dbl> & <fct> & <dbl> & <dbl> & <dbl> & <dbl> & ⋯ & <dbl> & <dbl> & <dbl> & <dbl> & <dbl> & <dbl> & <dbl> & <dbl> & <dbl> & <dbl>\\\\\n\\hline\n\t -0.6890871 &  0.3570417 & -0.28795077 & -0.8933736 & -1.00131507 & 0 & 0 & 1 & 0 & 1 & ⋯ & 0 & 0 & 0 & 0 & 0 & 0 & 0 & 1 & 0 & 1\\\\\n\t -0.1550825 &  1.3248570 & -0.08970112 &  0.1928144 & -0.21055691 & 0 & 0 & 1 & 1 & 0 & ⋯ & 0 & 0 & 0 & 0 & 0 & 0 & 1 & 0 & 0 & 0\\\\\n\t -0.1550825 &  1.0667729 & -0.02361791 &  0.1928144 &  0.05302915 & 0 & 0 & 1 & 0 & 1 & ⋯ & 0 & 0 & 0 & 0 & 0 & 1 & 0 & 0 & 0 & 1\\\\\n\t -1.0094899 &  0.6796468 & -0.22186756 & -0.8933736 & -0.47414296 & 0 & 0 & 1 & 0 & 1 & ⋯ & 0 & 0 & 0 & 0 & 1 & 0 & 0 & 0 & 0 & 1\\\\\n\t -0.9026890 & -1.5785887 & -0.48620042 & -0.8933736 & -1.26490112 & 0 & 0 & 1 & 1 & 0 & ⋯ & 1 & 0 & 0 & 0 & 0 & 0 & 0 & 0 & 1 & 1\\\\\n\t -0.5822862 &  0.2925207 & -0.28795077 &  0.1928144 & -1.00131507 & 0 & 0 & 1 & 0 & 1 & ⋯ & 0 & 0 & 0 & 0 & 1 & 0 & 0 & 0 & 0 & 0\\\\\n\t  1.1265285 &  0.4215628 &  1.43021285 &  0.1928144 &  0.84378731 & 0 & 0 & 1 & 1 & 0 & ⋯ & 0 & 0 & 0 & 0 & 1 & 0 & 0 & 0 & 0 & 0\\\\\n\t -0.5822862 &  0.4215628 & -0.55228364 & -0.8933736 &  0.05302915 & 0 & 0 & 1 & 0 & 1 & ⋯ & 0 & 0 & 0 & 0 & 0 & 0 & 1 & 0 & 0 & 0\\\\\n\t  0.1653202 &  0.2279997 & -0.08970112 &  0.1928144 & -0.47414296 & 0 & 0 & 1 & 0 & 1 & ⋯ & 0 & 0 & 0 & 0 & 0 & 1 & 0 & 0 & 0 & 1\\\\\n\t -0.4754853 &  0.9377309 &  0.17463174 & -0.8933736 &  0.58020125 & 0 & 0 & 1 & 0 & 1 & ⋯ & 0 & 0 & 0 & 0 & 1 & 0 & 0 & 0 & 0 & 1\\\\\n\\end{tabular}\n",
            "text/plain": [
              "   duree      age        nbActe      nbRum      nbda        target\n",
              "1  -0.6890871  0.3570417 -0.28795077 -0.8933736 -1.00131507 0     \n",
              "2  -0.1550825  1.3248570 -0.08970112  0.1928144 -0.21055691 0     \n",
              "3  -0.1550825  1.0667729 -0.02361791  0.1928144  0.05302915 0     \n",
              "4  -1.0094899  0.6796468 -0.22186756 -0.8933736 -0.47414296 0     \n",
              "5  -0.9026890 -1.5785887 -0.48620042 -0.8933736 -1.26490112 0     \n",
              "6  -0.5822862  0.2925207 -0.28795077  0.1928144 -1.00131507 0     \n",
              "7   1.1265285  0.4215628  1.43021285  0.1928144  0.84378731 0     \n",
              "8  -0.5822862  0.4215628 -0.55228364 -0.8933736  0.05302915 0     \n",
              "9   0.1653202  0.2279997 -0.08970112  0.1928144 -0.47414296 0     \n",
              "10 -0.4754853  0.9377309  0.17463174 -0.8933736  0.58020125 0     \n",
              "   modeEntree_X7 modeEntree_X8 modeSortie_X7 modeSortie_X8 ⋯ ghm2_X01M31T\n",
              "1  0             1             0             1             ⋯ 0           \n",
              "2  0             1             1             0             ⋯ 0           \n",
              "3  0             1             0             1             ⋯ 0           \n",
              "4  0             1             0             1             ⋯ 0           \n",
              "5  0             1             1             0             ⋯ 1           \n",
              "6  0             1             0             1             ⋯ 0           \n",
              "7  0             1             1             0             ⋯ 0           \n",
              "8  0             1             0             1             ⋯ 0           \n",
              "9  0             1             0             1             ⋯ 0           \n",
              "10 0             1             0             1             ⋯ 0           \n",
              "   ghm2_other dp_I633 dp_I634 dp_I635 dp_I638 dp_I639 dp_I652 dp_other sexe_X2\n",
              "1  0          0       0       0       0       0       1       0        1      \n",
              "2  0          0       0       0       0       1       0       0        0      \n",
              "3  0          0       0       0       1       0       0       0        1      \n",
              "4  0          0       0       1       0       0       0       0        1      \n",
              "5  0          0       0       0       0       0       0       1        1      \n",
              "6  0          0       0       1       0       0       0       0        0      \n",
              "7  0          0       0       1       0       0       0       0        0      \n",
              "8  0          0       0       0       0       1       0       0        0      \n",
              "9  0          0       0       0       1       0       0       0        1      \n",
              "10 0          0       0       1       0       0       0       0        1      "
            ]
          },
          "metadata": {}
        },
        {
          "output_type": "display_data",
          "data": {
            "text/html": [
              "<style>\n",
              ".list-inline {list-style: none; margin:0; padding: 0}\n",
              ".list-inline>li {display: inline-block}\n",
              ".list-inline>li:not(:last-child)::after {content: \"\\00b7\"; padding: 0 .5ex}\n",
              "</style>\n",
              "<ol class=list-inline><li>845</li><li>28</li></ol>\n"
            ],
            "text/markdown": "1. 845\n2. 28\n\n\n",
            "text/latex": "\\begin{enumerate*}\n\\item 845\n\\item 28\n\\end{enumerate*}\n",
            "text/plain": [
              "[1] 845  28"
            ]
          },
          "metadata": {}
        }
      ]
    },
    {
      "cell_type": "markdown",
      "source": [
        "## 2.2 Interacting recipe"
      ],
      "metadata": {
        "id": "9m4qRonYHLag"
      }
    },
    {
      "cell_type": "code",
      "source": [
        "rec_inter <- rec_basic %>%\n",
        "  step_interact(~age : duree) %>%\n",
        "  step_interact(~age : starts_with(\"dp_\"))  # déconseiller de croiser l'ensemble des variables --> couter bcp trop\n",
        "\n",
        "head(juice(prep(rec_inter)))"
      ],
      "metadata": {
        "colab": {
          "base_uri": "https://localhost:8080/",
          "height": 306
        },
        "id": "k2-qo8rhHNAr",
        "outputId": "56b10ae3-f915-4b7f-976c-2d5994eb9a5d"
      },
      "execution_count": 16,
      "outputs": [
        {
          "output_type": "display_data",
          "data": {
            "text/html": [
              "<table class=\"dataframe\">\n",
              "<caption>A tibble: 6 × 36</caption>\n",
              "<thead>\n",
              "\t<tr><th scope=col>duree</th><th scope=col>age</th><th scope=col>nbActe</th><th scope=col>nbRum</th><th scope=col>nbda</th><th scope=col>target</th><th scope=col>modeEntree_X7</th><th scope=col>modeEntree_X8</th><th scope=col>modeSortie_X7</th><th scope=col>modeSortie_X8</th><th scope=col>⋯</th><th scope=col>dp_other</th><th scope=col>sexe_X2</th><th scope=col>age_x_duree</th><th scope=col>age_x_dp_I633</th><th scope=col>age_x_dp_I634</th><th scope=col>age_x_dp_I635</th><th scope=col>age_x_dp_I638</th><th scope=col>age_x_dp_I639</th><th scope=col>age_x_dp_I652</th><th scope=col>age_x_dp_other</th></tr>\n",
              "\t<tr><th scope=col>&lt;dbl&gt;</th><th scope=col>&lt;dbl&gt;</th><th scope=col>&lt;dbl&gt;</th><th scope=col>&lt;dbl&gt;</th><th scope=col>&lt;dbl&gt;</th><th scope=col>&lt;fct&gt;</th><th scope=col>&lt;dbl&gt;</th><th scope=col>&lt;dbl&gt;</th><th scope=col>&lt;dbl&gt;</th><th scope=col>&lt;dbl&gt;</th><th scope=col>⋯</th><th scope=col>&lt;dbl&gt;</th><th scope=col>&lt;dbl&gt;</th><th scope=col>&lt;dbl&gt;</th><th scope=col>&lt;dbl&gt;</th><th scope=col>&lt;dbl&gt;</th><th scope=col>&lt;dbl&gt;</th><th scope=col>&lt;dbl&gt;</th><th scope=col>&lt;dbl&gt;</th><th scope=col>&lt;dbl&gt;</th><th scope=col>&lt;dbl&gt;</th></tr>\n",
              "</thead>\n",
              "<tbody>\n",
              "\t<tr><td>-0.6890871</td><td> 0.3570417</td><td>-0.28795077</td><td>-0.8933736</td><td>-1.00131507</td><td>0</td><td>0</td><td>1</td><td>0</td><td>1</td><td>⋯</td><td>0</td><td>1</td><td>-0.2460329</td><td>0</td><td>0</td><td>0.0000000</td><td>0.000000</td><td>0.000000</td><td>0.3570417</td><td> 0.000000</td></tr>\n",
              "\t<tr><td>-0.1550825</td><td> 1.3248570</td><td>-0.08970112</td><td> 0.1928144</td><td>-0.21055691</td><td>0</td><td>0</td><td>1</td><td>1</td><td>0</td><td>⋯</td><td>0</td><td>0</td><td>-0.2054622</td><td>0</td><td>0</td><td>0.0000000</td><td>0.000000</td><td>1.324857</td><td>0.0000000</td><td> 0.000000</td></tr>\n",
              "\t<tr><td>-0.1550825</td><td> 1.0667729</td><td>-0.02361791</td><td> 0.1928144</td><td> 0.05302915</td><td>0</td><td>0</td><td>1</td><td>0</td><td>1</td><td>⋯</td><td>0</td><td>1</td><td>-0.1654378</td><td>0</td><td>0</td><td>0.0000000</td><td>1.066773</td><td>0.000000</td><td>0.0000000</td><td> 0.000000</td></tr>\n",
              "\t<tr><td>-1.0094899</td><td> 0.6796468</td><td>-0.22186756</td><td>-0.8933736</td><td>-0.47414296</td><td>0</td><td>0</td><td>1</td><td>0</td><td>1</td><td>⋯</td><td>0</td><td>1</td><td>-0.6860966</td><td>0</td><td>0</td><td>0.6796468</td><td>0.000000</td><td>0.000000</td><td>0.0000000</td><td> 0.000000</td></tr>\n",
              "\t<tr><td>-0.9026890</td><td>-1.5785887</td><td>-0.48620042</td><td>-0.8933736</td><td>-1.26490112</td><td>0</td><td>0</td><td>1</td><td>1</td><td>0</td><td>⋯</td><td>1</td><td>1</td><td> 1.4249746</td><td>0</td><td>0</td><td>0.0000000</td><td>0.000000</td><td>0.000000</td><td>0.0000000</td><td>-1.578589</td></tr>\n",
              "\t<tr><td>-0.5822862</td><td> 0.2925207</td><td>-0.28795077</td><td> 0.1928144</td><td>-1.00131507</td><td>0</td><td>0</td><td>1</td><td>0</td><td>1</td><td>⋯</td><td>0</td><td>0</td><td>-0.1703308</td><td>0</td><td>0</td><td>0.2925207</td><td>0.000000</td><td>0.000000</td><td>0.0000000</td><td> 0.000000</td></tr>\n",
              "</tbody>\n",
              "</table>\n"
            ],
            "text/markdown": "\nA tibble: 6 × 36\n\n| duree &lt;dbl&gt; | age &lt;dbl&gt; | nbActe &lt;dbl&gt; | nbRum &lt;dbl&gt; | nbda &lt;dbl&gt; | target &lt;fct&gt; | modeEntree_X7 &lt;dbl&gt; | modeEntree_X8 &lt;dbl&gt; | modeSortie_X7 &lt;dbl&gt; | modeSortie_X8 &lt;dbl&gt; | ⋯ ⋯ | dp_other &lt;dbl&gt; | sexe_X2 &lt;dbl&gt; | age_x_duree &lt;dbl&gt; | age_x_dp_I633 &lt;dbl&gt; | age_x_dp_I634 &lt;dbl&gt; | age_x_dp_I635 &lt;dbl&gt; | age_x_dp_I638 &lt;dbl&gt; | age_x_dp_I639 &lt;dbl&gt; | age_x_dp_I652 &lt;dbl&gt; | age_x_dp_other &lt;dbl&gt; |\n|---|---|---|---|---|---|---|---|---|---|---|---|---|---|---|---|---|---|---|---|---|\n| -0.6890871 |  0.3570417 | -0.28795077 | -0.8933736 | -1.00131507 | 0 | 0 | 1 | 0 | 1 | ⋯ | 0 | 1 | -0.2460329 | 0 | 0 | 0.0000000 | 0.000000 | 0.000000 | 0.3570417 |  0.000000 |\n| -0.1550825 |  1.3248570 | -0.08970112 |  0.1928144 | -0.21055691 | 0 | 0 | 1 | 1 | 0 | ⋯ | 0 | 0 | -0.2054622 | 0 | 0 | 0.0000000 | 0.000000 | 1.324857 | 0.0000000 |  0.000000 |\n| -0.1550825 |  1.0667729 | -0.02361791 |  0.1928144 |  0.05302915 | 0 | 0 | 1 | 0 | 1 | ⋯ | 0 | 1 | -0.1654378 | 0 | 0 | 0.0000000 | 1.066773 | 0.000000 | 0.0000000 |  0.000000 |\n| -1.0094899 |  0.6796468 | -0.22186756 | -0.8933736 | -0.47414296 | 0 | 0 | 1 | 0 | 1 | ⋯ | 0 | 1 | -0.6860966 | 0 | 0 | 0.6796468 | 0.000000 | 0.000000 | 0.0000000 |  0.000000 |\n| -0.9026890 | -1.5785887 | -0.48620042 | -0.8933736 | -1.26490112 | 0 | 0 | 1 | 1 | 0 | ⋯ | 1 | 1 |  1.4249746 | 0 | 0 | 0.0000000 | 0.000000 | 0.000000 | 0.0000000 | -1.578589 |\n| -0.5822862 |  0.2925207 | -0.28795077 |  0.1928144 | -1.00131507 | 0 | 0 | 1 | 0 | 1 | ⋯ | 0 | 0 | -0.1703308 | 0 | 0 | 0.2925207 | 0.000000 | 0.000000 | 0.0000000 |  0.000000 |\n\n",
            "text/latex": "A tibble: 6 × 36\n\\begin{tabular}{lllllllllllllllllllll}\n duree & age & nbActe & nbRum & nbda & target & modeEntree\\_X7 & modeEntree\\_X8 & modeSortie\\_X7 & modeSortie\\_X8 & ⋯ & dp\\_other & sexe\\_X2 & age\\_x\\_duree & age\\_x\\_dp\\_I633 & age\\_x\\_dp\\_I634 & age\\_x\\_dp\\_I635 & age\\_x\\_dp\\_I638 & age\\_x\\_dp\\_I639 & age\\_x\\_dp\\_I652 & age\\_x\\_dp\\_other\\\\\n <dbl> & <dbl> & <dbl> & <dbl> & <dbl> & <fct> & <dbl> & <dbl> & <dbl> & <dbl> & ⋯ & <dbl> & <dbl> & <dbl> & <dbl> & <dbl> & <dbl> & <dbl> & <dbl> & <dbl> & <dbl>\\\\\n\\hline\n\t -0.6890871 &  0.3570417 & -0.28795077 & -0.8933736 & -1.00131507 & 0 & 0 & 1 & 0 & 1 & ⋯ & 0 & 1 & -0.2460329 & 0 & 0 & 0.0000000 & 0.000000 & 0.000000 & 0.3570417 &  0.000000\\\\\n\t -0.1550825 &  1.3248570 & -0.08970112 &  0.1928144 & -0.21055691 & 0 & 0 & 1 & 1 & 0 & ⋯ & 0 & 0 & -0.2054622 & 0 & 0 & 0.0000000 & 0.000000 & 1.324857 & 0.0000000 &  0.000000\\\\\n\t -0.1550825 &  1.0667729 & -0.02361791 &  0.1928144 &  0.05302915 & 0 & 0 & 1 & 0 & 1 & ⋯ & 0 & 1 & -0.1654378 & 0 & 0 & 0.0000000 & 1.066773 & 0.000000 & 0.0000000 &  0.000000\\\\\n\t -1.0094899 &  0.6796468 & -0.22186756 & -0.8933736 & -0.47414296 & 0 & 0 & 1 & 0 & 1 & ⋯ & 0 & 1 & -0.6860966 & 0 & 0 & 0.6796468 & 0.000000 & 0.000000 & 0.0000000 &  0.000000\\\\\n\t -0.9026890 & -1.5785887 & -0.48620042 & -0.8933736 & -1.26490112 & 0 & 0 & 1 & 1 & 0 & ⋯ & 1 & 1 &  1.4249746 & 0 & 0 & 0.0000000 & 0.000000 & 0.000000 & 0.0000000 & -1.578589\\\\\n\t -0.5822862 &  0.2925207 & -0.28795077 &  0.1928144 & -1.00131507 & 0 & 0 & 1 & 0 & 1 & ⋯ & 0 & 0 & -0.1703308 & 0 & 0 & 0.2925207 & 0.000000 & 0.000000 & 0.0000000 &  0.000000\\\\\n\\end{tabular}\n",
            "text/plain": [
              "  duree      age        nbActe      nbRum      nbda        target modeEntree_X7\n",
              "1 -0.6890871  0.3570417 -0.28795077 -0.8933736 -1.00131507 0      0            \n",
              "2 -0.1550825  1.3248570 -0.08970112  0.1928144 -0.21055691 0      0            \n",
              "3 -0.1550825  1.0667729 -0.02361791  0.1928144  0.05302915 0      0            \n",
              "4 -1.0094899  0.6796468 -0.22186756 -0.8933736 -0.47414296 0      0            \n",
              "5 -0.9026890 -1.5785887 -0.48620042 -0.8933736 -1.26490112 0      0            \n",
              "6 -0.5822862  0.2925207 -0.28795077  0.1928144 -1.00131507 0      0            \n",
              "  modeEntree_X8 modeSortie_X7 modeSortie_X8 ⋯ dp_other sexe_X2 age_x_duree\n",
              "1 1             0             1             ⋯ 0        1       -0.2460329 \n",
              "2 1             1             0             ⋯ 0        0       -0.2054622 \n",
              "3 1             0             1             ⋯ 0        1       -0.1654378 \n",
              "4 1             0             1             ⋯ 0        1       -0.6860966 \n",
              "5 1             1             0             ⋯ 1        1        1.4249746 \n",
              "6 1             0             1             ⋯ 0        0       -0.1703308 \n",
              "  age_x_dp_I633 age_x_dp_I634 age_x_dp_I635 age_x_dp_I638 age_x_dp_I639\n",
              "1 0             0             0.0000000     0.000000      0.000000     \n",
              "2 0             0             0.0000000     0.000000      1.324857     \n",
              "3 0             0             0.0000000     1.066773      0.000000     \n",
              "4 0             0             0.6796468     0.000000      0.000000     \n",
              "5 0             0             0.0000000     0.000000      0.000000     \n",
              "6 0             0             0.2925207     0.000000      0.000000     \n",
              "  age_x_dp_I652 age_x_dp_other\n",
              "1 0.3570417      0.000000     \n",
              "2 0.0000000      0.000000     \n",
              "3 0.0000000      0.000000     \n",
              "4 0.0000000      0.000000     \n",
              "5 0.0000000     -1.578589     \n",
              "6 0.0000000      0.000000     "
            ]
          },
          "metadata": {}
        }
      ]
    },
    {
      "cell_type": "markdown",
      "source": [
        "## 2.3 spline recipe"
      ],
      "metadata": {
        "id": "Fcu-NkfLI7rh"
      }
    },
    {
      "cell_type": "code",
      "source": [
        "rec_spline <- rec_basic %>%\n",
        "  step_ns(deg_free = tune())  # degré polynomial + nb noeuds"
      ],
      "metadata": {
        "id": "01_M7s2ZI9ZB"
      },
      "execution_count": 17,
      "outputs": []
    },
    {
      "cell_type": "code",
      "source": [
        "rec_spline"
      ],
      "metadata": {
        "colab": {
          "base_uri": "https://localhost:8080/"
        },
        "id": "XiIRBWbvKsb1",
        "outputId": "d43b03eb-e543-42b9-cdb5-dd8a503b6e33"
      },
      "execution_count": 138,
      "outputs": [
        {
          "output_type": "stream",
          "name": "stderr",
          "text": [
            "\n",
            "\n",
            "\u001b[36m──\u001b[39m \u001b[1mRecipe\u001b[22m \u001b[36m──────────────────────────────────────────────────────────────────────\u001b[39m\n",
            "\n",
            "\n",
            "\n",
            "── Inputs \n",
            "\n",
            "Number of variables by role\n",
            "\n",
            "outcome:    1\n",
            "predictor: 10\n",
            "\n",
            "\n",
            "\n",
            "── Operations \n",
            "\n",
            "\u001b[36m•\u001b[39m Mean imputation for: \u001b[34mall_numeric_predictors()\u001b[39m\n",
            "\n",
            "\u001b[36m•\u001b[39m Mode imputation for: \u001b[34mall_nominal_predictors()\u001b[39m\n",
            "\n",
            "\u001b[36m•\u001b[39m Centering and scaling for: \u001b[34mall_numeric_predictors()\u001b[39m\n",
            "\n",
            "\u001b[36m•\u001b[39m Collapsing factor levels for: \u001b[34mdp\u001b[39m\n",
            "\n",
            "\u001b[36m•\u001b[39m Collapsing factor levels for: \u001b[34mghm2\u001b[39m\n",
            "\n",
            "\u001b[36m•\u001b[39m Dummy variables from: \u001b[34mall_nominal_predictors()\u001b[39m\n",
            "\n",
            "\u001b[36m•\u001b[39m Natural splines on: \u001b[34m<none>\u001b[39m\n",
            "\n"
          ]
        }
      ]
    },
    {
      "cell_type": "markdown",
      "source": [
        "## 2.4 Interaction + spline recipe"
      ],
      "metadata": {
        "id": "BCVUH9DfJSy3"
      }
    },
    {
      "cell_type": "code",
      "source": [
        "rec_spline_int <- rec_inter %>%\n"
      ],
      "metadata": {
        "id": "RK8cyUu6J-eH"
      },
      "execution_count": null,
      "outputs": []
    },
    {
      "cell_type": "markdown",
      "source": [
        "# 3 Parsnip librairy : creating and fitting a model\n",
        "\n",
        "## 3.1 Regression logistic : model and workflow\n"
      ],
      "metadata": {
        "id": "3CCYrRl3tZLr"
      }
    },
    {
      "cell_type": "code",
      "source": [
        "log_mod <- logistic_reg() %>%\n",
        "  set_engine(\"glm\") %>%\n",
        "    set_mode(\"classification\")"
      ],
      "metadata": {
        "id": "ip2r7jS9tDOa"
      },
      "execution_count": 19,
      "outputs": []
    },
    {
      "cell_type": "code",
      "source": [
        "log_wf <- workflow() %>%\n",
        "  add_recipe(rec_basic) %>%\n",
        "    add_model(log_mod)\n",
        "\n",
        "fit(log_wf, train_set)\n",
        "wf_fitted <- log_wf %>% fit(train_set)\n",
        "\n",
        "# predict(wf_fitted, eval_set)\n",
        "# predict(wf_fitted, eval_set, type=\"prob\")\n",
        "\n",
        "log_pred <- eval_set %>%\n",
        "   select(target) %>%\n",
        "   bind_cols(\n",
        "      predict(wf_fitted, eval_set),\n",
        "      predict(wf_fitted, eval_set, type=\"prob\")\n",
        "   )\n",
        "\n",
        "\n",
        "log_pred %>% head(10)"
      ],
      "metadata": {
        "colab": {
          "base_uri": "https://localhost:8080/",
          "height": 1000
        },
        "id": "TVwkIC7HuS_p",
        "outputId": "879bdd53-cadd-4e98-8eb4-729c432c1ce7"
      },
      "execution_count": 20,
      "outputs": [
        {
          "output_type": "display_data",
          "data": {
            "text/plain": [
              "══ Workflow [trained] ══════════════════════════════════════════════════════════\n",
              "\u001b[3mPreprocessor:\u001b[23m Recipe\n",
              "\u001b[3mModel:\u001b[23m logistic_reg()\n",
              "\n",
              "── Preprocessor ────────────────────────────────────────────────────────────────\n",
              "6 Recipe Steps\n",
              "\n",
              "• step_impute_mean()\n",
              "• step_impute_mode()\n",
              "• step_normalize()\n",
              "• step_other()\n",
              "• step_other()\n",
              "• step_dummy()\n",
              "\n",
              "── Model ───────────────────────────────────────────────────────────────────────\n",
              "\n",
              "Call:  stats::glm(formula = ..y ~ ., family = stats::binomial, data = data)\n",
              "\n",
              "Coefficients:\n",
              "  (Intercept)          duree            age         nbActe          nbRum  \n",
              "     16.30483        0.05874       -0.04969       -0.05835       -0.26738  \n",
              "         nbda  modeEntree_X7  modeEntree_X8  modeSortie_X7  modeSortie_X8  \n",
              "      0.06444        0.58134        1.27976      -22.59611      -21.47789  \n",
              " ghm2_X01C062   ghm2_X01M301   ghm2_X01M302   ghm2_X01M303   ghm2_X01M304  \n",
              "     -0.25437       -0.13896        0.84424        0.70689        2.22777  \n",
              " ghm2_X01M30T   ghm2_X01M311   ghm2_X01M312   ghm2_X01M31T     ghm2_other  \n",
              "      0.53993        2.30002        2.62991        1.21469        1.39342  \n",
              "      dp_I633        dp_I634        dp_I635        dp_I638        dp_I639  \n",
              "      1.09806        0.97398        0.50602        0.88502        1.65731  \n",
              "      dp_I652       dp_other        sexe_X2  \n",
              "      1.70469        0.23259       -0.63315  \n",
              "\n",
              "Degrees of Freedom: 844 Total (i.e. Null);  817 Residual\n",
              "Null Deviance:\t    758.8 \n",
              "Residual Deviance: 307.9 \tAIC: 363.9"
            ]
          },
          "metadata": {}
        },
        {
          "output_type": "display_data",
          "data": {
            "text/html": [
              "<table class=\"dataframe\">\n",
              "<caption>A data.table: 10 × 4</caption>\n",
              "<thead>\n",
              "\t<tr><th scope=col>target</th><th scope=col>.pred_class</th><th scope=col>.pred_0</th><th scope=col>.pred_1</th></tr>\n",
              "\t<tr><th scope=col>&lt;fct&gt;</th><th scope=col>&lt;fct&gt;</th><th scope=col>&lt;dbl&gt;</th><th scope=col>&lt;dbl&gt;</th></tr>\n",
              "</thead>\n",
              "<tbody>\n",
              "\t<tr><td>0</td><td>0</td><td>0.9303006</td><td>0.069699372</td></tr>\n",
              "\t<tr><td>0</td><td>0</td><td>0.9686659</td><td>0.031334074</td></tr>\n",
              "\t<tr><td>0</td><td>0</td><td>0.9234047</td><td>0.076595316</td></tr>\n",
              "\t<tr><td>0</td><td>0</td><td>0.8786154</td><td>0.121384646</td></tr>\n",
              "\t<tr><td>0</td><td>0</td><td>0.9572263</td><td>0.042773713</td></tr>\n",
              "\t<tr><td>0</td><td>0</td><td>0.9797216</td><td>0.020278446</td></tr>\n",
              "\t<tr><td>0</td><td>0</td><td>0.9856902</td><td>0.014309809</td></tr>\n",
              "\t<tr><td>0</td><td>0</td><td>0.9929810</td><td>0.007018961</td></tr>\n",
              "\t<tr><td>0</td><td>0</td><td>0.8968301</td><td>0.103169882</td></tr>\n",
              "\t<tr><td>0</td><td>0</td><td>0.9819518</td><td>0.018048202</td></tr>\n",
              "</tbody>\n",
              "</table>\n"
            ],
            "text/markdown": "\nA data.table: 10 × 4\n\n| target &lt;fct&gt; | .pred_class &lt;fct&gt; | .pred_0 &lt;dbl&gt; | .pred_1 &lt;dbl&gt; |\n|---|---|---|---|\n| 0 | 0 | 0.9303006 | 0.069699372 |\n| 0 | 0 | 0.9686659 | 0.031334074 |\n| 0 | 0 | 0.9234047 | 0.076595316 |\n| 0 | 0 | 0.8786154 | 0.121384646 |\n| 0 | 0 | 0.9572263 | 0.042773713 |\n| 0 | 0 | 0.9797216 | 0.020278446 |\n| 0 | 0 | 0.9856902 | 0.014309809 |\n| 0 | 0 | 0.9929810 | 0.007018961 |\n| 0 | 0 | 0.8968301 | 0.103169882 |\n| 0 | 0 | 0.9819518 | 0.018048202 |\n\n",
            "text/latex": "A data.table: 10 × 4\n\\begin{tabular}{llll}\n target & .pred\\_class & .pred\\_0 & .pred\\_1\\\\\n <fct> & <fct> & <dbl> & <dbl>\\\\\n\\hline\n\t 0 & 0 & 0.9303006 & 0.069699372\\\\\n\t 0 & 0 & 0.9686659 & 0.031334074\\\\\n\t 0 & 0 & 0.9234047 & 0.076595316\\\\\n\t 0 & 0 & 0.8786154 & 0.121384646\\\\\n\t 0 & 0 & 0.9572263 & 0.042773713\\\\\n\t 0 & 0 & 0.9797216 & 0.020278446\\\\\n\t 0 & 0 & 0.9856902 & 0.014309809\\\\\n\t 0 & 0 & 0.9929810 & 0.007018961\\\\\n\t 0 & 0 & 0.8968301 & 0.103169882\\\\\n\t 0 & 0 & 0.9819518 & 0.018048202\\\\\n\\end{tabular}\n",
            "text/plain": [
              "   target .pred_class .pred_0   .pred_1    \n",
              "1  0      0           0.9303006 0.069699372\n",
              "2  0      0           0.9686659 0.031334074\n",
              "3  0      0           0.9234047 0.076595316\n",
              "4  0      0           0.8786154 0.121384646\n",
              "5  0      0           0.9572263 0.042773713\n",
              "6  0      0           0.9797216 0.020278446\n",
              "7  0      0           0.9856902 0.014309809\n",
              "8  0      0           0.9929810 0.007018961\n",
              "9  0      0           0.8968301 0.103169882\n",
              "10 0      0           0.9819518 0.018048202"
            ]
          },
          "metadata": {}
        }
      ]
    },
    {
      "cell_type": "markdown",
      "source": [
        "### 3-2 Random Forest : model and workflow\n"
      ],
      "metadata": {
        "id": "FxPdjg_y3jtl"
      }
    },
    {
      "cell_type": "code",
      "source": [
        "rf_mod <- rand_forest()%>%\n",
        "  set_engine('ranger')%>%\n",
        "  set_mode('classification')"
      ],
      "metadata": {
        "id": "xb6trInN3uXm"
      },
      "execution_count": 21,
      "outputs": []
    },
    {
      "cell_type": "code",
      "source": [
        "rf_wf <- workflow() %>%\n",
        "  add_recipe(rec_basic) %>%\n",
        "  add_model(rf_mod)\n",
        "\n",
        "rf_wf_fitted <- rf_wf %>%\n",
        "  fit(train_set)\n",
        "\n",
        "predict(rf_wf_fitted, eval_set, type = \"prob\")\n",
        "\n",
        "rf_pred <- eval_set %>%\n",
        "   select(target) %>%\n",
        "   bind_cols(\n",
        "      predict(rf_wf_fitted, eval_set, type = \"prob\"),\n",
        "      predict(rf_wf_fitted, eval_set)\n",
        "   )"
      ],
      "metadata": {
        "colab": {
          "base_uri": "https://localhost:8080/",
          "height": 1000
        },
        "id": "bFU4EKOM4jbu",
        "outputId": "25535e52-12aa-48b8-add8-af00b900e8e8"
      },
      "execution_count": 22,
      "outputs": [
        {
          "output_type": "display_data",
          "data": {
            "text/html": [
              "<table class=\"dataframe\">\n",
              "<caption>A tibble: 212 × 2</caption>\n",
              "<thead>\n",
              "\t<tr><th scope=col>.pred_0</th><th scope=col>.pred_1</th></tr>\n",
              "\t<tr><th scope=col>&lt;dbl&gt;</th><th scope=col>&lt;dbl&gt;</th></tr>\n",
              "</thead>\n",
              "<tbody>\n",
              "\t<tr><td>0.9790661</td><td>0.020933947</td></tr>\n",
              "\t<tr><td>0.9292339</td><td>0.070766066</td></tr>\n",
              "\t<tr><td>0.8499196</td><td>0.150080384</td></tr>\n",
              "\t<tr><td>0.9368707</td><td>0.063129253</td></tr>\n",
              "\t<tr><td>0.9188882</td><td>0.081111769</td></tr>\n",
              "\t<tr><td>0.9327362</td><td>0.067263828</td></tr>\n",
              "\t<tr><td>0.9487314</td><td>0.051268601</td></tr>\n",
              "\t<tr><td>0.9726738</td><td>0.027326190</td></tr>\n",
              "\t<tr><td>0.9050082</td><td>0.094991783</td></tr>\n",
              "\t<tr><td>0.9190888</td><td>0.080911212</td></tr>\n",
              "\t<tr><td>0.9722253</td><td>0.027774712</td></tr>\n",
              "\t<tr><td>0.9401671</td><td>0.059832904</td></tr>\n",
              "\t<tr><td>0.9511380</td><td>0.048861986</td></tr>\n",
              "\t<tr><td>0.9538696</td><td>0.046130352</td></tr>\n",
              "\t<tr><td>0.9757259</td><td>0.024274106</td></tr>\n",
              "\t<tr><td>0.9470769</td><td>0.052923136</td></tr>\n",
              "\t<tr><td>0.9406324</td><td>0.059367627</td></tr>\n",
              "\t<tr><td>0.9179606</td><td>0.082039424</td></tr>\n",
              "\t<tr><td>0.7061907</td><td>0.293809251</td></tr>\n",
              "\t<tr><td>0.9461206</td><td>0.053879356</td></tr>\n",
              "\t<tr><td>0.9615399</td><td>0.038460114</td></tr>\n",
              "\t<tr><td>0.9449846</td><td>0.055015362</td></tr>\n",
              "\t<tr><td>0.7451153</td><td>0.254884652</td></tr>\n",
              "\t<tr><td>0.9603018</td><td>0.039698179</td></tr>\n",
              "\t<tr><td>0.8843852</td><td>0.115614823</td></tr>\n",
              "\t<tr><td>0.7355308</td><td>0.264469183</td></tr>\n",
              "\t<tr><td>0.9316743</td><td>0.068325726</td></tr>\n",
              "\t<tr><td>0.9943993</td><td>0.005600714</td></tr>\n",
              "\t<tr><td>0.8600518</td><td>0.139948198</td></tr>\n",
              "\t<tr><td>0.9319067</td><td>0.068093334</td></tr>\n",
              "\t<tr><td>⋮</td><td>⋮</td></tr>\n",
              "\t<tr><td>0.3729866</td><td>0.627013381</td></tr>\n",
              "\t<tr><td>0.3782295</td><td>0.621770462</td></tr>\n",
              "\t<tr><td>0.3446021</td><td>0.655397880</td></tr>\n",
              "\t<tr><td>0.1942730</td><td>0.805726990</td></tr>\n",
              "\t<tr><td>0.1947834</td><td>0.805216624</td></tr>\n",
              "\t<tr><td>0.9715966</td><td>0.028403420</td></tr>\n",
              "\t<tr><td>0.8553557</td><td>0.144644348</td></tr>\n",
              "\t<tr><td>0.4608218</td><td>0.539178195</td></tr>\n",
              "\t<tr><td>0.1990302</td><td>0.800969762</td></tr>\n",
              "\t<tr><td>0.8820166</td><td>0.117983409</td></tr>\n",
              "\t<tr><td>0.7665948</td><td>0.233405210</td></tr>\n",
              "\t<tr><td>0.8631664</td><td>0.136833592</td></tr>\n",
              "\t<tr><td>0.3936542</td><td>0.606345810</td></tr>\n",
              "\t<tr><td>0.9021033</td><td>0.097896738</td></tr>\n",
              "\t<tr><td>0.2172840</td><td>0.782716041</td></tr>\n",
              "\t<tr><td>0.1864464</td><td>0.813553608</td></tr>\n",
              "\t<tr><td>0.3908853</td><td>0.609114696</td></tr>\n",
              "\t<tr><td>0.8063178</td><td>0.193682216</td></tr>\n",
              "\t<tr><td>0.9287435</td><td>0.071256509</td></tr>\n",
              "\t<tr><td>0.9745264</td><td>0.025473625</td></tr>\n",
              "\t<tr><td>0.9621384</td><td>0.037861557</td></tr>\n",
              "\t<tr><td>0.9516782</td><td>0.048321765</td></tr>\n",
              "\t<tr><td>0.8324338</td><td>0.167566205</td></tr>\n",
              "\t<tr><td>0.9467210</td><td>0.053278994</td></tr>\n",
              "\t<tr><td>0.1970442</td><td>0.802955800</td></tr>\n",
              "\t<tr><td>0.8443043</td><td>0.155695673</td></tr>\n",
              "\t<tr><td>0.9561191</td><td>0.043880922</td></tr>\n",
              "\t<tr><td>0.9317505</td><td>0.068249486</td></tr>\n",
              "\t<tr><td>0.9931164</td><td>0.006883553</td></tr>\n",
              "\t<tr><td>0.8953656</td><td>0.104634382</td></tr>\n",
              "</tbody>\n",
              "</table>\n"
            ],
            "text/markdown": "\nA tibble: 212 × 2\n\n| .pred_0 &lt;dbl&gt; | .pred_1 &lt;dbl&gt; |\n|---|---|\n| 0.9790661 | 0.020933947 |\n| 0.9292339 | 0.070766066 |\n| 0.8499196 | 0.150080384 |\n| 0.9368707 | 0.063129253 |\n| 0.9188882 | 0.081111769 |\n| 0.9327362 | 0.067263828 |\n| 0.9487314 | 0.051268601 |\n| 0.9726738 | 0.027326190 |\n| 0.9050082 | 0.094991783 |\n| 0.9190888 | 0.080911212 |\n| 0.9722253 | 0.027774712 |\n| 0.9401671 | 0.059832904 |\n| 0.9511380 | 0.048861986 |\n| 0.9538696 | 0.046130352 |\n| 0.9757259 | 0.024274106 |\n| 0.9470769 | 0.052923136 |\n| 0.9406324 | 0.059367627 |\n| 0.9179606 | 0.082039424 |\n| 0.7061907 | 0.293809251 |\n| 0.9461206 | 0.053879356 |\n| 0.9615399 | 0.038460114 |\n| 0.9449846 | 0.055015362 |\n| 0.7451153 | 0.254884652 |\n| 0.9603018 | 0.039698179 |\n| 0.8843852 | 0.115614823 |\n| 0.7355308 | 0.264469183 |\n| 0.9316743 | 0.068325726 |\n| 0.9943993 | 0.005600714 |\n| 0.8600518 | 0.139948198 |\n| 0.9319067 | 0.068093334 |\n| ⋮ | ⋮ |\n| 0.3729866 | 0.627013381 |\n| 0.3782295 | 0.621770462 |\n| 0.3446021 | 0.655397880 |\n| 0.1942730 | 0.805726990 |\n| 0.1947834 | 0.805216624 |\n| 0.9715966 | 0.028403420 |\n| 0.8553557 | 0.144644348 |\n| 0.4608218 | 0.539178195 |\n| 0.1990302 | 0.800969762 |\n| 0.8820166 | 0.117983409 |\n| 0.7665948 | 0.233405210 |\n| 0.8631664 | 0.136833592 |\n| 0.3936542 | 0.606345810 |\n| 0.9021033 | 0.097896738 |\n| 0.2172840 | 0.782716041 |\n| 0.1864464 | 0.813553608 |\n| 0.3908853 | 0.609114696 |\n| 0.8063178 | 0.193682216 |\n| 0.9287435 | 0.071256509 |\n| 0.9745264 | 0.025473625 |\n| 0.9621384 | 0.037861557 |\n| 0.9516782 | 0.048321765 |\n| 0.8324338 | 0.167566205 |\n| 0.9467210 | 0.053278994 |\n| 0.1970442 | 0.802955800 |\n| 0.8443043 | 0.155695673 |\n| 0.9561191 | 0.043880922 |\n| 0.9317505 | 0.068249486 |\n| 0.9931164 | 0.006883553 |\n| 0.8953656 | 0.104634382 |\n\n",
            "text/latex": "A tibble: 212 × 2\n\\begin{tabular}{ll}\n .pred\\_0 & .pred\\_1\\\\\n <dbl> & <dbl>\\\\\n\\hline\n\t 0.9790661 & 0.020933947\\\\\n\t 0.9292339 & 0.070766066\\\\\n\t 0.8499196 & 0.150080384\\\\\n\t 0.9368707 & 0.063129253\\\\\n\t 0.9188882 & 0.081111769\\\\\n\t 0.9327362 & 0.067263828\\\\\n\t 0.9487314 & 0.051268601\\\\\n\t 0.9726738 & 0.027326190\\\\\n\t 0.9050082 & 0.094991783\\\\\n\t 0.9190888 & 0.080911212\\\\\n\t 0.9722253 & 0.027774712\\\\\n\t 0.9401671 & 0.059832904\\\\\n\t 0.9511380 & 0.048861986\\\\\n\t 0.9538696 & 0.046130352\\\\\n\t 0.9757259 & 0.024274106\\\\\n\t 0.9470769 & 0.052923136\\\\\n\t 0.9406324 & 0.059367627\\\\\n\t 0.9179606 & 0.082039424\\\\\n\t 0.7061907 & 0.293809251\\\\\n\t 0.9461206 & 0.053879356\\\\\n\t 0.9615399 & 0.038460114\\\\\n\t 0.9449846 & 0.055015362\\\\\n\t 0.7451153 & 0.254884652\\\\\n\t 0.9603018 & 0.039698179\\\\\n\t 0.8843852 & 0.115614823\\\\\n\t 0.7355308 & 0.264469183\\\\\n\t 0.9316743 & 0.068325726\\\\\n\t 0.9943993 & 0.005600714\\\\\n\t 0.8600518 & 0.139948198\\\\\n\t 0.9319067 & 0.068093334\\\\\n\t ⋮ & ⋮\\\\\n\t 0.3729866 & 0.627013381\\\\\n\t 0.3782295 & 0.621770462\\\\\n\t 0.3446021 & 0.655397880\\\\\n\t 0.1942730 & 0.805726990\\\\\n\t 0.1947834 & 0.805216624\\\\\n\t 0.9715966 & 0.028403420\\\\\n\t 0.8553557 & 0.144644348\\\\\n\t 0.4608218 & 0.539178195\\\\\n\t 0.1990302 & 0.800969762\\\\\n\t 0.8820166 & 0.117983409\\\\\n\t 0.7665948 & 0.233405210\\\\\n\t 0.8631664 & 0.136833592\\\\\n\t 0.3936542 & 0.606345810\\\\\n\t 0.9021033 & 0.097896738\\\\\n\t 0.2172840 & 0.782716041\\\\\n\t 0.1864464 & 0.813553608\\\\\n\t 0.3908853 & 0.609114696\\\\\n\t 0.8063178 & 0.193682216\\\\\n\t 0.9287435 & 0.071256509\\\\\n\t 0.9745264 & 0.025473625\\\\\n\t 0.9621384 & 0.037861557\\\\\n\t 0.9516782 & 0.048321765\\\\\n\t 0.8324338 & 0.167566205\\\\\n\t 0.9467210 & 0.053278994\\\\\n\t 0.1970442 & 0.802955800\\\\\n\t 0.8443043 & 0.155695673\\\\\n\t 0.9561191 & 0.043880922\\\\\n\t 0.9317505 & 0.068249486\\\\\n\t 0.9931164 & 0.006883553\\\\\n\t 0.8953656 & 0.104634382\\\\\n\\end{tabular}\n",
            "text/plain": [
              "    .pred_0   .pred_1    \n",
              "1   0.9790661 0.020933947\n",
              "2   0.9292339 0.070766066\n",
              "3   0.8499196 0.150080384\n",
              "4   0.9368707 0.063129253\n",
              "5   0.9188882 0.081111769\n",
              "6   0.9327362 0.067263828\n",
              "7   0.9487314 0.051268601\n",
              "8   0.9726738 0.027326190\n",
              "9   0.9050082 0.094991783\n",
              "10  0.9190888 0.080911212\n",
              "11  0.9722253 0.027774712\n",
              "12  0.9401671 0.059832904\n",
              "13  0.9511380 0.048861986\n",
              "14  0.9538696 0.046130352\n",
              "15  0.9757259 0.024274106\n",
              "16  0.9470769 0.052923136\n",
              "17  0.9406324 0.059367627\n",
              "18  0.9179606 0.082039424\n",
              "19  0.7061907 0.293809251\n",
              "20  0.9461206 0.053879356\n",
              "21  0.9615399 0.038460114\n",
              "22  0.9449846 0.055015362\n",
              "23  0.7451153 0.254884652\n",
              "24  0.9603018 0.039698179\n",
              "25  0.8843852 0.115614823\n",
              "26  0.7355308 0.264469183\n",
              "27  0.9316743 0.068325726\n",
              "28  0.9943993 0.005600714\n",
              "29  0.8600518 0.139948198\n",
              "30  0.9319067 0.068093334\n",
              "⋮   ⋮         ⋮          \n",
              "183 0.3729866 0.627013381\n",
              "184 0.3782295 0.621770462\n",
              "185 0.3446021 0.655397880\n",
              "186 0.1942730 0.805726990\n",
              "187 0.1947834 0.805216624\n",
              "188 0.9715966 0.028403420\n",
              "189 0.8553557 0.144644348\n",
              "190 0.4608218 0.539178195\n",
              "191 0.1990302 0.800969762\n",
              "192 0.8820166 0.117983409\n",
              "193 0.7665948 0.233405210\n",
              "194 0.8631664 0.136833592\n",
              "195 0.3936542 0.606345810\n",
              "196 0.9021033 0.097896738\n",
              "197 0.2172840 0.782716041\n",
              "198 0.1864464 0.813553608\n",
              "199 0.3908853 0.609114696\n",
              "200 0.8063178 0.193682216\n",
              "201 0.9287435 0.071256509\n",
              "202 0.9745264 0.025473625\n",
              "203 0.9621384 0.037861557\n",
              "204 0.9516782 0.048321765\n",
              "205 0.8324338 0.167566205\n",
              "206 0.9467210 0.053278994\n",
              "207 0.1970442 0.802955800\n",
              "208 0.8443043 0.155695673\n",
              "209 0.9561191 0.043880922\n",
              "210 0.9317505 0.068249486\n",
              "211 0.9931164 0.006883553\n",
              "212 0.8953656 0.104634382"
            ]
          },
          "metadata": {}
        }
      ]
    },
    {
      "cell_type": "markdown",
      "source": [
        "### 3.3 - XGBOOST"
      ],
      "metadata": {
        "id": "Q4vbfkPm6Q3j"
      }
    },
    {
      "cell_type": "code",
      "source": [
        "xg_mod <- boost_tree() %>%\n",
        "  set_engine(\"xgboost\") %>%\n",
        "  set_mode(\"classification\")"
      ],
      "metadata": {
        "id": "MrH4Io-L6f9j"
      },
      "execution_count": 23,
      "outputs": []
    },
    {
      "cell_type": "code",
      "source": [
        "xgboost_wf <- workflow() %>%\n",
        "  add_recipe(rec_basic) %>%\n",
        "  add_model(xg_mod)\n",
        "\n",
        "xgboost_fitted <- xgboost_wf %>%\n",
        "  fit(train_set)\n",
        "\n",
        "predict(xgboost_fitted, eval_set, type = \"prob\")\n",
        "\n",
        "xgboost_pred <- eval_set %>%\n",
        "   select(target) %>%\n",
        "   bind_cols(\n",
        "      predict(xgboost_fitted, eval_set, type = \"prob\"),\n",
        "      predict(xgboost_fitted, eval_set)\n",
        "   )"
      ],
      "metadata": {
        "colab": {
          "base_uri": "https://localhost:8080/",
          "height": 1000
        },
        "id": "aJCcxsRq7dxw",
        "outputId": "1ff9bf3e-04ed-4965-8050-fab73918622a"
      },
      "execution_count": 24,
      "outputs": [
        {
          "output_type": "display_data",
          "data": {
            "text/html": [
              "<table class=\"dataframe\">\n",
              "<caption>A tibble: 212 × 2</caption>\n",
              "<thead>\n",
              "\t<tr><th scope=col>.pred_0</th><th scope=col>.pred_1</th></tr>\n",
              "\t<tr><th scope=col>&lt;dbl&gt;</th><th scope=col>&lt;dbl&gt;</th></tr>\n",
              "</thead>\n",
              "<tbody>\n",
              "\t<tr><td>0.9712305</td><td>0.02876949</td></tr>\n",
              "\t<tr><td>0.8674424</td><td>0.13255757</td></tr>\n",
              "\t<tr><td>0.8725805</td><td>0.12741947</td></tr>\n",
              "\t<tr><td>0.9449753</td><td>0.05502468</td></tr>\n",
              "\t<tr><td>0.9574106</td><td>0.04258937</td></tr>\n",
              "\t<tr><td>0.9791465</td><td>0.02085346</td></tr>\n",
              "\t<tr><td>0.9710613</td><td>0.02893871</td></tr>\n",
              "\t<tr><td>0.9537461</td><td>0.04625392</td></tr>\n",
              "\t<tr><td>0.9168373</td><td>0.08316267</td></tr>\n",
              "\t<tr><td>0.9443317</td><td>0.05566829</td></tr>\n",
              "\t<tr><td>0.9631950</td><td>0.03680497</td></tr>\n",
              "\t<tr><td>0.9867277</td><td>0.01327235</td></tr>\n",
              "\t<tr><td>0.9896842</td><td>0.01031578</td></tr>\n",
              "\t<tr><td>0.9810917</td><td>0.01890826</td></tr>\n",
              "\t<tr><td>0.9631950</td><td>0.03680497</td></tr>\n",
              "\t<tr><td>0.9582334</td><td>0.04176658</td></tr>\n",
              "\t<tr><td>0.9500799</td><td>0.04992008</td></tr>\n",
              "\t<tr><td>0.9741966</td><td>0.02580345</td></tr>\n",
              "\t<tr><td>0.6943243</td><td>0.30567575</td></tr>\n",
              "\t<tr><td>0.9545616</td><td>0.04543841</td></tr>\n",
              "\t<tr><td>0.9795408</td><td>0.02045923</td></tr>\n",
              "\t<tr><td>0.9449753</td><td>0.05502468</td></tr>\n",
              "\t<tr><td>0.9581174</td><td>0.04188263</td></tr>\n",
              "\t<tr><td>0.9810373</td><td>0.01896268</td></tr>\n",
              "\t<tr><td>0.9458371</td><td>0.05416292</td></tr>\n",
              "\t<tr><td>0.7718987</td><td>0.22810125</td></tr>\n",
              "\t<tr><td>0.9737854</td><td>0.02621460</td></tr>\n",
              "\t<tr><td>0.9884229</td><td>0.01157707</td></tr>\n",
              "\t<tr><td>0.8952224</td><td>0.10477763</td></tr>\n",
              "\t<tr><td>0.9793745</td><td>0.02062547</td></tr>\n",
              "\t<tr><td>⋮</td><td>⋮</td></tr>\n",
              "\t<tr><td>0.06658334</td><td>0.93341666</td></tr>\n",
              "\t<tr><td>0.02345685</td><td>0.97654315</td></tr>\n",
              "\t<tr><td>0.02246553</td><td>0.97753447</td></tr>\n",
              "\t<tr><td>0.02121112</td><td>0.97878888</td></tr>\n",
              "\t<tr><td>0.01745503</td><td>0.98254497</td></tr>\n",
              "\t<tr><td>0.97639900</td><td>0.02360100</td></tr>\n",
              "\t<tr><td>0.92291462</td><td>0.07708538</td></tr>\n",
              "\t<tr><td>0.02314353</td><td>0.97685647</td></tr>\n",
              "\t<tr><td>0.02380204</td><td>0.97619796</td></tr>\n",
              "\t<tr><td>0.95008981</td><td>0.04991019</td></tr>\n",
              "\t<tr><td>0.84062105</td><td>0.15937895</td></tr>\n",
              "\t<tr><td>0.98319513</td><td>0.01680487</td></tr>\n",
              "\t<tr><td>0.04298983</td><td>0.95701017</td></tr>\n",
              "\t<tr><td>0.97547626</td><td>0.02452374</td></tr>\n",
              "\t<tr><td>0.01562340</td><td>0.98437660</td></tr>\n",
              "\t<tr><td>0.01023756</td><td>0.98976244</td></tr>\n",
              "\t<tr><td>0.02110101</td><td>0.97889899</td></tr>\n",
              "\t<tr><td>0.92698133</td><td>0.07301867</td></tr>\n",
              "\t<tr><td>0.92373568</td><td>0.07626432</td></tr>\n",
              "\t<tr><td>0.97096461</td><td>0.02903539</td></tr>\n",
              "\t<tr><td>0.91806751</td><td>0.08193249</td></tr>\n",
              "\t<tr><td>0.95174897</td><td>0.04825103</td></tr>\n",
              "\t<tr><td>0.95402759</td><td>0.04597241</td></tr>\n",
              "\t<tr><td>0.92211443</td><td>0.07788557</td></tr>\n",
              "\t<tr><td>0.01396585</td><td>0.98603415</td></tr>\n",
              "\t<tr><td>0.91705257</td><td>0.08294743</td></tr>\n",
              "\t<tr><td>0.93828577</td><td>0.06171423</td></tr>\n",
              "\t<tr><td>0.97875595</td><td>0.02124405</td></tr>\n",
              "\t<tr><td>0.98708028</td><td>0.01291972</td></tr>\n",
              "\t<tr><td>0.94866914</td><td>0.05133086</td></tr>\n",
              "</tbody>\n",
              "</table>\n"
            ],
            "text/markdown": "\nA tibble: 212 × 2\n\n| .pred_0 &lt;dbl&gt; | .pred_1 &lt;dbl&gt; |\n|---|---|\n| 0.9712305 | 0.02876949 |\n| 0.8674424 | 0.13255757 |\n| 0.8725805 | 0.12741947 |\n| 0.9449753 | 0.05502468 |\n| 0.9574106 | 0.04258937 |\n| 0.9791465 | 0.02085346 |\n| 0.9710613 | 0.02893871 |\n| 0.9537461 | 0.04625392 |\n| 0.9168373 | 0.08316267 |\n| 0.9443317 | 0.05566829 |\n| 0.9631950 | 0.03680497 |\n| 0.9867277 | 0.01327235 |\n| 0.9896842 | 0.01031578 |\n| 0.9810917 | 0.01890826 |\n| 0.9631950 | 0.03680497 |\n| 0.9582334 | 0.04176658 |\n| 0.9500799 | 0.04992008 |\n| 0.9741966 | 0.02580345 |\n| 0.6943243 | 0.30567575 |\n| 0.9545616 | 0.04543841 |\n| 0.9795408 | 0.02045923 |\n| 0.9449753 | 0.05502468 |\n| 0.9581174 | 0.04188263 |\n| 0.9810373 | 0.01896268 |\n| 0.9458371 | 0.05416292 |\n| 0.7718987 | 0.22810125 |\n| 0.9737854 | 0.02621460 |\n| 0.9884229 | 0.01157707 |\n| 0.8952224 | 0.10477763 |\n| 0.9793745 | 0.02062547 |\n| ⋮ | ⋮ |\n| 0.06658334 | 0.93341666 |\n| 0.02345685 | 0.97654315 |\n| 0.02246553 | 0.97753447 |\n| 0.02121112 | 0.97878888 |\n| 0.01745503 | 0.98254497 |\n| 0.97639900 | 0.02360100 |\n| 0.92291462 | 0.07708538 |\n| 0.02314353 | 0.97685647 |\n| 0.02380204 | 0.97619796 |\n| 0.95008981 | 0.04991019 |\n| 0.84062105 | 0.15937895 |\n| 0.98319513 | 0.01680487 |\n| 0.04298983 | 0.95701017 |\n| 0.97547626 | 0.02452374 |\n| 0.01562340 | 0.98437660 |\n| 0.01023756 | 0.98976244 |\n| 0.02110101 | 0.97889899 |\n| 0.92698133 | 0.07301867 |\n| 0.92373568 | 0.07626432 |\n| 0.97096461 | 0.02903539 |\n| 0.91806751 | 0.08193249 |\n| 0.95174897 | 0.04825103 |\n| 0.95402759 | 0.04597241 |\n| 0.92211443 | 0.07788557 |\n| 0.01396585 | 0.98603415 |\n| 0.91705257 | 0.08294743 |\n| 0.93828577 | 0.06171423 |\n| 0.97875595 | 0.02124405 |\n| 0.98708028 | 0.01291972 |\n| 0.94866914 | 0.05133086 |\n\n",
            "text/latex": "A tibble: 212 × 2\n\\begin{tabular}{ll}\n .pred\\_0 & .pred\\_1\\\\\n <dbl> & <dbl>\\\\\n\\hline\n\t 0.9712305 & 0.02876949\\\\\n\t 0.8674424 & 0.13255757\\\\\n\t 0.8725805 & 0.12741947\\\\\n\t 0.9449753 & 0.05502468\\\\\n\t 0.9574106 & 0.04258937\\\\\n\t 0.9791465 & 0.02085346\\\\\n\t 0.9710613 & 0.02893871\\\\\n\t 0.9537461 & 0.04625392\\\\\n\t 0.9168373 & 0.08316267\\\\\n\t 0.9443317 & 0.05566829\\\\\n\t 0.9631950 & 0.03680497\\\\\n\t 0.9867277 & 0.01327235\\\\\n\t 0.9896842 & 0.01031578\\\\\n\t 0.9810917 & 0.01890826\\\\\n\t 0.9631950 & 0.03680497\\\\\n\t 0.9582334 & 0.04176658\\\\\n\t 0.9500799 & 0.04992008\\\\\n\t 0.9741966 & 0.02580345\\\\\n\t 0.6943243 & 0.30567575\\\\\n\t 0.9545616 & 0.04543841\\\\\n\t 0.9795408 & 0.02045923\\\\\n\t 0.9449753 & 0.05502468\\\\\n\t 0.9581174 & 0.04188263\\\\\n\t 0.9810373 & 0.01896268\\\\\n\t 0.9458371 & 0.05416292\\\\\n\t 0.7718987 & 0.22810125\\\\\n\t 0.9737854 & 0.02621460\\\\\n\t 0.9884229 & 0.01157707\\\\\n\t 0.8952224 & 0.10477763\\\\\n\t 0.9793745 & 0.02062547\\\\\n\t ⋮ & ⋮\\\\\n\t 0.06658334 & 0.93341666\\\\\n\t 0.02345685 & 0.97654315\\\\\n\t 0.02246553 & 0.97753447\\\\\n\t 0.02121112 & 0.97878888\\\\\n\t 0.01745503 & 0.98254497\\\\\n\t 0.97639900 & 0.02360100\\\\\n\t 0.92291462 & 0.07708538\\\\\n\t 0.02314353 & 0.97685647\\\\\n\t 0.02380204 & 0.97619796\\\\\n\t 0.95008981 & 0.04991019\\\\\n\t 0.84062105 & 0.15937895\\\\\n\t 0.98319513 & 0.01680487\\\\\n\t 0.04298983 & 0.95701017\\\\\n\t 0.97547626 & 0.02452374\\\\\n\t 0.01562340 & 0.98437660\\\\\n\t 0.01023756 & 0.98976244\\\\\n\t 0.02110101 & 0.97889899\\\\\n\t 0.92698133 & 0.07301867\\\\\n\t 0.92373568 & 0.07626432\\\\\n\t 0.97096461 & 0.02903539\\\\\n\t 0.91806751 & 0.08193249\\\\\n\t 0.95174897 & 0.04825103\\\\\n\t 0.95402759 & 0.04597241\\\\\n\t 0.92211443 & 0.07788557\\\\\n\t 0.01396585 & 0.98603415\\\\\n\t 0.91705257 & 0.08294743\\\\\n\t 0.93828577 & 0.06171423\\\\\n\t 0.97875595 & 0.02124405\\\\\n\t 0.98708028 & 0.01291972\\\\\n\t 0.94866914 & 0.05133086\\\\\n\\end{tabular}\n",
            "text/plain": [
              "    .pred_0    .pred_1   \n",
              "1   0.9712305  0.02876949\n",
              "2   0.8674424  0.13255757\n",
              "3   0.8725805  0.12741947\n",
              "4   0.9449753  0.05502468\n",
              "5   0.9574106  0.04258937\n",
              "6   0.9791465  0.02085346\n",
              "7   0.9710613  0.02893871\n",
              "8   0.9537461  0.04625392\n",
              "9   0.9168373  0.08316267\n",
              "10  0.9443317  0.05566829\n",
              "11  0.9631950  0.03680497\n",
              "12  0.9867277  0.01327235\n",
              "13  0.9896842  0.01031578\n",
              "14  0.9810917  0.01890826\n",
              "15  0.9631950  0.03680497\n",
              "16  0.9582334  0.04176658\n",
              "17  0.9500799  0.04992008\n",
              "18  0.9741966  0.02580345\n",
              "19  0.6943243  0.30567575\n",
              "20  0.9545616  0.04543841\n",
              "21  0.9795408  0.02045923\n",
              "22  0.9449753  0.05502468\n",
              "23  0.9581174  0.04188263\n",
              "24  0.9810373  0.01896268\n",
              "25  0.9458371  0.05416292\n",
              "26  0.7718987  0.22810125\n",
              "27  0.9737854  0.02621460\n",
              "28  0.9884229  0.01157707\n",
              "29  0.8952224  0.10477763\n",
              "30  0.9793745  0.02062547\n",
              "⋮   ⋮          ⋮         \n",
              "183 0.06658334 0.93341666\n",
              "184 0.02345685 0.97654315\n",
              "185 0.02246553 0.97753447\n",
              "186 0.02121112 0.97878888\n",
              "187 0.01745503 0.98254497\n",
              "188 0.97639900 0.02360100\n",
              "189 0.92291462 0.07708538\n",
              "190 0.02314353 0.97685647\n",
              "191 0.02380204 0.97619796\n",
              "192 0.95008981 0.04991019\n",
              "193 0.84062105 0.15937895\n",
              "194 0.98319513 0.01680487\n",
              "195 0.04298983 0.95701017\n",
              "196 0.97547626 0.02452374\n",
              "197 0.01562340 0.98437660\n",
              "198 0.01023756 0.98976244\n",
              "199 0.02110101 0.97889899\n",
              "200 0.92698133 0.07301867\n",
              "201 0.92373568 0.07626432\n",
              "202 0.97096461 0.02903539\n",
              "203 0.91806751 0.08193249\n",
              "204 0.95174897 0.04825103\n",
              "205 0.95402759 0.04597241\n",
              "206 0.92211443 0.07788557\n",
              "207 0.01396585 0.98603415\n",
              "208 0.91705257 0.08294743\n",
              "209 0.93828577 0.06171423\n",
              "210 0.97875595 0.02124405\n",
              "211 0.98708028 0.01291972\n",
              "212 0.94866914 0.05133086"
            ]
          },
          "metadata": {}
        }
      ]
    },
    {
      "cell_type": "code",
      "source": [
        "#### On peut le fit tuner ...\n",
        "\n",
        "\n",
        "xg_mod <- boost_tree(\n",
        "  n_try = fit()\n",
        ") %>%\n",
        "  set_engine(\"xgboost\") %>%\n",
        "  set_mode(\"classification\")"
      ],
      "metadata": {
        "id": "YOvRMOgUULYb"
      },
      "execution_count": null,
      "outputs": []
    },
    {
      "cell_type": "markdown",
      "source": [
        "## 4 Yardstick library : evaluate wf performance\n",
        "\n",
        "### 4.1. RL workflow"
      ],
      "metadata": {
        "id": "pwM1m7rp1Hwm"
      }
    },
    {
      "cell_type": "code",
      "source": [
        "accuracy(log_pred, target, .pred_class)\n",
        "roc_auc(log_pred, target, .pred_0)\n",
        "roc_auc(log_pred, target, .pred_1, event_level = \"second\") # on constate le même montant\n"
      ],
      "metadata": {
        "colab": {
          "base_uri": "https://localhost:8080/",
          "height": 354
        },
        "id": "kCj-DRmQ1daF",
        "outputId": "b2dda097-188d-4343-cf4f-39460d143299"
      },
      "execution_count": 28,
      "outputs": [
        {
          "output_type": "display_data",
          "data": {
            "text/html": [
              "<table class=\"dataframe\">\n",
              "<caption>A tibble: 1 × 3</caption>\n",
              "<thead>\n",
              "\t<tr><th scope=col>.metric</th><th scope=col>.estimator</th><th scope=col>.estimate</th></tr>\n",
              "\t<tr><th scope=col>&lt;chr&gt;</th><th scope=col>&lt;chr&gt;</th><th scope=col>&lt;dbl&gt;</th></tr>\n",
              "</thead>\n",
              "<tbody>\n",
              "\t<tr><td>accuracy</td><td>binary</td><td>0.9103774</td></tr>\n",
              "</tbody>\n",
              "</table>\n"
            ],
            "text/markdown": "\nA tibble: 1 × 3\n\n| .metric &lt;chr&gt; | .estimator &lt;chr&gt; | .estimate &lt;dbl&gt; |\n|---|---|---|\n| accuracy | binary | 0.9103774 |\n\n",
            "text/latex": "A tibble: 1 × 3\n\\begin{tabular}{lll}\n .metric & .estimator & .estimate\\\\\n <chr> & <chr> & <dbl>\\\\\n\\hline\n\t accuracy & binary & 0.9103774\\\\\n\\end{tabular}\n",
            "text/plain": [
              "  .metric  .estimator .estimate\n",
              "1 accuracy binary     0.9103774"
            ]
          },
          "metadata": {}
        },
        {
          "output_type": "display_data",
          "data": {
            "text/html": [
              "<table class=\"dataframe\">\n",
              "<caption>A tibble: 1 × 3</caption>\n",
              "<thead>\n",
              "\t<tr><th scope=col>.metric</th><th scope=col>.estimator</th><th scope=col>.estimate</th></tr>\n",
              "\t<tr><th scope=col>&lt;chr&gt;</th><th scope=col>&lt;chr&gt;</th><th scope=col>&lt;dbl&gt;</th></tr>\n",
              "</thead>\n",
              "<tbody>\n",
              "\t<tr><td>roc_auc</td><td>binary</td><td>0.7263923</td></tr>\n",
              "</tbody>\n",
              "</table>\n"
            ],
            "text/markdown": "\nA tibble: 1 × 3\n\n| .metric &lt;chr&gt; | .estimator &lt;chr&gt; | .estimate &lt;dbl&gt; |\n|---|---|---|\n| roc_auc | binary | 0.7263923 |\n\n",
            "text/latex": "A tibble: 1 × 3\n\\begin{tabular}{lll}\n .metric & .estimator & .estimate\\\\\n <chr> & <chr> & <dbl>\\\\\n\\hline\n\t roc\\_auc & binary & 0.7263923\\\\\n\\end{tabular}\n",
            "text/plain": [
              "  .metric .estimator .estimate\n",
              "1 roc_auc binary     0.7263923"
            ]
          },
          "metadata": {}
        },
        {
          "output_type": "display_data",
          "data": {
            "text/html": [
              "<table class=\"dataframe\">\n",
              "<caption>A tibble: 1 × 3</caption>\n",
              "<thead>\n",
              "\t<tr><th scope=col>.metric</th><th scope=col>.estimator</th><th scope=col>.estimate</th></tr>\n",
              "\t<tr><th scope=col>&lt;chr&gt;</th><th scope=col>&lt;chr&gt;</th><th scope=col>&lt;dbl&gt;</th></tr>\n",
              "</thead>\n",
              "<tbody>\n",
              "\t<tr><td>roc_auc</td><td>binary</td><td>0.7263923</td></tr>\n",
              "</tbody>\n",
              "</table>\n"
            ],
            "text/markdown": "\nA tibble: 1 × 3\n\n| .metric &lt;chr&gt; | .estimator &lt;chr&gt; | .estimate &lt;dbl&gt; |\n|---|---|---|\n| roc_auc | binary | 0.7263923 |\n\n",
            "text/latex": "A tibble: 1 × 3\n\\begin{tabular}{lll}\n .metric & .estimator & .estimate\\\\\n <chr> & <chr> & <dbl>\\\\\n\\hline\n\t roc\\_auc & binary & 0.7263923\\\\\n\\end{tabular}\n",
            "text/plain": [
              "  .metric .estimator .estimate\n",
              "1 roc_auc binary     0.7263923"
            ]
          },
          "metadata": {}
        }
      ]
    },
    {
      "cell_type": "markdown",
      "source": [
        "4.2 RandomForest workflow"
      ],
      "metadata": {
        "id": "DHy_QRho5kO4"
      }
    },
    {
      "cell_type": "code",
      "source": [
        "accuracy(rf_pred, target, .pred_class) # 0.9103774\n",
        "roc_auc(rf_pred, target, .pred_0) # 0.7761098\n"
      ],
      "metadata": {
        "colab": {
          "base_uri": "https://localhost:8080/",
          "height": 241
        },
        "id": "YtvtC17b5pUX",
        "outputId": "f1dccb13-1b04-42a5-e540-04264d3770ef"
      },
      "execution_count": 29,
      "outputs": [
        {
          "output_type": "display_data",
          "data": {
            "text/html": [
              "<table class=\"dataframe\">\n",
              "<caption>A tibble: 1 × 3</caption>\n",
              "<thead>\n",
              "\t<tr><th scope=col>.metric</th><th scope=col>.estimator</th><th scope=col>.estimate</th></tr>\n",
              "\t<tr><th scope=col>&lt;chr&gt;</th><th scope=col>&lt;chr&gt;</th><th scope=col>&lt;dbl&gt;</th></tr>\n",
              "</thead>\n",
              "<tbody>\n",
              "\t<tr><td>accuracy</td><td>binary</td><td>0.9103774</td></tr>\n",
              "</tbody>\n",
              "</table>\n"
            ],
            "text/markdown": "\nA tibble: 1 × 3\n\n| .metric &lt;chr&gt; | .estimator &lt;chr&gt; | .estimate &lt;dbl&gt; |\n|---|---|---|\n| accuracy | binary | 0.9103774 |\n\n",
            "text/latex": "A tibble: 1 × 3\n\\begin{tabular}{lll}\n .metric & .estimator & .estimate\\\\\n <chr> & <chr> & <dbl>\\\\\n\\hline\n\t accuracy & binary & 0.9103774\\\\\n\\end{tabular}\n",
            "text/plain": [
              "  .metric  .estimator .estimate\n",
              "1 accuracy binary     0.9103774"
            ]
          },
          "metadata": {}
        },
        {
          "output_type": "display_data",
          "data": {
            "text/html": [
              "<table class=\"dataframe\">\n",
              "<caption>A tibble: 1 × 3</caption>\n",
              "<thead>\n",
              "\t<tr><th scope=col>.metric</th><th scope=col>.estimator</th><th scope=col>.estimate</th></tr>\n",
              "\t<tr><th scope=col>&lt;chr&gt;</th><th scope=col>&lt;chr&gt;</th><th scope=col>&lt;dbl&gt;</th></tr>\n",
              "</thead>\n",
              "<tbody>\n",
              "\t<tr><td>roc_auc</td><td>binary</td><td>0.7698144</td></tr>\n",
              "</tbody>\n",
              "</table>\n"
            ],
            "text/markdown": "\nA tibble: 1 × 3\n\n| .metric &lt;chr&gt; | .estimator &lt;chr&gt; | .estimate &lt;dbl&gt; |\n|---|---|---|\n| roc_auc | binary | 0.7698144 |\n\n",
            "text/latex": "A tibble: 1 × 3\n\\begin{tabular}{lll}\n .metric & .estimator & .estimate\\\\\n <chr> & <chr> & <dbl>\\\\\n\\hline\n\t roc\\_auc & binary & 0.7698144\\\\\n\\end{tabular}\n",
            "text/plain": [
              "  .metric .estimator .estimate\n",
              "1 roc_auc binary     0.7698144"
            ]
          },
          "metadata": {}
        }
      ]
    },
    {
      "cell_type": "markdown",
      "source": [
        "# 4-3 - xgboost"
      ],
      "metadata": {
        "id": "26NrpAbF8oFu"
      }
    },
    {
      "cell_type": "code",
      "source": [
        "accuracy(xgboost_pred, target, .pred_class) # 0.9103774\n",
        "roc_auc(xgboost_pred, target, .pred_0) # 0.7728006"
      ],
      "metadata": {
        "colab": {
          "base_uri": "https://localhost:8080/",
          "height": 241
        },
        "id": "YDMenBxE8nRv",
        "outputId": "1e400948-567e-4246-f4af-ef36a1a5788e"
      },
      "execution_count": 30,
      "outputs": [
        {
          "output_type": "display_data",
          "data": {
            "text/html": [
              "<table class=\"dataframe\">\n",
              "<caption>A tibble: 1 × 3</caption>\n",
              "<thead>\n",
              "\t<tr><th scope=col>.metric</th><th scope=col>.estimator</th><th scope=col>.estimate</th></tr>\n",
              "\t<tr><th scope=col>&lt;chr&gt;</th><th scope=col>&lt;chr&gt;</th><th scope=col>&lt;dbl&gt;</th></tr>\n",
              "</thead>\n",
              "<tbody>\n",
              "\t<tr><td>accuracy</td><td>binary</td><td>0.9103774</td></tr>\n",
              "</tbody>\n",
              "</table>\n"
            ],
            "text/markdown": "\nA tibble: 1 × 3\n\n| .metric &lt;chr&gt; | .estimator &lt;chr&gt; | .estimate &lt;dbl&gt; |\n|---|---|---|\n| accuracy | binary | 0.9103774 |\n\n",
            "text/latex": "A tibble: 1 × 3\n\\begin{tabular}{lll}\n .metric & .estimator & .estimate\\\\\n <chr> & <chr> & <dbl>\\\\\n\\hline\n\t accuracy & binary & 0.9103774\\\\\n\\end{tabular}\n",
            "text/plain": [
              "  .metric  .estimator .estimate\n",
              "1 accuracy binary     0.9103774"
            ]
          },
          "metadata": {}
        },
        {
          "output_type": "display_data",
          "data": {
            "text/html": [
              "<table class=\"dataframe\">\n",
              "<caption>A tibble: 1 × 3</caption>\n",
              "<thead>\n",
              "\t<tr><th scope=col>.metric</th><th scope=col>.estimator</th><th scope=col>.estimate</th></tr>\n",
              "\t<tr><th scope=col>&lt;chr&gt;</th><th scope=col>&lt;chr&gt;</th><th scope=col>&lt;dbl&gt;</th></tr>\n",
              "</thead>\n",
              "<tbody>\n",
              "\t<tr><td>roc_auc</td><td>binary</td><td>0.7728006</td></tr>\n",
              "</tbody>\n",
              "</table>\n"
            ],
            "text/markdown": "\nA tibble: 1 × 3\n\n| .metric &lt;chr&gt; | .estimator &lt;chr&gt; | .estimate &lt;dbl&gt; |\n|---|---|---|\n| roc_auc | binary | 0.7728006 |\n\n",
            "text/latex": "A tibble: 1 × 3\n\\begin{tabular}{lll}\n .metric & .estimator & .estimate\\\\\n <chr> & <chr> & <dbl>\\\\\n\\hline\n\t roc\\_auc & binary & 0.7728006\\\\\n\\end{tabular}\n",
            "text/plain": [
              "  .metric .estimator .estimate\n",
              "1 roc_auc binary     0.7728006"
            ]
          },
          "metadata": {}
        }
      ]
    },
    {
      "cell_type": "markdown",
      "source": [
        "## 5. Cross Validation\n"
      ],
      "metadata": {
        "id": "TNql8TAq94m4"
      }
    },
    {
      "cell_type": "code",
      "source": [
        "set.seed(24)\n",
        "folds <- vfold_cv(training, v = 5)\n",
        "\n",
        "xg_fitted_cv <- xgboost_wf %>%\n",
        "  fit_resamples(                     # remplace fit et on va faire la validation croisée\n",
        "    resamples = folds,\n",
        "    metrics = metric_set(accuracy, roc_auc, f_meas)\n",
        "    )\n",
        "\n",
        "xg_fitted_cv %>% collect_metrics()\n"
      ],
      "metadata": {
        "colab": {
          "base_uri": "https://localhost:8080/",
          "height": 192
        },
        "id": "B2mKe-vI8r1d",
        "outputId": "e4897722-58da-41fa-be6f-99fd9ee81d77"
      },
      "execution_count": 31,
      "outputs": [
        {
          "output_type": "display_data",
          "data": {
            "text/html": [
              "<table class=\"dataframe\">\n",
              "<caption>A tibble: 3 × 6</caption>\n",
              "<thead>\n",
              "\t<tr><th scope=col>.metric</th><th scope=col>.estimator</th><th scope=col>mean</th><th scope=col>n</th><th scope=col>std_err</th><th scope=col>.config</th></tr>\n",
              "\t<tr><th scope=col>&lt;chr&gt;</th><th scope=col>&lt;chr&gt;</th><th scope=col>&lt;dbl&gt;</th><th scope=col>&lt;int&gt;</th><th scope=col>&lt;dbl&gt;</th><th scope=col>&lt;chr&gt;</th></tr>\n",
              "</thead>\n",
              "<tbody>\n",
              "\t<tr><td>accuracy</td><td>binary</td><td>0.9375615</td><td>5</td><td>0.004066415</td><td>Preprocessor1_Model1</td></tr>\n",
              "\t<tr><td>f_meas  </td><td>binary</td><td>0.9637676</td><td>5</td><td>0.002610405</td><td>Preprocessor1_Model1</td></tr>\n",
              "\t<tr><td>roc_auc </td><td>binary</td><td>0.8349435</td><td>5</td><td>0.018843252</td><td>Preprocessor1_Model1</td></tr>\n",
              "</tbody>\n",
              "</table>\n"
            ],
            "text/markdown": "\nA tibble: 3 × 6\n\n| .metric &lt;chr&gt; | .estimator &lt;chr&gt; | mean &lt;dbl&gt; | n &lt;int&gt; | std_err &lt;dbl&gt; | .config &lt;chr&gt; |\n|---|---|---|---|---|---|\n| accuracy | binary | 0.9375615 | 5 | 0.004066415 | Preprocessor1_Model1 |\n| f_meas   | binary | 0.9637676 | 5 | 0.002610405 | Preprocessor1_Model1 |\n| roc_auc  | binary | 0.8349435 | 5 | 0.018843252 | Preprocessor1_Model1 |\n\n",
            "text/latex": "A tibble: 3 × 6\n\\begin{tabular}{llllll}\n .metric & .estimator & mean & n & std\\_err & .config\\\\\n <chr> & <chr> & <dbl> & <int> & <dbl> & <chr>\\\\\n\\hline\n\t accuracy & binary & 0.9375615 & 5 & 0.004066415 & Preprocessor1\\_Model1\\\\\n\t f\\_meas   & binary & 0.9637676 & 5 & 0.002610405 & Preprocessor1\\_Model1\\\\\n\t roc\\_auc  & binary & 0.8349435 & 5 & 0.018843252 & Preprocessor1\\_Model1\\\\\n\\end{tabular}\n",
            "text/plain": [
              "  .metric  .estimator mean      n std_err     .config             \n",
              "1 accuracy binary     0.9375615 5 0.004066415 Preprocessor1_Model1\n",
              "2 f_meas   binary     0.9637676 5 0.002610405 Preprocessor1_Model1\n",
              "3 roc_auc  binary     0.8349435 5 0.018843252 Preprocessor1_Model1"
            ]
          },
          "metadata": {}
        }
      ]
    },
    {
      "cell_type": "markdown",
      "source": [
        "# 6- Hyperparameters tuning\n",
        "\n",
        "[Lien vers un lien écrit par les développeurs de tidymodels](https://www.tmwr.org/)"
      ],
      "metadata": {
        "id": "QKZsQFDqATa4"
      }
    },
    {
      "cell_type": "code",
      "source": [
        "rf_mod_tune <- rand_forest(\n",
        "  trees = tune(),\n",
        "  min_n = tune()) %>% ### je ne prends pas le paramètre par défaut )\n",
        "    set_engine('ranger')%>%\n",
        "  set_mode('classification')\n",
        "\n",
        "rf_tune_wf <- workflow() %>%\n",
        "  add_recipe(rec_basic) %>%\n",
        "  add_model(rf_mod_tune)"
      ],
      "metadata": {
        "id": "b1iAOq6A_Yda"
      },
      "execution_count": 32,
      "outputs": []
    },
    {
      "cell_type": "code",
      "source": [
        "rf_tune_wf_fitted <- rf_tune_wf %>%\n",
        "  tune_grid(                  # remplace fonction fit\n",
        "    resamples= folds,\n",
        "    metrics = metric_set(accuracy, roc_auc),\n",
        "    grid = 20)               # space fitting"
      ],
      "metadata": {
        "id": "GSaTkt1TC_PX"
      },
      "execution_count": 33,
      "outputs": []
    },
    {
      "cell_type": "code",
      "source": [
        "rf_tune_wf_fitted %>% collect_metrics() %>%\n",
        "  filter(.metric == \"roc_auc\") %>%\n",
        "  arrange(desc(mean)) # 0.8438979"
      ],
      "metadata": {
        "colab": {
          "base_uri": "https://localhost:8080/",
          "height": 725
        },
        "id": "LjGz7jqnDnaH",
        "outputId": "a4b953cb-edbf-41fc-99be-2f1a7f12426d"
      },
      "execution_count": 34,
      "outputs": [
        {
          "output_type": "display_data",
          "data": {
            "text/html": [
              "<table class=\"dataframe\">\n",
              "<caption>A tibble: 20 × 8</caption>\n",
              "<thead>\n",
              "\t<tr><th scope=col>trees</th><th scope=col>min_n</th><th scope=col>.metric</th><th scope=col>.estimator</th><th scope=col>mean</th><th scope=col>n</th><th scope=col>std_err</th><th scope=col>.config</th></tr>\n",
              "\t<tr><th scope=col>&lt;int&gt;</th><th scope=col>&lt;int&gt;</th><th scope=col>&lt;chr&gt;</th><th scope=col>&lt;chr&gt;</th><th scope=col>&lt;dbl&gt;</th><th scope=col>&lt;int&gt;</th><th scope=col>&lt;dbl&gt;</th><th scope=col>&lt;chr&gt;</th></tr>\n",
              "</thead>\n",
              "<tbody>\n",
              "\t<tr><td> 306</td><td> 5</td><td>roc_auc</td><td>binary</td><td>0.8453997</td><td>5</td><td>0.01204367</td><td>Preprocessor1_Model12</td></tr>\n",
              "\t<tr><td> 782</td><td> 2</td><td>roc_auc</td><td>binary</td><td>0.8427070</td><td>5</td><td>0.00825248</td><td>Preprocessor1_Model10</td></tr>\n",
              "\t<tr><td>1242</td><td> 6</td><td>roc_auc</td><td>binary</td><td>0.8419934</td><td>5</td><td>0.01108890</td><td>Preprocessor1_Model18</td></tr>\n",
              "\t<tr><td>1338</td><td>31</td><td>roc_auc</td><td>binary</td><td>0.8412789</td><td>5</td><td>0.01409576</td><td>Preprocessor1_Model08</td></tr>\n",
              "\t<tr><td>1133</td><td>12</td><td>roc_auc</td><td>binary</td><td>0.8410152</td><td>5</td><td>0.01037097</td><td>Preprocessor1_Model11</td></tr>\n",
              "\t<tr><td>1607</td><td>19</td><td>roc_auc</td><td>binary</td><td>0.8409385</td><td>5</td><td>0.01158240</td><td>Preprocessor1_Model15</td></tr>\n",
              "\t<tr><td>1919</td><td> 8</td><td>roc_auc</td><td>binary</td><td>0.8408621</td><td>5</td><td>0.01018292</td><td>Preprocessor1_Model04</td></tr>\n",
              "\t<tr><td> 860</td><td>14</td><td>roc_auc</td><td>binary</td><td>0.8406092</td><td>5</td><td>0.01036021</td><td>Preprocessor1_Model13</td></tr>\n",
              "\t<tr><td> 401</td><td>21</td><td>roc_auc</td><td>binary</td><td>0.8401357</td><td>5</td><td>0.01077837</td><td>Preprocessor1_Model16</td></tr>\n",
              "\t<tr><td> 641</td><td>28</td><td>roc_auc</td><td>binary</td><td>0.8390414</td><td>5</td><td>0.01290705</td><td>Preprocessor1_Model01</td></tr>\n",
              "\t<tr><td> 581</td><td>29</td><td>roc_auc</td><td>binary</td><td>0.8381057</td><td>5</td><td>0.01395852</td><td>Preprocessor1_Model17</td></tr>\n",
              "\t<tr><td>1539</td><td>36</td><td>roc_auc</td><td>binary</td><td>0.8379472</td><td>5</td><td>0.01307749</td><td>Preprocessor1_Model09</td></tr>\n",
              "\t<tr><td>1500</td><td>38</td><td>roc_auc</td><td>binary</td><td>0.8376057</td><td>5</td><td>0.01453588</td><td>Preprocessor1_Model03</td></tr>\n",
              "\t<tr><td>1731</td><td>33</td><td>roc_auc</td><td>binary</td><td>0.8371568</td><td>5</td><td>0.01404630</td><td>Preprocessor1_Model05</td></tr>\n",
              "\t<tr><td> 272</td><td>24</td><td>roc_auc</td><td>binary</td><td>0.8370974</td><td>5</td><td>0.01149647</td><td>Preprocessor1_Model14</td></tr>\n",
              "\t<tr><td> 999</td><td>21</td><td>roc_auc</td><td>binary</td><td>0.8368586</td><td>5</td><td>0.01242046</td><td>Preprocessor1_Model20</td></tr>\n",
              "\t<tr><td>1836</td><td>26</td><td>roc_auc</td><td>binary</td><td>0.8365860</td><td>5</td><td>0.01321392</td><td>Preprocessor1_Model06</td></tr>\n",
              "\t<tr><td>1053</td><td>38</td><td>roc_auc</td><td>binary</td><td>0.8363558</td><td>5</td><td>0.01513133</td><td>Preprocessor1_Model07</td></tr>\n",
              "\t<tr><td> 134</td><td>16</td><td>roc_auc</td><td>binary</td><td>0.8340172</td><td>5</td><td>0.01506783</td><td>Preprocessor1_Model02</td></tr>\n",
              "\t<tr><td>  35</td><td>10</td><td>roc_auc</td><td>binary</td><td>0.8280235</td><td>5</td><td>0.01316659</td><td>Preprocessor1_Model19</td></tr>\n",
              "</tbody>\n",
              "</table>\n"
            ],
            "text/markdown": "\nA tibble: 20 × 8\n\n| trees &lt;int&gt; | min_n &lt;int&gt; | .metric &lt;chr&gt; | .estimator &lt;chr&gt; | mean &lt;dbl&gt; | n &lt;int&gt; | std_err &lt;dbl&gt; | .config &lt;chr&gt; |\n|---|---|---|---|---|---|---|---|\n|  306 |  5 | roc_auc | binary | 0.8453997 | 5 | 0.01204367 | Preprocessor1_Model12 |\n|  782 |  2 | roc_auc | binary | 0.8427070 | 5 | 0.00825248 | Preprocessor1_Model10 |\n| 1242 |  6 | roc_auc | binary | 0.8419934 | 5 | 0.01108890 | Preprocessor1_Model18 |\n| 1338 | 31 | roc_auc | binary | 0.8412789 | 5 | 0.01409576 | Preprocessor1_Model08 |\n| 1133 | 12 | roc_auc | binary | 0.8410152 | 5 | 0.01037097 | Preprocessor1_Model11 |\n| 1607 | 19 | roc_auc | binary | 0.8409385 | 5 | 0.01158240 | Preprocessor1_Model15 |\n| 1919 |  8 | roc_auc | binary | 0.8408621 | 5 | 0.01018292 | Preprocessor1_Model04 |\n|  860 | 14 | roc_auc | binary | 0.8406092 | 5 | 0.01036021 | Preprocessor1_Model13 |\n|  401 | 21 | roc_auc | binary | 0.8401357 | 5 | 0.01077837 | Preprocessor1_Model16 |\n|  641 | 28 | roc_auc | binary | 0.8390414 | 5 | 0.01290705 | Preprocessor1_Model01 |\n|  581 | 29 | roc_auc | binary | 0.8381057 | 5 | 0.01395852 | Preprocessor1_Model17 |\n| 1539 | 36 | roc_auc | binary | 0.8379472 | 5 | 0.01307749 | Preprocessor1_Model09 |\n| 1500 | 38 | roc_auc | binary | 0.8376057 | 5 | 0.01453588 | Preprocessor1_Model03 |\n| 1731 | 33 | roc_auc | binary | 0.8371568 | 5 | 0.01404630 | Preprocessor1_Model05 |\n|  272 | 24 | roc_auc | binary | 0.8370974 | 5 | 0.01149647 | Preprocessor1_Model14 |\n|  999 | 21 | roc_auc | binary | 0.8368586 | 5 | 0.01242046 | Preprocessor1_Model20 |\n| 1836 | 26 | roc_auc | binary | 0.8365860 | 5 | 0.01321392 | Preprocessor1_Model06 |\n| 1053 | 38 | roc_auc | binary | 0.8363558 | 5 | 0.01513133 | Preprocessor1_Model07 |\n|  134 | 16 | roc_auc | binary | 0.8340172 | 5 | 0.01506783 | Preprocessor1_Model02 |\n|   35 | 10 | roc_auc | binary | 0.8280235 | 5 | 0.01316659 | Preprocessor1_Model19 |\n\n",
            "text/latex": "A tibble: 20 × 8\n\\begin{tabular}{llllllll}\n trees & min\\_n & .metric & .estimator & mean & n & std\\_err & .config\\\\\n <int> & <int> & <chr> & <chr> & <dbl> & <int> & <dbl> & <chr>\\\\\n\\hline\n\t  306 &  5 & roc\\_auc & binary & 0.8453997 & 5 & 0.01204367 & Preprocessor1\\_Model12\\\\\n\t  782 &  2 & roc\\_auc & binary & 0.8427070 & 5 & 0.00825248 & Preprocessor1\\_Model10\\\\\n\t 1242 &  6 & roc\\_auc & binary & 0.8419934 & 5 & 0.01108890 & Preprocessor1\\_Model18\\\\\n\t 1338 & 31 & roc\\_auc & binary & 0.8412789 & 5 & 0.01409576 & Preprocessor1\\_Model08\\\\\n\t 1133 & 12 & roc\\_auc & binary & 0.8410152 & 5 & 0.01037097 & Preprocessor1\\_Model11\\\\\n\t 1607 & 19 & roc\\_auc & binary & 0.8409385 & 5 & 0.01158240 & Preprocessor1\\_Model15\\\\\n\t 1919 &  8 & roc\\_auc & binary & 0.8408621 & 5 & 0.01018292 & Preprocessor1\\_Model04\\\\\n\t  860 & 14 & roc\\_auc & binary & 0.8406092 & 5 & 0.01036021 & Preprocessor1\\_Model13\\\\\n\t  401 & 21 & roc\\_auc & binary & 0.8401357 & 5 & 0.01077837 & Preprocessor1\\_Model16\\\\\n\t  641 & 28 & roc\\_auc & binary & 0.8390414 & 5 & 0.01290705 & Preprocessor1\\_Model01\\\\\n\t  581 & 29 & roc\\_auc & binary & 0.8381057 & 5 & 0.01395852 & Preprocessor1\\_Model17\\\\\n\t 1539 & 36 & roc\\_auc & binary & 0.8379472 & 5 & 0.01307749 & Preprocessor1\\_Model09\\\\\n\t 1500 & 38 & roc\\_auc & binary & 0.8376057 & 5 & 0.01453588 & Preprocessor1\\_Model03\\\\\n\t 1731 & 33 & roc\\_auc & binary & 0.8371568 & 5 & 0.01404630 & Preprocessor1\\_Model05\\\\\n\t  272 & 24 & roc\\_auc & binary & 0.8370974 & 5 & 0.01149647 & Preprocessor1\\_Model14\\\\\n\t  999 & 21 & roc\\_auc & binary & 0.8368586 & 5 & 0.01242046 & Preprocessor1\\_Model20\\\\\n\t 1836 & 26 & roc\\_auc & binary & 0.8365860 & 5 & 0.01321392 & Preprocessor1\\_Model06\\\\\n\t 1053 & 38 & roc\\_auc & binary & 0.8363558 & 5 & 0.01513133 & Preprocessor1\\_Model07\\\\\n\t  134 & 16 & roc\\_auc & binary & 0.8340172 & 5 & 0.01506783 & Preprocessor1\\_Model02\\\\\n\t   35 & 10 & roc\\_auc & binary & 0.8280235 & 5 & 0.01316659 & Preprocessor1\\_Model19\\\\\n\\end{tabular}\n",
            "text/plain": [
              "   trees min_n .metric .estimator mean      n std_err    .config              \n",
              "1   306   5    roc_auc binary     0.8453997 5 0.01204367 Preprocessor1_Model12\n",
              "2   782   2    roc_auc binary     0.8427070 5 0.00825248 Preprocessor1_Model10\n",
              "3  1242   6    roc_auc binary     0.8419934 5 0.01108890 Preprocessor1_Model18\n",
              "4  1338  31    roc_auc binary     0.8412789 5 0.01409576 Preprocessor1_Model08\n",
              "5  1133  12    roc_auc binary     0.8410152 5 0.01037097 Preprocessor1_Model11\n",
              "6  1607  19    roc_auc binary     0.8409385 5 0.01158240 Preprocessor1_Model15\n",
              "7  1919   8    roc_auc binary     0.8408621 5 0.01018292 Preprocessor1_Model04\n",
              "8   860  14    roc_auc binary     0.8406092 5 0.01036021 Preprocessor1_Model13\n",
              "9   401  21    roc_auc binary     0.8401357 5 0.01077837 Preprocessor1_Model16\n",
              "10  641  28    roc_auc binary     0.8390414 5 0.01290705 Preprocessor1_Model01\n",
              "11  581  29    roc_auc binary     0.8381057 5 0.01395852 Preprocessor1_Model17\n",
              "12 1539  36    roc_auc binary     0.8379472 5 0.01307749 Preprocessor1_Model09\n",
              "13 1500  38    roc_auc binary     0.8376057 5 0.01453588 Preprocessor1_Model03\n",
              "14 1731  33    roc_auc binary     0.8371568 5 0.01404630 Preprocessor1_Model05\n",
              "15  272  24    roc_auc binary     0.8370974 5 0.01149647 Preprocessor1_Model14\n",
              "16  999  21    roc_auc binary     0.8368586 5 0.01242046 Preprocessor1_Model20\n",
              "17 1836  26    roc_auc binary     0.8365860 5 0.01321392 Preprocessor1_Model06\n",
              "18 1053  38    roc_auc binary     0.8363558 5 0.01513133 Preprocessor1_Model07\n",
              "19  134  16    roc_auc binary     0.8340172 5 0.01506783 Preprocessor1_Model02\n",
              "20   35  10    roc_auc binary     0.8280235 5 0.01316659 Preprocessor1_Model19"
            ]
          },
          "metadata": {}
        }
      ]
    },
    {
      "cell_type": "code",
      "source": [],
      "metadata": {
        "id": "IzoCESaWG7u-"
      },
      "execution_count": null,
      "outputs": []
    },
    {
      "cell_type": "markdown",
      "source": [
        "# 7. Workflowset"
      ],
      "metadata": {
        "id": "Wy2WJmPuL_48"
      }
    },
    {
      "cell_type": "markdown",
      "source": [
        "## 7.1 Create a workflow set"
      ],
      "metadata": {
        "id": "9VZNc1mvMKiF"
      }
    },
    {
      "cell_type": "code",
      "source": [
        "wf_set <- workflow_set(\n",
        "  preproc = list(basic = rec_basic,\n",
        "  inter = rec_inter,\n",
        "  spline = rec_spline),\n",
        "  models = list(log = log_mod,\n",
        "                rf = rf_mod,\n",
        "                tune_rf = rf_mod_tune,\n",
        "                xgb = xg_mod\n",
        "                )\n",
        ")"
      ],
      "metadata": {
        "id": "ZLyuwWKfME7U"
      },
      "execution_count": 49,
      "outputs": []
    },
    {
      "cell_type": "code",
      "source": [
        "set.seed(24)\n",
        "\n",
        "wf_set_fitted <-\n",
        "  wf_set %>%\n",
        "  workflow_map(             # replace the fonction fit , fit_resamples,\n",
        "    resamples = folds,\n",
        "    metrics= metric_set(accuracy, roc_auc),\n",
        "    grid = 20,\n",
        "    fn= \"tune_grid\",\n",
        "    verbose = TRUE)"
      ],
      "metadata": {
        "colab": {
          "base_uri": "https://localhost:8080/"
        },
        "id": "taQZ1T5fME5M",
        "outputId": "97d16ea5-ffd0-44da-a05c-25a2643b6b0c"
      },
      "execution_count": 52,
      "outputs": [
        {
          "output_type": "stream",
          "name": "stderr",
          "text": [
            "\u001b[34mi\u001b[39m\t\u001b[30mNo tuning parameters. `fit_resamples()` will be attempted\u001b[39m\n",
            "\n",
            "\u001b[34mi\u001b[39m \u001b[30m 1 of 12 resampling: basic_log\u001b[39m\n",
            "\n",
            "→ \u001b[33m\u001b[1mA\u001b[22m\u001b[39m | \u001b[33mwarning\u001b[39m: glm.fit: fitted probabilities numerically 0 or 1 occurred\n",
            "\n",
            "There were issues with some computations   \u001b[1m\u001b[33mA\u001b[39m\u001b[22m: x1\n",
            "\n",
            "There were issues with some computations   \u001b[1m\u001b[33mA\u001b[39m\u001b[22m: x1\n",
            "\n",
            "\n",
            "\n",
            "\u001b[32m✔\u001b[39m \u001b[30m 1 of 12 resampling: basic_log\u001b[39m\u001b[30m (1.3s)\u001b[39m\n",
            "\n",
            "\u001b[34mi\u001b[39m\t\u001b[30mNo tuning parameters. `fit_resamples()` will be attempted\u001b[39m\n",
            "\n",
            "\u001b[34mi\u001b[39m \u001b[30m 2 of 12 resampling: basic_rf\u001b[39m\n",
            "\n",
            "\u001b[32m✔\u001b[39m \u001b[30m 2 of 12 resampling: basic_rf\u001b[39m\u001b[30m (2.8s)\u001b[39m\n",
            "\n",
            "\u001b[34mi\u001b[39m \u001b[30m 3 of 12 tuning:     basic_tune_rf\u001b[39m\n",
            "\n",
            "\u001b[32m✔\u001b[39m \u001b[30m 3 of 12 tuning:     basic_tune_rf\u001b[39m\u001b[30m (1m 13.9s)\u001b[39m\n",
            "\n",
            "\u001b[34mi\u001b[39m\t\u001b[30mNo tuning parameters. `fit_resamples()` will be attempted\u001b[39m\n",
            "\n",
            "\u001b[34mi\u001b[39m \u001b[30m 4 of 12 resampling: basic_xgb\u001b[39m\n",
            "\n",
            "\u001b[32m✔\u001b[39m \u001b[30m 4 of 12 resampling: basic_xgb\u001b[39m\u001b[30m (1.4s)\u001b[39m\n",
            "\n",
            "\u001b[34mi\u001b[39m\t\u001b[30mNo tuning parameters. `fit_resamples()` will be attempted\u001b[39m\n",
            "\n",
            "\u001b[34mi\u001b[39m \u001b[30m 5 of 12 resampling: inter_log\u001b[39m\n",
            "\n",
            "→ \u001b[33m\u001b[1mA\u001b[22m\u001b[39m | \u001b[33mwarning\u001b[39m: glm.fit: fitted probabilities numerically 0 or 1 occurred\n",
            "\n",
            "There were issues with some computations   \u001b[1m\u001b[33mA\u001b[39m\u001b[22m: x1\n",
            "\n",
            "There were issues with some computations   \u001b[1m\u001b[33mA\u001b[39m\u001b[22m: x1\n",
            "\n",
            "\n",
            "\n",
            "\u001b[32m✔\u001b[39m \u001b[30m 5 of 12 resampling: inter_log\u001b[39m\u001b[30m (1.5s)\u001b[39m\n",
            "\n",
            "\u001b[34mi\u001b[39m\t\u001b[30mNo tuning parameters. `fit_resamples()` will be attempted\u001b[39m\n",
            "\n",
            "\u001b[34mi\u001b[39m \u001b[30m 6 of 12 resampling: inter_rf\u001b[39m\n",
            "\n",
            "\u001b[32m✔\u001b[39m \u001b[30m 6 of 12 resampling: inter_rf\u001b[39m\u001b[30m (3.2s)\u001b[39m\n",
            "\n",
            "\u001b[34mi\u001b[39m \u001b[30m 7 of 12 tuning:     inter_tune_rf\u001b[39m\n",
            "\n",
            "\u001b[32m✔\u001b[39m \u001b[30m 7 of 12 tuning:     inter_tune_rf\u001b[39m\u001b[30m (1m 22.8s)\u001b[39m\n",
            "\n",
            "\u001b[34mi\u001b[39m\t\u001b[30mNo tuning parameters. `fit_resamples()` will be attempted\u001b[39m\n",
            "\n",
            "\u001b[34mi\u001b[39m \u001b[30m 8 of 12 resampling: inter_xgb\u001b[39m\n",
            "\n",
            "\u001b[32m✔\u001b[39m \u001b[30m 8 of 12 resampling: inter_xgb\u001b[39m\u001b[30m (1.6s)\u001b[39m\n",
            "\n",
            "\u001b[34mi\u001b[39m \u001b[30m 9 of 12 tuning:     spline_log\u001b[39m\n",
            "\n",
            "→ \u001b[33m\u001b[1mA\u001b[22m\u001b[39m | \u001b[33mwarning\u001b[39m: glm.fit: fitted probabilities numerically 0 or 1 occurred\n",
            "\n",
            "There were issues with some computations   \u001b[1m\u001b[33mA\u001b[39m\u001b[22m: x1\n",
            "\n",
            "There were issues with some computations   \u001b[1m\u001b[33mA\u001b[39m\u001b[22m: x4\n",
            "\n",
            "There were issues with some computations   \u001b[1m\u001b[33mA\u001b[39m\u001b[22m: x14\n",
            "\n",
            "There were issues with some computations   \u001b[1m\u001b[33mA\u001b[39m\u001b[22m: x14\n",
            "\n",
            "\n",
            "\n",
            "\u001b[32m✔\u001b[39m \u001b[30m 9 of 12 tuning:     spline_log\u001b[39m\u001b[30m (20.8s)\u001b[39m\n",
            "\n",
            "\u001b[34mi\u001b[39m \u001b[30m10 of 12 tuning:     spline_rf\u001b[39m\n",
            "\n",
            "\u001b[32m✔\u001b[39m \u001b[30m10 of 12 tuning:     spline_rf\u001b[39m\u001b[30m (43.7s)\u001b[39m\n",
            "\n",
            "\u001b[34mi\u001b[39m \u001b[30m11 of 12 tuning:     spline_tune_rf\u001b[39m\n",
            "\n",
            "\u001b[32m✔\u001b[39m \u001b[30m11 of 12 tuning:     spline_tune_rf\u001b[39m\u001b[30m (1m 26.9s)\u001b[39m\n",
            "\n",
            "\u001b[34mi\u001b[39m \u001b[30m12 of 12 tuning:     spline_xgb\u001b[39m\n",
            "\n",
            "\u001b[32m✔\u001b[39m \u001b[30m12 of 12 tuning:     spline_xgb\u001b[39m\u001b[30m (24s)\u001b[39m\n",
            "\n"
          ]
        }
      ]
    },
    {
      "cell_type": "markdown",
      "source": [
        "#7.3 Evaluation of all workflow in wf set"
      ],
      "metadata": {
        "id": "suV6jBeYQThq"
      }
    },
    {
      "cell_type": "code",
      "source": [
        "rank_results(wf_set_fitted, rank_metric = 'roc_auc') # 0.8646417\n"
      ],
      "metadata": {
        "colab": {
          "base_uri": "https://localhost:8080/",
          "height": 1000
        },
        "id": "NHNLn3VuME2m",
        "outputId": "3cafb74b-9854-4d62-a5a7-8f299f8854f3"
      },
      "execution_count": 57,
      "outputs": [
        {
          "output_type": "display_data",
          "data": {
            "text/html": [
              "<table class=\"dataframe\">\n",
              "<caption>A tibble: 216 × 9</caption>\n",
              "<thead>\n",
              "\t<tr><th scope=col>wflow_id</th><th scope=col>.config</th><th scope=col>.metric</th><th scope=col>mean</th><th scope=col>std_err</th><th scope=col>n</th><th scope=col>preprocessor</th><th scope=col>model</th><th scope=col>rank</th></tr>\n",
              "\t<tr><th scope=col>&lt;chr&gt;</th><th scope=col>&lt;chr&gt;</th><th scope=col>&lt;chr&gt;</th><th scope=col>&lt;dbl&gt;</th><th scope=col>&lt;dbl&gt;</th><th scope=col>&lt;int&gt;</th><th scope=col>&lt;chr&gt;</th><th scope=col>&lt;chr&gt;</th><th scope=col>&lt;int&gt;</th></tr>\n",
              "</thead>\n",
              "<tbody>\n",
              "\t<tr><td>inter_xgb     </td><td>Preprocessor1_Model1 </td><td>accuracy</td><td>0.9375615</td><td>0.004066415</td><td>5</td><td>recipe</td><td>boost_tree </td><td> 1</td></tr>\n",
              "\t<tr><td>inter_xgb     </td><td>Preprocessor1_Model1 </td><td>roc_auc </td><td>0.8646417</td><td>0.011435346</td><td>5</td><td>recipe</td><td>boost_tree </td><td> 1</td></tr>\n",
              "\t<tr><td>spline_rf     </td><td>Preprocessor06_Model1</td><td>accuracy</td><td>0.9385049</td><td>0.004237095</td><td>5</td><td>recipe</td><td>rand_forest</td><td> 2</td></tr>\n",
              "\t<tr><td>spline_rf     </td><td>Preprocessor06_Model1</td><td>roc_auc </td><td>0.8457869</td><td>0.010431249</td><td>5</td><td>recipe</td><td>rand_forest</td><td> 2</td></tr>\n",
              "\t<tr><td>spline_rf     </td><td>Preprocessor03_Model1</td><td>accuracy</td><td>0.9385049</td><td>0.004237095</td><td>5</td><td>recipe</td><td>rand_forest</td><td> 3</td></tr>\n",
              "\t<tr><td>spline_rf     </td><td>Preprocessor03_Model1</td><td>roc_auc </td><td>0.8457336</td><td>0.010753623</td><td>5</td><td>recipe</td><td>rand_forest</td><td> 3</td></tr>\n",
              "\t<tr><td>basic_tune_rf </td><td>Preprocessor1_Model12</td><td>accuracy</td><td>0.9385049</td><td>0.004237095</td><td>5</td><td>recipe</td><td>rand_forest</td><td> 4</td></tr>\n",
              "\t<tr><td>basic_tune_rf </td><td>Preprocessor1_Model12</td><td>roc_auc </td><td>0.8447027</td><td>0.010459633</td><td>5</td><td>recipe</td><td>rand_forest</td><td> 4</td></tr>\n",
              "\t<tr><td>spline_rf     </td><td>Preprocessor08_Model1</td><td>accuracy</td><td>0.9375615</td><td>0.004066415</td><td>5</td><td>recipe</td><td>rand_forest</td><td> 5</td></tr>\n",
              "\t<tr><td>spline_rf     </td><td>Preprocessor08_Model1</td><td>roc_auc </td><td>0.8446264</td><td>0.011269984</td><td>5</td><td>recipe</td><td>rand_forest</td><td> 5</td></tr>\n",
              "\t<tr><td>basic_rf      </td><td>Preprocessor1_Model1 </td><td>accuracy</td><td>0.9375570</td><td>0.003796612</td><td>5</td><td>recipe</td><td>rand_forest</td><td> 6</td></tr>\n",
              "\t<tr><td>basic_rf      </td><td>Preprocessor1_Model1 </td><td>roc_auc </td><td>0.8434012</td><td>0.009498568</td><td>5</td><td>recipe</td><td>rand_forest</td><td> 6</td></tr>\n",
              "\t<tr><td>spline_rf     </td><td>Preprocessor10_Model1</td><td>accuracy</td><td>0.9366136</td><td>0.003542585</td><td>5</td><td>recipe</td><td>rand_forest</td><td> 7</td></tr>\n",
              "\t<tr><td>spline_rf     </td><td>Preprocessor10_Model1</td><td>roc_auc </td><td>0.8431966</td><td>0.010141705</td><td>5</td><td>recipe</td><td>rand_forest</td><td> 7</td></tr>\n",
              "\t<tr><td>spline_rf     </td><td>Preprocessor04_Model1</td><td>accuracy</td><td>0.9385049</td><td>0.004237095</td><td>5</td><td>recipe</td><td>rand_forest</td><td> 8</td></tr>\n",
              "\t<tr><td>spline_rf     </td><td>Preprocessor04_Model1</td><td>roc_auc </td><td>0.8425718</td><td>0.011060088</td><td>5</td><td>recipe</td><td>rand_forest</td><td> 8</td></tr>\n",
              "\t<tr><td>spline_tune_rf</td><td>Preprocessor07_Model2</td><td>accuracy</td><td>0.9375570</td><td>0.003796612</td><td>5</td><td>recipe</td><td>rand_forest</td><td> 9</td></tr>\n",
              "\t<tr><td>spline_tune_rf</td><td>Preprocessor07_Model2</td><td>roc_auc </td><td>0.8424499</td><td>0.008513306</td><td>5</td><td>recipe</td><td>rand_forest</td><td> 9</td></tr>\n",
              "\t<tr><td>basic_tune_rf </td><td>Preprocessor1_Model16</td><td>accuracy</td><td>0.9385049</td><td>0.004237095</td><td>5</td><td>recipe</td><td>rand_forest</td><td>10</td></tr>\n",
              "\t<tr><td>basic_tune_rf </td><td>Preprocessor1_Model16</td><td>roc_auc </td><td>0.8421964</td><td>0.009829458</td><td>5</td><td>recipe</td><td>rand_forest</td><td>10</td></tr>\n",
              "\t<tr><td>basic_tune_rf </td><td>Preprocessor1_Model05</td><td>accuracy</td><td>0.9375570</td><td>0.003796612</td><td>5</td><td>recipe</td><td>rand_forest</td><td>11</td></tr>\n",
              "\t<tr><td>basic_tune_rf </td><td>Preprocessor1_Model05</td><td>roc_auc </td><td>0.8419871</td><td>0.013722999</td><td>5</td><td>recipe</td><td>rand_forest</td><td>11</td></tr>\n",
              "\t<tr><td>spline_rf     </td><td>Preprocessor12_Model1</td><td>accuracy</td><td>0.9385049</td><td>0.004237095</td><td>5</td><td>recipe</td><td>rand_forest</td><td>12</td></tr>\n",
              "\t<tr><td>spline_rf     </td><td>Preprocessor12_Model1</td><td>roc_auc </td><td>0.8419762</td><td>0.008254770</td><td>5</td><td>recipe</td><td>rand_forest</td><td>12</td></tr>\n",
              "\t<tr><td>spline_tune_rf</td><td>Preprocessor03_Model2</td><td>accuracy</td><td>0.9375570</td><td>0.003796612</td><td>5</td><td>recipe</td><td>rand_forest</td><td>13</td></tr>\n",
              "\t<tr><td>spline_tune_rf</td><td>Preprocessor03_Model2</td><td>roc_auc </td><td>0.8416319</td><td>0.010867382</td><td>5</td><td>recipe</td><td>rand_forest</td><td>13</td></tr>\n",
              "\t<tr><td>inter_tune_rf </td><td>Preprocessor1_Model15</td><td>accuracy</td><td>0.9347223</td><td>0.004586833</td><td>5</td><td>recipe</td><td>rand_forest</td><td>14</td></tr>\n",
              "\t<tr><td>inter_tune_rf </td><td>Preprocessor1_Model15</td><td>roc_auc </td><td>0.8413829</td><td>0.010218856</td><td>5</td><td>recipe</td><td>rand_forest</td><td>14</td></tr>\n",
              "\t<tr><td>spline_rf     </td><td>Preprocessor14_Model1</td><td>accuracy</td><td>0.9366136</td><td>0.003542585</td><td>5</td><td>recipe</td><td>rand_forest</td><td>15</td></tr>\n",
              "\t<tr><td>spline_rf     </td><td>Preprocessor14_Model1</td><td>roc_auc </td><td>0.8413751</td><td>0.012943272</td><td>5</td><td>recipe</td><td>rand_forest</td><td>15</td></tr>\n",
              "\t<tr><td>⋮</td><td>⋮</td><td>⋮</td><td>⋮</td><td>⋮</td><td>⋮</td><td>⋮</td><td>⋮</td><td>⋮</td></tr>\n",
              "\t<tr><td>spline_log</td><td>Preprocessor09_Model1</td><td>accuracy</td><td>0.9385049</td><td>0.004237095</td><td>5</td><td>recipe</td><td>logistic_reg</td><td> 94</td></tr>\n",
              "\t<tr><td>spline_log</td><td>Preprocessor09_Model1</td><td>roc_auc </td><td>0.8320461</td><td>0.011074104</td><td>5</td><td>recipe</td><td>logistic_reg</td><td> 94</td></tr>\n",
              "\t<tr><td>spline_log</td><td>Preprocessor10_Model1</td><td>accuracy</td><td>0.9385049</td><td>0.004237095</td><td>5</td><td>recipe</td><td>logistic_reg</td><td> 95</td></tr>\n",
              "\t<tr><td>spline_log</td><td>Preprocessor10_Model1</td><td>roc_auc </td><td>0.8320461</td><td>0.011074104</td><td>5</td><td>recipe</td><td>logistic_reg</td><td> 95</td></tr>\n",
              "\t<tr><td>spline_log</td><td>Preprocessor08_Model1</td><td>accuracy</td><td>0.9385049</td><td>0.004237095</td><td>5</td><td>recipe</td><td>logistic_reg</td><td> 96</td></tr>\n",
              "\t<tr><td>spline_log</td><td>Preprocessor08_Model1</td><td>roc_auc </td><td>0.8320461</td><td>0.011074104</td><td>5</td><td>recipe</td><td>logistic_reg</td><td> 96</td></tr>\n",
              "\t<tr><td>basic_log </td><td>Preprocessor1_Model1 </td><td>accuracy</td><td>0.9385049</td><td>0.004237095</td><td>5</td><td>recipe</td><td>logistic_reg</td><td> 97</td></tr>\n",
              "\t<tr><td>basic_log </td><td>Preprocessor1_Model1 </td><td>roc_auc </td><td>0.8320461</td><td>0.011074104</td><td>5</td><td>recipe</td><td>logistic_reg</td><td> 97</td></tr>\n",
              "\t<tr><td>spline_log</td><td>Preprocessor11_Model1</td><td>accuracy</td><td>0.9385049</td><td>0.004237095</td><td>5</td><td>recipe</td><td>logistic_reg</td><td> 98</td></tr>\n",
              "\t<tr><td>spline_log</td><td>Preprocessor11_Model1</td><td>roc_auc </td><td>0.8320461</td><td>0.011074104</td><td>5</td><td>recipe</td><td>logistic_reg</td><td> 98</td></tr>\n",
              "\t<tr><td>spline_log</td><td>Preprocessor14_Model1</td><td>accuracy</td><td>0.9385049</td><td>0.004237095</td><td>5</td><td>recipe</td><td>logistic_reg</td><td> 99</td></tr>\n",
              "\t<tr><td>spline_log</td><td>Preprocessor14_Model1</td><td>roc_auc </td><td>0.8320461</td><td>0.011074104</td><td>5</td><td>recipe</td><td>logistic_reg</td><td> 99</td></tr>\n",
              "\t<tr><td>spline_log</td><td>Preprocessor07_Model1</td><td>accuracy</td><td>0.9385049</td><td>0.004237095</td><td>5</td><td>recipe</td><td>logistic_reg</td><td>100</td></tr>\n",
              "\t<tr><td>spline_log</td><td>Preprocessor07_Model1</td><td>roc_auc </td><td>0.8320461</td><td>0.011074104</td><td>5</td><td>recipe</td><td>logistic_reg</td><td>100</td></tr>\n",
              "\t<tr><td>spline_log</td><td>Preprocessor02_Model1</td><td>accuracy</td><td>0.9385049</td><td>0.004237095</td><td>5</td><td>recipe</td><td>logistic_reg</td><td>101</td></tr>\n",
              "\t<tr><td>spline_log</td><td>Preprocessor02_Model1</td><td>roc_auc </td><td>0.8320461</td><td>0.011074104</td><td>5</td><td>recipe</td><td>logistic_reg</td><td>101</td></tr>\n",
              "\t<tr><td>spline_log</td><td>Preprocessor05_Model1</td><td>accuracy</td><td>0.9385049</td><td>0.004237095</td><td>5</td><td>recipe</td><td>logistic_reg</td><td>102</td></tr>\n",
              "\t<tr><td>spline_log</td><td>Preprocessor05_Model1</td><td>roc_auc </td><td>0.8320461</td><td>0.011074104</td><td>5</td><td>recipe</td><td>logistic_reg</td><td>102</td></tr>\n",
              "\t<tr><td>spline_log</td><td>Preprocessor12_Model1</td><td>accuracy</td><td>0.9385049</td><td>0.004237095</td><td>5</td><td>recipe</td><td>logistic_reg</td><td>103</td></tr>\n",
              "\t<tr><td>spline_log</td><td>Preprocessor12_Model1</td><td>roc_auc </td><td>0.8320461</td><td>0.011074104</td><td>5</td><td>recipe</td><td>logistic_reg</td><td>103</td></tr>\n",
              "\t<tr><td>spline_log</td><td>Preprocessor13_Model1</td><td>accuracy</td><td>0.9385049</td><td>0.004237095</td><td>5</td><td>recipe</td><td>logistic_reg</td><td>104</td></tr>\n",
              "\t<tr><td>spline_log</td><td>Preprocessor13_Model1</td><td>roc_auc </td><td>0.8320461</td><td>0.011074104</td><td>5</td><td>recipe</td><td>logistic_reg</td><td>104</td></tr>\n",
              "\t<tr><td>spline_log</td><td>Preprocessor04_Model1</td><td>accuracy</td><td>0.9385049</td><td>0.004237095</td><td>5</td><td>recipe</td><td>logistic_reg</td><td>105</td></tr>\n",
              "\t<tr><td>spline_log</td><td>Preprocessor04_Model1</td><td>roc_auc </td><td>0.8320461</td><td>0.011074104</td><td>5</td><td>recipe</td><td>logistic_reg</td><td>105</td></tr>\n",
              "\t<tr><td>spline_log</td><td>Preprocessor03_Model1</td><td>accuracy</td><td>0.9385049</td><td>0.004237095</td><td>5</td><td>recipe</td><td>logistic_reg</td><td>106</td></tr>\n",
              "\t<tr><td>spline_log</td><td>Preprocessor03_Model1</td><td>roc_auc </td><td>0.8320461</td><td>0.011074104</td><td>5</td><td>recipe</td><td>logistic_reg</td><td>106</td></tr>\n",
              "\t<tr><td>spline_log</td><td>Preprocessor06_Model1</td><td>accuracy</td><td>0.9385049</td><td>0.004237095</td><td>5</td><td>recipe</td><td>logistic_reg</td><td>107</td></tr>\n",
              "\t<tr><td>spline_log</td><td>Preprocessor06_Model1</td><td>roc_auc </td><td>0.8320461</td><td>0.011074104</td><td>5</td><td>recipe</td><td>logistic_reg</td><td>107</td></tr>\n",
              "\t<tr><td>inter_log </td><td>Preprocessor1_Model1 </td><td>accuracy</td><td>0.9375570</td><td>0.003796612</td><td>5</td><td>recipe</td><td>logistic_reg</td><td>108</td></tr>\n",
              "\t<tr><td>inter_log </td><td>Preprocessor1_Model1 </td><td>roc_auc </td><td>0.8219343</td><td>0.010737444</td><td>5</td><td>recipe</td><td>logistic_reg</td><td>108</td></tr>\n",
              "</tbody>\n",
              "</table>\n"
            ],
            "text/markdown": "\nA tibble: 216 × 9\n\n| wflow_id &lt;chr&gt; | .config &lt;chr&gt; | .metric &lt;chr&gt; | mean &lt;dbl&gt; | std_err &lt;dbl&gt; | n &lt;int&gt; | preprocessor &lt;chr&gt; | model &lt;chr&gt; | rank &lt;int&gt; |\n|---|---|---|---|---|---|---|---|---|\n| inter_xgb      | Preprocessor1_Model1  | accuracy | 0.9375615 | 0.004066415 | 5 | recipe | boost_tree  |  1 |\n| inter_xgb      | Preprocessor1_Model1  | roc_auc  | 0.8646417 | 0.011435346 | 5 | recipe | boost_tree  |  1 |\n| spline_rf      | Preprocessor06_Model1 | accuracy | 0.9385049 | 0.004237095 | 5 | recipe | rand_forest |  2 |\n| spline_rf      | Preprocessor06_Model1 | roc_auc  | 0.8457869 | 0.010431249 | 5 | recipe | rand_forest |  2 |\n| spline_rf      | Preprocessor03_Model1 | accuracy | 0.9385049 | 0.004237095 | 5 | recipe | rand_forest |  3 |\n| spline_rf      | Preprocessor03_Model1 | roc_auc  | 0.8457336 | 0.010753623 | 5 | recipe | rand_forest |  3 |\n| basic_tune_rf  | Preprocessor1_Model12 | accuracy | 0.9385049 | 0.004237095 | 5 | recipe | rand_forest |  4 |\n| basic_tune_rf  | Preprocessor1_Model12 | roc_auc  | 0.8447027 | 0.010459633 | 5 | recipe | rand_forest |  4 |\n| spline_rf      | Preprocessor08_Model1 | accuracy | 0.9375615 | 0.004066415 | 5 | recipe | rand_forest |  5 |\n| spline_rf      | Preprocessor08_Model1 | roc_auc  | 0.8446264 | 0.011269984 | 5 | recipe | rand_forest |  5 |\n| basic_rf       | Preprocessor1_Model1  | accuracy | 0.9375570 | 0.003796612 | 5 | recipe | rand_forest |  6 |\n| basic_rf       | Preprocessor1_Model1  | roc_auc  | 0.8434012 | 0.009498568 | 5 | recipe | rand_forest |  6 |\n| spline_rf      | Preprocessor10_Model1 | accuracy | 0.9366136 | 0.003542585 | 5 | recipe | rand_forest |  7 |\n| spline_rf      | Preprocessor10_Model1 | roc_auc  | 0.8431966 | 0.010141705 | 5 | recipe | rand_forest |  7 |\n| spline_rf      | Preprocessor04_Model1 | accuracy | 0.9385049 | 0.004237095 | 5 | recipe | rand_forest |  8 |\n| spline_rf      | Preprocessor04_Model1 | roc_auc  | 0.8425718 | 0.011060088 | 5 | recipe | rand_forest |  8 |\n| spline_tune_rf | Preprocessor07_Model2 | accuracy | 0.9375570 | 0.003796612 | 5 | recipe | rand_forest |  9 |\n| spline_tune_rf | Preprocessor07_Model2 | roc_auc  | 0.8424499 | 0.008513306 | 5 | recipe | rand_forest |  9 |\n| basic_tune_rf  | Preprocessor1_Model16 | accuracy | 0.9385049 | 0.004237095 | 5 | recipe | rand_forest | 10 |\n| basic_tune_rf  | Preprocessor1_Model16 | roc_auc  | 0.8421964 | 0.009829458 | 5 | recipe | rand_forest | 10 |\n| basic_tune_rf  | Preprocessor1_Model05 | accuracy | 0.9375570 | 0.003796612 | 5 | recipe | rand_forest | 11 |\n| basic_tune_rf  | Preprocessor1_Model05 | roc_auc  | 0.8419871 | 0.013722999 | 5 | recipe | rand_forest | 11 |\n| spline_rf      | Preprocessor12_Model1 | accuracy | 0.9385049 | 0.004237095 | 5 | recipe | rand_forest | 12 |\n| spline_rf      | Preprocessor12_Model1 | roc_auc  | 0.8419762 | 0.008254770 | 5 | recipe | rand_forest | 12 |\n| spline_tune_rf | Preprocessor03_Model2 | accuracy | 0.9375570 | 0.003796612 | 5 | recipe | rand_forest | 13 |\n| spline_tune_rf | Preprocessor03_Model2 | roc_auc  | 0.8416319 | 0.010867382 | 5 | recipe | rand_forest | 13 |\n| inter_tune_rf  | Preprocessor1_Model15 | accuracy | 0.9347223 | 0.004586833 | 5 | recipe | rand_forest | 14 |\n| inter_tune_rf  | Preprocessor1_Model15 | roc_auc  | 0.8413829 | 0.010218856 | 5 | recipe | rand_forest | 14 |\n| spline_rf      | Preprocessor14_Model1 | accuracy | 0.9366136 | 0.003542585 | 5 | recipe | rand_forest | 15 |\n| spline_rf      | Preprocessor14_Model1 | roc_auc  | 0.8413751 | 0.012943272 | 5 | recipe | rand_forest | 15 |\n| ⋮ | ⋮ | ⋮ | ⋮ | ⋮ | ⋮ | ⋮ | ⋮ | ⋮ |\n| spline_log | Preprocessor09_Model1 | accuracy | 0.9385049 | 0.004237095 | 5 | recipe | logistic_reg |  94 |\n| spline_log | Preprocessor09_Model1 | roc_auc  | 0.8320461 | 0.011074104 | 5 | recipe | logistic_reg |  94 |\n| spline_log | Preprocessor10_Model1 | accuracy | 0.9385049 | 0.004237095 | 5 | recipe | logistic_reg |  95 |\n| spline_log | Preprocessor10_Model1 | roc_auc  | 0.8320461 | 0.011074104 | 5 | recipe | logistic_reg |  95 |\n| spline_log | Preprocessor08_Model1 | accuracy | 0.9385049 | 0.004237095 | 5 | recipe | logistic_reg |  96 |\n| spline_log | Preprocessor08_Model1 | roc_auc  | 0.8320461 | 0.011074104 | 5 | recipe | logistic_reg |  96 |\n| basic_log  | Preprocessor1_Model1  | accuracy | 0.9385049 | 0.004237095 | 5 | recipe | logistic_reg |  97 |\n| basic_log  | Preprocessor1_Model1  | roc_auc  | 0.8320461 | 0.011074104 | 5 | recipe | logistic_reg |  97 |\n| spline_log | Preprocessor11_Model1 | accuracy | 0.9385049 | 0.004237095 | 5 | recipe | logistic_reg |  98 |\n| spline_log | Preprocessor11_Model1 | roc_auc  | 0.8320461 | 0.011074104 | 5 | recipe | logistic_reg |  98 |\n| spline_log | Preprocessor14_Model1 | accuracy | 0.9385049 | 0.004237095 | 5 | recipe | logistic_reg |  99 |\n| spline_log | Preprocessor14_Model1 | roc_auc  | 0.8320461 | 0.011074104 | 5 | recipe | logistic_reg |  99 |\n| spline_log | Preprocessor07_Model1 | accuracy | 0.9385049 | 0.004237095 | 5 | recipe | logistic_reg | 100 |\n| spline_log | Preprocessor07_Model1 | roc_auc  | 0.8320461 | 0.011074104 | 5 | recipe | logistic_reg | 100 |\n| spline_log | Preprocessor02_Model1 | accuracy | 0.9385049 | 0.004237095 | 5 | recipe | logistic_reg | 101 |\n| spline_log | Preprocessor02_Model1 | roc_auc  | 0.8320461 | 0.011074104 | 5 | recipe | logistic_reg | 101 |\n| spline_log | Preprocessor05_Model1 | accuracy | 0.9385049 | 0.004237095 | 5 | recipe | logistic_reg | 102 |\n| spline_log | Preprocessor05_Model1 | roc_auc  | 0.8320461 | 0.011074104 | 5 | recipe | logistic_reg | 102 |\n| spline_log | Preprocessor12_Model1 | accuracy | 0.9385049 | 0.004237095 | 5 | recipe | logistic_reg | 103 |\n| spline_log | Preprocessor12_Model1 | roc_auc  | 0.8320461 | 0.011074104 | 5 | recipe | logistic_reg | 103 |\n| spline_log | Preprocessor13_Model1 | accuracy | 0.9385049 | 0.004237095 | 5 | recipe | logistic_reg | 104 |\n| spline_log | Preprocessor13_Model1 | roc_auc  | 0.8320461 | 0.011074104 | 5 | recipe | logistic_reg | 104 |\n| spline_log | Preprocessor04_Model1 | accuracy | 0.9385049 | 0.004237095 | 5 | recipe | logistic_reg | 105 |\n| spline_log | Preprocessor04_Model1 | roc_auc  | 0.8320461 | 0.011074104 | 5 | recipe | logistic_reg | 105 |\n| spline_log | Preprocessor03_Model1 | accuracy | 0.9385049 | 0.004237095 | 5 | recipe | logistic_reg | 106 |\n| spline_log | Preprocessor03_Model1 | roc_auc  | 0.8320461 | 0.011074104 | 5 | recipe | logistic_reg | 106 |\n| spline_log | Preprocessor06_Model1 | accuracy | 0.9385049 | 0.004237095 | 5 | recipe | logistic_reg | 107 |\n| spline_log | Preprocessor06_Model1 | roc_auc  | 0.8320461 | 0.011074104 | 5 | recipe | logistic_reg | 107 |\n| inter_log  | Preprocessor1_Model1  | accuracy | 0.9375570 | 0.003796612 | 5 | recipe | logistic_reg | 108 |\n| inter_log  | Preprocessor1_Model1  | roc_auc  | 0.8219343 | 0.010737444 | 5 | recipe | logistic_reg | 108 |\n\n",
            "text/latex": "A tibble: 216 × 9\n\\begin{tabular}{lllllllll}\n wflow\\_id & .config & .metric & mean & std\\_err & n & preprocessor & model & rank\\\\\n <chr> & <chr> & <chr> & <dbl> & <dbl> & <int> & <chr> & <chr> & <int>\\\\\n\\hline\n\t inter\\_xgb      & Preprocessor1\\_Model1  & accuracy & 0.9375615 & 0.004066415 & 5 & recipe & boost\\_tree  &  1\\\\\n\t inter\\_xgb      & Preprocessor1\\_Model1  & roc\\_auc  & 0.8646417 & 0.011435346 & 5 & recipe & boost\\_tree  &  1\\\\\n\t spline\\_rf      & Preprocessor06\\_Model1 & accuracy & 0.9385049 & 0.004237095 & 5 & recipe & rand\\_forest &  2\\\\\n\t spline\\_rf      & Preprocessor06\\_Model1 & roc\\_auc  & 0.8457869 & 0.010431249 & 5 & recipe & rand\\_forest &  2\\\\\n\t spline\\_rf      & Preprocessor03\\_Model1 & accuracy & 0.9385049 & 0.004237095 & 5 & recipe & rand\\_forest &  3\\\\\n\t spline\\_rf      & Preprocessor03\\_Model1 & roc\\_auc  & 0.8457336 & 0.010753623 & 5 & recipe & rand\\_forest &  3\\\\\n\t basic\\_tune\\_rf  & Preprocessor1\\_Model12 & accuracy & 0.9385049 & 0.004237095 & 5 & recipe & rand\\_forest &  4\\\\\n\t basic\\_tune\\_rf  & Preprocessor1\\_Model12 & roc\\_auc  & 0.8447027 & 0.010459633 & 5 & recipe & rand\\_forest &  4\\\\\n\t spline\\_rf      & Preprocessor08\\_Model1 & accuracy & 0.9375615 & 0.004066415 & 5 & recipe & rand\\_forest &  5\\\\\n\t spline\\_rf      & Preprocessor08\\_Model1 & roc\\_auc  & 0.8446264 & 0.011269984 & 5 & recipe & rand\\_forest &  5\\\\\n\t basic\\_rf       & Preprocessor1\\_Model1  & accuracy & 0.9375570 & 0.003796612 & 5 & recipe & rand\\_forest &  6\\\\\n\t basic\\_rf       & Preprocessor1\\_Model1  & roc\\_auc  & 0.8434012 & 0.009498568 & 5 & recipe & rand\\_forest &  6\\\\\n\t spline\\_rf      & Preprocessor10\\_Model1 & accuracy & 0.9366136 & 0.003542585 & 5 & recipe & rand\\_forest &  7\\\\\n\t spline\\_rf      & Preprocessor10\\_Model1 & roc\\_auc  & 0.8431966 & 0.010141705 & 5 & recipe & rand\\_forest &  7\\\\\n\t spline\\_rf      & Preprocessor04\\_Model1 & accuracy & 0.9385049 & 0.004237095 & 5 & recipe & rand\\_forest &  8\\\\\n\t spline\\_rf      & Preprocessor04\\_Model1 & roc\\_auc  & 0.8425718 & 0.011060088 & 5 & recipe & rand\\_forest &  8\\\\\n\t spline\\_tune\\_rf & Preprocessor07\\_Model2 & accuracy & 0.9375570 & 0.003796612 & 5 & recipe & rand\\_forest &  9\\\\\n\t spline\\_tune\\_rf & Preprocessor07\\_Model2 & roc\\_auc  & 0.8424499 & 0.008513306 & 5 & recipe & rand\\_forest &  9\\\\\n\t basic\\_tune\\_rf  & Preprocessor1\\_Model16 & accuracy & 0.9385049 & 0.004237095 & 5 & recipe & rand\\_forest & 10\\\\\n\t basic\\_tune\\_rf  & Preprocessor1\\_Model16 & roc\\_auc  & 0.8421964 & 0.009829458 & 5 & recipe & rand\\_forest & 10\\\\\n\t basic\\_tune\\_rf  & Preprocessor1\\_Model05 & accuracy & 0.9375570 & 0.003796612 & 5 & recipe & rand\\_forest & 11\\\\\n\t basic\\_tune\\_rf  & Preprocessor1\\_Model05 & roc\\_auc  & 0.8419871 & 0.013722999 & 5 & recipe & rand\\_forest & 11\\\\\n\t spline\\_rf      & Preprocessor12\\_Model1 & accuracy & 0.9385049 & 0.004237095 & 5 & recipe & rand\\_forest & 12\\\\\n\t spline\\_rf      & Preprocessor12\\_Model1 & roc\\_auc  & 0.8419762 & 0.008254770 & 5 & recipe & rand\\_forest & 12\\\\\n\t spline\\_tune\\_rf & Preprocessor03\\_Model2 & accuracy & 0.9375570 & 0.003796612 & 5 & recipe & rand\\_forest & 13\\\\\n\t spline\\_tune\\_rf & Preprocessor03\\_Model2 & roc\\_auc  & 0.8416319 & 0.010867382 & 5 & recipe & rand\\_forest & 13\\\\\n\t inter\\_tune\\_rf  & Preprocessor1\\_Model15 & accuracy & 0.9347223 & 0.004586833 & 5 & recipe & rand\\_forest & 14\\\\\n\t inter\\_tune\\_rf  & Preprocessor1\\_Model15 & roc\\_auc  & 0.8413829 & 0.010218856 & 5 & recipe & rand\\_forest & 14\\\\\n\t spline\\_rf      & Preprocessor14\\_Model1 & accuracy & 0.9366136 & 0.003542585 & 5 & recipe & rand\\_forest & 15\\\\\n\t spline\\_rf      & Preprocessor14\\_Model1 & roc\\_auc  & 0.8413751 & 0.012943272 & 5 & recipe & rand\\_forest & 15\\\\\n\t ⋮ & ⋮ & ⋮ & ⋮ & ⋮ & ⋮ & ⋮ & ⋮ & ⋮\\\\\n\t spline\\_log & Preprocessor09\\_Model1 & accuracy & 0.9385049 & 0.004237095 & 5 & recipe & logistic\\_reg &  94\\\\\n\t spline\\_log & Preprocessor09\\_Model1 & roc\\_auc  & 0.8320461 & 0.011074104 & 5 & recipe & logistic\\_reg &  94\\\\\n\t spline\\_log & Preprocessor10\\_Model1 & accuracy & 0.9385049 & 0.004237095 & 5 & recipe & logistic\\_reg &  95\\\\\n\t spline\\_log & Preprocessor10\\_Model1 & roc\\_auc  & 0.8320461 & 0.011074104 & 5 & recipe & logistic\\_reg &  95\\\\\n\t spline\\_log & Preprocessor08\\_Model1 & accuracy & 0.9385049 & 0.004237095 & 5 & recipe & logistic\\_reg &  96\\\\\n\t spline\\_log & Preprocessor08\\_Model1 & roc\\_auc  & 0.8320461 & 0.011074104 & 5 & recipe & logistic\\_reg &  96\\\\\n\t basic\\_log  & Preprocessor1\\_Model1  & accuracy & 0.9385049 & 0.004237095 & 5 & recipe & logistic\\_reg &  97\\\\\n\t basic\\_log  & Preprocessor1\\_Model1  & roc\\_auc  & 0.8320461 & 0.011074104 & 5 & recipe & logistic\\_reg &  97\\\\\n\t spline\\_log & Preprocessor11\\_Model1 & accuracy & 0.9385049 & 0.004237095 & 5 & recipe & logistic\\_reg &  98\\\\\n\t spline\\_log & Preprocessor11\\_Model1 & roc\\_auc  & 0.8320461 & 0.011074104 & 5 & recipe & logistic\\_reg &  98\\\\\n\t spline\\_log & Preprocessor14\\_Model1 & accuracy & 0.9385049 & 0.004237095 & 5 & recipe & logistic\\_reg &  99\\\\\n\t spline\\_log & Preprocessor14\\_Model1 & roc\\_auc  & 0.8320461 & 0.011074104 & 5 & recipe & logistic\\_reg &  99\\\\\n\t spline\\_log & Preprocessor07\\_Model1 & accuracy & 0.9385049 & 0.004237095 & 5 & recipe & logistic\\_reg & 100\\\\\n\t spline\\_log & Preprocessor07\\_Model1 & roc\\_auc  & 0.8320461 & 0.011074104 & 5 & recipe & logistic\\_reg & 100\\\\\n\t spline\\_log & Preprocessor02\\_Model1 & accuracy & 0.9385049 & 0.004237095 & 5 & recipe & logistic\\_reg & 101\\\\\n\t spline\\_log & Preprocessor02\\_Model1 & roc\\_auc  & 0.8320461 & 0.011074104 & 5 & recipe & logistic\\_reg & 101\\\\\n\t spline\\_log & Preprocessor05\\_Model1 & accuracy & 0.9385049 & 0.004237095 & 5 & recipe & logistic\\_reg & 102\\\\\n\t spline\\_log & Preprocessor05\\_Model1 & roc\\_auc  & 0.8320461 & 0.011074104 & 5 & recipe & logistic\\_reg & 102\\\\\n\t spline\\_log & Preprocessor12\\_Model1 & accuracy & 0.9385049 & 0.004237095 & 5 & recipe & logistic\\_reg & 103\\\\\n\t spline\\_log & Preprocessor12\\_Model1 & roc\\_auc  & 0.8320461 & 0.011074104 & 5 & recipe & logistic\\_reg & 103\\\\\n\t spline\\_log & Preprocessor13\\_Model1 & accuracy & 0.9385049 & 0.004237095 & 5 & recipe & logistic\\_reg & 104\\\\\n\t spline\\_log & Preprocessor13\\_Model1 & roc\\_auc  & 0.8320461 & 0.011074104 & 5 & recipe & logistic\\_reg & 104\\\\\n\t spline\\_log & Preprocessor04\\_Model1 & accuracy & 0.9385049 & 0.004237095 & 5 & recipe & logistic\\_reg & 105\\\\\n\t spline\\_log & Preprocessor04\\_Model1 & roc\\_auc  & 0.8320461 & 0.011074104 & 5 & recipe & logistic\\_reg & 105\\\\\n\t spline\\_log & Preprocessor03\\_Model1 & accuracy & 0.9385049 & 0.004237095 & 5 & recipe & logistic\\_reg & 106\\\\\n\t spline\\_log & Preprocessor03\\_Model1 & roc\\_auc  & 0.8320461 & 0.011074104 & 5 & recipe & logistic\\_reg & 106\\\\\n\t spline\\_log & Preprocessor06\\_Model1 & accuracy & 0.9385049 & 0.004237095 & 5 & recipe & logistic\\_reg & 107\\\\\n\t spline\\_log & Preprocessor06\\_Model1 & roc\\_auc  & 0.8320461 & 0.011074104 & 5 & recipe & logistic\\_reg & 107\\\\\n\t inter\\_log  & Preprocessor1\\_Model1  & accuracy & 0.9375570 & 0.003796612 & 5 & recipe & logistic\\_reg & 108\\\\\n\t inter\\_log  & Preprocessor1\\_Model1  & roc\\_auc  & 0.8219343 & 0.010737444 & 5 & recipe & logistic\\_reg & 108\\\\\n\\end{tabular}\n",
            "text/plain": [
              "    wflow_id       .config               .metric  mean      std_err     n\n",
              "1   inter_xgb      Preprocessor1_Model1  accuracy 0.9375615 0.004066415 5\n",
              "2   inter_xgb      Preprocessor1_Model1  roc_auc  0.8646417 0.011435346 5\n",
              "3   spline_rf      Preprocessor06_Model1 accuracy 0.9385049 0.004237095 5\n",
              "4   spline_rf      Preprocessor06_Model1 roc_auc  0.8457869 0.010431249 5\n",
              "5   spline_rf      Preprocessor03_Model1 accuracy 0.9385049 0.004237095 5\n",
              "6   spline_rf      Preprocessor03_Model1 roc_auc  0.8457336 0.010753623 5\n",
              "7   basic_tune_rf  Preprocessor1_Model12 accuracy 0.9385049 0.004237095 5\n",
              "8   basic_tune_rf  Preprocessor1_Model12 roc_auc  0.8447027 0.010459633 5\n",
              "9   spline_rf      Preprocessor08_Model1 accuracy 0.9375615 0.004066415 5\n",
              "10  spline_rf      Preprocessor08_Model1 roc_auc  0.8446264 0.011269984 5\n",
              "11  basic_rf       Preprocessor1_Model1  accuracy 0.9375570 0.003796612 5\n",
              "12  basic_rf       Preprocessor1_Model1  roc_auc  0.8434012 0.009498568 5\n",
              "13  spline_rf      Preprocessor10_Model1 accuracy 0.9366136 0.003542585 5\n",
              "14  spline_rf      Preprocessor10_Model1 roc_auc  0.8431966 0.010141705 5\n",
              "15  spline_rf      Preprocessor04_Model1 accuracy 0.9385049 0.004237095 5\n",
              "16  spline_rf      Preprocessor04_Model1 roc_auc  0.8425718 0.011060088 5\n",
              "17  spline_tune_rf Preprocessor07_Model2 accuracy 0.9375570 0.003796612 5\n",
              "18  spline_tune_rf Preprocessor07_Model2 roc_auc  0.8424499 0.008513306 5\n",
              "19  basic_tune_rf  Preprocessor1_Model16 accuracy 0.9385049 0.004237095 5\n",
              "20  basic_tune_rf  Preprocessor1_Model16 roc_auc  0.8421964 0.009829458 5\n",
              "21  basic_tune_rf  Preprocessor1_Model05 accuracy 0.9375570 0.003796612 5\n",
              "22  basic_tune_rf  Preprocessor1_Model05 roc_auc  0.8419871 0.013722999 5\n",
              "23  spline_rf      Preprocessor12_Model1 accuracy 0.9385049 0.004237095 5\n",
              "24  spline_rf      Preprocessor12_Model1 roc_auc  0.8419762 0.008254770 5\n",
              "25  spline_tune_rf Preprocessor03_Model2 accuracy 0.9375570 0.003796612 5\n",
              "26  spline_tune_rf Preprocessor03_Model2 roc_auc  0.8416319 0.010867382 5\n",
              "27  inter_tune_rf  Preprocessor1_Model15 accuracy 0.9347223 0.004586833 5\n",
              "28  inter_tune_rf  Preprocessor1_Model15 roc_auc  0.8413829 0.010218856 5\n",
              "29  spline_rf      Preprocessor14_Model1 accuracy 0.9366136 0.003542585 5\n",
              "30  spline_rf      Preprocessor14_Model1 roc_auc  0.8413751 0.012943272 5\n",
              "⋮   ⋮              ⋮                     ⋮        ⋮         ⋮           ⋮\n",
              "187 spline_log     Preprocessor09_Model1 accuracy 0.9385049 0.004237095 5\n",
              "188 spline_log     Preprocessor09_Model1 roc_auc  0.8320461 0.011074104 5\n",
              "189 spline_log     Preprocessor10_Model1 accuracy 0.9385049 0.004237095 5\n",
              "190 spline_log     Preprocessor10_Model1 roc_auc  0.8320461 0.011074104 5\n",
              "191 spline_log     Preprocessor08_Model1 accuracy 0.9385049 0.004237095 5\n",
              "192 spline_log     Preprocessor08_Model1 roc_auc  0.8320461 0.011074104 5\n",
              "193 basic_log      Preprocessor1_Model1  accuracy 0.9385049 0.004237095 5\n",
              "194 basic_log      Preprocessor1_Model1  roc_auc  0.8320461 0.011074104 5\n",
              "195 spline_log     Preprocessor11_Model1 accuracy 0.9385049 0.004237095 5\n",
              "196 spline_log     Preprocessor11_Model1 roc_auc  0.8320461 0.011074104 5\n",
              "197 spline_log     Preprocessor14_Model1 accuracy 0.9385049 0.004237095 5\n",
              "198 spline_log     Preprocessor14_Model1 roc_auc  0.8320461 0.011074104 5\n",
              "199 spline_log     Preprocessor07_Model1 accuracy 0.9385049 0.004237095 5\n",
              "200 spline_log     Preprocessor07_Model1 roc_auc  0.8320461 0.011074104 5\n",
              "201 spline_log     Preprocessor02_Model1 accuracy 0.9385049 0.004237095 5\n",
              "202 spline_log     Preprocessor02_Model1 roc_auc  0.8320461 0.011074104 5\n",
              "203 spline_log     Preprocessor05_Model1 accuracy 0.9385049 0.004237095 5\n",
              "204 spline_log     Preprocessor05_Model1 roc_auc  0.8320461 0.011074104 5\n",
              "205 spline_log     Preprocessor12_Model1 accuracy 0.9385049 0.004237095 5\n",
              "206 spline_log     Preprocessor12_Model1 roc_auc  0.8320461 0.011074104 5\n",
              "207 spline_log     Preprocessor13_Model1 accuracy 0.9385049 0.004237095 5\n",
              "208 spline_log     Preprocessor13_Model1 roc_auc  0.8320461 0.011074104 5\n",
              "209 spline_log     Preprocessor04_Model1 accuracy 0.9385049 0.004237095 5\n",
              "210 spline_log     Preprocessor04_Model1 roc_auc  0.8320461 0.011074104 5\n",
              "211 spline_log     Preprocessor03_Model1 accuracy 0.9385049 0.004237095 5\n",
              "212 spline_log     Preprocessor03_Model1 roc_auc  0.8320461 0.011074104 5\n",
              "213 spline_log     Preprocessor06_Model1 accuracy 0.9385049 0.004237095 5\n",
              "214 spline_log     Preprocessor06_Model1 roc_auc  0.8320461 0.011074104 5\n",
              "215 inter_log      Preprocessor1_Model1  accuracy 0.9375570 0.003796612 5\n",
              "216 inter_log      Preprocessor1_Model1  roc_auc  0.8219343 0.010737444 5\n",
              "    preprocessor model        rank\n",
              "1   recipe       boost_tree    1  \n",
              "2   recipe       boost_tree    1  \n",
              "3   recipe       rand_forest   2  \n",
              "4   recipe       rand_forest   2  \n",
              "5   recipe       rand_forest   3  \n",
              "6   recipe       rand_forest   3  \n",
              "7   recipe       rand_forest   4  \n",
              "8   recipe       rand_forest   4  \n",
              "9   recipe       rand_forest   5  \n",
              "10  recipe       rand_forest   5  \n",
              "11  recipe       rand_forest   6  \n",
              "12  recipe       rand_forest   6  \n",
              "13  recipe       rand_forest   7  \n",
              "14  recipe       rand_forest   7  \n",
              "15  recipe       rand_forest   8  \n",
              "16  recipe       rand_forest   8  \n",
              "17  recipe       rand_forest   9  \n",
              "18  recipe       rand_forest   9  \n",
              "19  recipe       rand_forest  10  \n",
              "20  recipe       rand_forest  10  \n",
              "21  recipe       rand_forest  11  \n",
              "22  recipe       rand_forest  11  \n",
              "23  recipe       rand_forest  12  \n",
              "24  recipe       rand_forest  12  \n",
              "25  recipe       rand_forest  13  \n",
              "26  recipe       rand_forest  13  \n",
              "27  recipe       rand_forest  14  \n",
              "28  recipe       rand_forest  14  \n",
              "29  recipe       rand_forest  15  \n",
              "30  recipe       rand_forest  15  \n",
              "⋮   ⋮            ⋮            ⋮   \n",
              "187 recipe       logistic_reg  94 \n",
              "188 recipe       logistic_reg  94 \n",
              "189 recipe       logistic_reg  95 \n",
              "190 recipe       logistic_reg  95 \n",
              "191 recipe       logistic_reg  96 \n",
              "192 recipe       logistic_reg  96 \n",
              "193 recipe       logistic_reg  97 \n",
              "194 recipe       logistic_reg  97 \n",
              "195 recipe       logistic_reg  98 \n",
              "196 recipe       logistic_reg  98 \n",
              "197 recipe       logistic_reg  99 \n",
              "198 recipe       logistic_reg  99 \n",
              "199 recipe       logistic_reg 100 \n",
              "200 recipe       logistic_reg 100 \n",
              "201 recipe       logistic_reg 101 \n",
              "202 recipe       logistic_reg 101 \n",
              "203 recipe       logistic_reg 102 \n",
              "204 recipe       logistic_reg 102 \n",
              "205 recipe       logistic_reg 103 \n",
              "206 recipe       logistic_reg 103 \n",
              "207 recipe       logistic_reg 104 \n",
              "208 recipe       logistic_reg 104 \n",
              "209 recipe       logistic_reg 105 \n",
              "210 recipe       logistic_reg 105 \n",
              "211 recipe       logistic_reg 106 \n",
              "212 recipe       logistic_reg 106 \n",
              "213 recipe       logistic_reg 107 \n",
              "214 recipe       logistic_reg 107 \n",
              "215 recipe       logistic_reg 108 \n",
              "216 recipe       logistic_reg 108 "
            ]
          },
          "metadata": {}
        }
      ]
    },
    {
      "cell_type": "code",
      "source": [
        "216 / 2 / 4"
      ],
      "metadata": {
        "colab": {
          "base_uri": "https://localhost:8080/",
          "height": 34
        },
        "id": "OeDW4f0xMEz8",
        "outputId": "960d4fa3-db14-4c80-e210-70e9901661e3"
      },
      "execution_count": 56,
      "outputs": [
        {
          "output_type": "display_data",
          "data": {
            "text/html": [
              "27"
            ],
            "text/markdown": "27",
            "text/latex": "27",
            "text/plain": [
              "[1] 27"
            ]
          },
          "metadata": {}
        }
      ]
    },
    {
      "cell_type": "markdown",
      "source": [
        "# 8. Last fit and final prediction"
      ],
      "metadata": {
        "id": "CfWMERb3RPqx"
      }
    },
    {
      "cell_type": "markdown",
      "source": [
        "## 8.1. Extract the best wf"
      ],
      "metadata": {
        "id": "HzwH-tGWRX7G"
      }
    },
    {
      "cell_type": "code",
      "source": [
        "best_wf <- wf_set_fitted %>%\n",
        "  extract_workflow_set_result(\"spline_xgb\") %>%\n",
        "  select_best(metric = \"roc_auc\")"
      ],
      "metadata": {
        "id": "1-L2oHwfMExc"
      },
      "execution_count": 63,
      "outputs": []
    },
    {
      "cell_type": "code",
      "source": [
        "best_wf"
      ],
      "metadata": {
        "colab": {
          "base_uri": "https://localhost:8080/",
          "height": 129
        },
        "id": "VlHpWxiHMEuU",
        "outputId": "9ea42f48-eb0a-438a-ec81-06392dfe0498"
      },
      "execution_count": 62,
      "outputs": [
        {
          "output_type": "display_data",
          "data": {
            "text/html": [
              "<table class=\"dataframe\">\n",
              "<caption>A tibble: 1 × 2</caption>\n",
              "<thead>\n",
              "\t<tr><th scope=col>deg_free</th><th scope=col>.config</th></tr>\n",
              "\t<tr><th scope=col>&lt;int&gt;</th><th scope=col>&lt;chr&gt;</th></tr>\n",
              "</thead>\n",
              "<tbody>\n",
              "\t<tr><td>4</td><td>Preprocessor01_Model1</td></tr>\n",
              "</tbody>\n",
              "</table>\n"
            ],
            "text/markdown": "\nA tibble: 1 × 2\n\n| deg_free &lt;int&gt; | .config &lt;chr&gt; |\n|---|---|\n| 4 | Preprocessor01_Model1 |\n\n",
            "text/latex": "A tibble: 1 × 2\n\\begin{tabular}{ll}\n deg\\_free & .config\\\\\n <int> & <chr>\\\\\n\\hline\n\t 4 & Preprocessor01\\_Model1\\\\\n\\end{tabular}\n",
            "text/plain": [
              "  deg_free .config              \n",
              "1 4        Preprocessor01_Model1"
            ]
          },
          "metadata": {}
        }
      ]
    },
    {
      "cell_type": "markdown",
      "source": [
        "## 8.2 last fit"
      ],
      "metadata": {
        "id": "hP3JpL7lScQm"
      }
    },
    {
      "cell_type": "code",
      "source": [
        "last_fit <- wf_set_fitted %>%\n",
        "  extract_workflow(\"spline_xgb\") %>% #workflowid\n",
        "  finalize_workflow(best_wf) %>%\n",
        "  last_fit(split= data_split) # last fitting and prediction\n",
        "\n",
        "\n",
        "last_fit %>% collect_metrics()\n",
        "last_fit %>% collect_predictions()"
      ],
      "metadata": {
        "colab": {
          "base_uri": "https://localhost:8080/",
          "height": 1000
        },
        "id": "pQdZp2PWSDTu",
        "outputId": "f6c30e10-5fb5-4a16-83d6-0b82628ca34a"
      },
      "execution_count": 67,
      "outputs": [
        {
          "output_type": "display_data",
          "data": {
            "text/html": [
              "<table class=\"dataframe\">\n",
              "<caption>A tibble: 2 × 4</caption>\n",
              "<thead>\n",
              "\t<tr><th scope=col>.metric</th><th scope=col>.estimator</th><th scope=col>.estimate</th><th scope=col>.config</th></tr>\n",
              "\t<tr><th scope=col>&lt;chr&gt;</th><th scope=col>&lt;chr&gt;</th><th scope=col>&lt;dbl&gt;</th><th scope=col>&lt;chr&gt;</th></tr>\n",
              "</thead>\n",
              "<tbody>\n",
              "\t<tr><td>accuracy</td><td>binary</td><td>0.9622642</td><td>Preprocessor1_Model1</td></tr>\n",
              "\t<tr><td>roc_auc </td><td>binary</td><td>0.9037433</td><td>Preprocessor1_Model1</td></tr>\n",
              "</tbody>\n",
              "</table>\n"
            ],
            "text/markdown": "\nA tibble: 2 × 4\n\n| .metric &lt;chr&gt; | .estimator &lt;chr&gt; | .estimate &lt;dbl&gt; | .config &lt;chr&gt; |\n|---|---|---|---|\n| accuracy | binary | 0.9622642 | Preprocessor1_Model1 |\n| roc_auc  | binary | 0.9037433 | Preprocessor1_Model1 |\n\n",
            "text/latex": "A tibble: 2 × 4\n\\begin{tabular}{llll}\n .metric & .estimator & .estimate & .config\\\\\n <chr> & <chr> & <dbl> & <chr>\\\\\n\\hline\n\t accuracy & binary & 0.9622642 & Preprocessor1\\_Model1\\\\\n\t roc\\_auc  & binary & 0.9037433 & Preprocessor1\\_Model1\\\\\n\\end{tabular}\n",
            "text/plain": [
              "  .metric  .estimator .estimate .config             \n",
              "1 accuracy binary     0.9622642 Preprocessor1_Model1\n",
              "2 roc_auc  binary     0.9037433 Preprocessor1_Model1"
            ]
          },
          "metadata": {}
        },
        {
          "output_type": "display_data",
          "data": {
            "text/html": [
              "<table class=\"dataframe\">\n",
              "<caption>A tibble: 265 × 7</caption>\n",
              "<thead>\n",
              "\t<tr><th scope=col>id</th><th scope=col>.pred_0</th><th scope=col>.pred_1</th><th scope=col>.row</th><th scope=col>.pred_class</th><th scope=col>target</th><th scope=col>.config</th></tr>\n",
              "\t<tr><th scope=col>&lt;chr&gt;</th><th scope=col>&lt;dbl&gt;</th><th scope=col>&lt;dbl&gt;</th><th scope=col>&lt;int&gt;</th><th scope=col>&lt;fct&gt;</th><th scope=col>&lt;fct&gt;</th><th scope=col>&lt;chr&gt;</th></tr>\n",
              "</thead>\n",
              "<tbody>\n",
              "\t<tr><td>train/test split</td><td>0.95248568</td><td>0.04751432</td><td>  2</td><td>0</td><td>0</td><td>Preprocessor1_Model1</td></tr>\n",
              "\t<tr><td>train/test split</td><td>0.01885670</td><td>0.98114330</td><td>  8</td><td>1</td><td>1</td><td>Preprocessor1_Model1</td></tr>\n",
              "\t<tr><td>train/test split</td><td>0.96964169</td><td>0.03035831</td><td> 44</td><td>0</td><td>0</td><td>Preprocessor1_Model1</td></tr>\n",
              "\t<tr><td>train/test split</td><td>0.96954614</td><td>0.03045386</td><td> 46</td><td>0</td><td>0</td><td>Preprocessor1_Model1</td></tr>\n",
              "\t<tr><td>train/test split</td><td>0.93514043</td><td>0.06485957</td><td> 47</td><td>0</td><td>0</td><td>Preprocessor1_Model1</td></tr>\n",
              "\t<tr><td>train/test split</td><td>0.94388640</td><td>0.05611360</td><td> 48</td><td>0</td><td>0</td><td>Preprocessor1_Model1</td></tr>\n",
              "\t<tr><td>train/test split</td><td>0.98514128</td><td>0.01485872</td><td> 56</td><td>0</td><td>0</td><td>Preprocessor1_Model1</td></tr>\n",
              "\t<tr><td>train/test split</td><td>0.98789412</td><td>0.01210588</td><td> 61</td><td>0</td><td>0</td><td>Preprocessor1_Model1</td></tr>\n",
              "\t<tr><td>train/test split</td><td>0.96130115</td><td>0.03869885</td><td> 65</td><td>0</td><td>0</td><td>Preprocessor1_Model1</td></tr>\n",
              "\t<tr><td>train/test split</td><td>0.96841633</td><td>0.03158367</td><td> 71</td><td>0</td><td>0</td><td>Preprocessor1_Model1</td></tr>\n",
              "\t<tr><td>train/test split</td><td>0.97640944</td><td>0.02359056</td><td> 90</td><td>0</td><td>0</td><td>Preprocessor1_Model1</td></tr>\n",
              "\t<tr><td>train/test split</td><td>0.96189475</td><td>0.03810525</td><td>101</td><td>0</td><td>0</td><td>Preprocessor1_Model1</td></tr>\n",
              "\t<tr><td>train/test split</td><td>0.04025959</td><td>0.95974041</td><td>103</td><td>1</td><td>1</td><td>Preprocessor1_Model1</td></tr>\n",
              "\t<tr><td>train/test split</td><td>0.97217596</td><td>0.02782404</td><td>107</td><td>0</td><td>0</td><td>Preprocessor1_Model1</td></tr>\n",
              "\t<tr><td>train/test split</td><td>0.98206156</td><td>0.01793844</td><td>108</td><td>0</td><td>0</td><td>Preprocessor1_Model1</td></tr>\n",
              "\t<tr><td>train/test split</td><td>0.92128330</td><td>0.07871670</td><td>135</td><td>0</td><td>0</td><td>Preprocessor1_Model1</td></tr>\n",
              "\t<tr><td>train/test split</td><td>0.89973259</td><td>0.10026741</td><td>141</td><td>0</td><td>0</td><td>Preprocessor1_Model1</td></tr>\n",
              "\t<tr><td>train/test split</td><td>0.89266741</td><td>0.10733259</td><td>150</td><td>0</td><td>0</td><td>Preprocessor1_Model1</td></tr>\n",
              "\t<tr><td>train/test split</td><td>0.01811789</td><td>0.98188211</td><td>153</td><td>1</td><td>1</td><td>Preprocessor1_Model1</td></tr>\n",
              "\t<tr><td>train/test split</td><td>0.98047525</td><td>0.01952475</td><td>156</td><td>0</td><td>0</td><td>Preprocessor1_Model1</td></tr>\n",
              "\t<tr><td>train/test split</td><td>0.98194838</td><td>0.01805162</td><td>161</td><td>0</td><td>0</td><td>Preprocessor1_Model1</td></tr>\n",
              "\t<tr><td>train/test split</td><td>0.02206819</td><td>0.97793181</td><td>165</td><td>1</td><td>1</td><td>Preprocessor1_Model1</td></tr>\n",
              "\t<tr><td>train/test split</td><td>0.98773056</td><td>0.01226944</td><td>171</td><td>0</td><td>0</td><td>Preprocessor1_Model1</td></tr>\n",
              "\t<tr><td>train/test split</td><td>0.93371242</td><td>0.06628758</td><td>181</td><td>0</td><td>0</td><td>Preprocessor1_Model1</td></tr>\n",
              "\t<tr><td>train/test split</td><td>0.87729126</td><td>0.12270874</td><td>190</td><td>0</td><td>0</td><td>Preprocessor1_Model1</td></tr>\n",
              "\t<tr><td>train/test split</td><td>0.92601258</td><td>0.07398742</td><td>191</td><td>0</td><td>0</td><td>Preprocessor1_Model1</td></tr>\n",
              "\t<tr><td>train/test split</td><td>0.96950591</td><td>0.03049409</td><td>197</td><td>0</td><td>0</td><td>Preprocessor1_Model1</td></tr>\n",
              "\t<tr><td>train/test split</td><td>0.83656579</td><td>0.16343421</td><td>200</td><td>0</td><td>0</td><td>Preprocessor1_Model1</td></tr>\n",
              "\t<tr><td>train/test split</td><td>0.97927892</td><td>0.02072108</td><td>204</td><td>0</td><td>0</td><td>Preprocessor1_Model1</td></tr>\n",
              "\t<tr><td>train/test split</td><td>0.96448696</td><td>0.03551304</td><td>205</td><td>0</td><td>0</td><td>Preprocessor1_Model1</td></tr>\n",
              "\t<tr><td>⋮</td><td>⋮</td><td>⋮</td><td>⋮</td><td>⋮</td><td>⋮</td><td>⋮</td></tr>\n",
              "\t<tr><td>train/test split</td><td>0.957902193</td><td>0.04209781</td><td>1207</td><td>0</td><td>0</td><td>Preprocessor1_Model1</td></tr>\n",
              "\t<tr><td>train/test split</td><td>0.975961983</td><td>0.02403802</td><td>1208</td><td>0</td><td>0</td><td>Preprocessor1_Model1</td></tr>\n",
              "\t<tr><td>train/test split</td><td>0.960769236</td><td>0.03923076</td><td>1216</td><td>0</td><td>0</td><td>Preprocessor1_Model1</td></tr>\n",
              "\t<tr><td>train/test split</td><td>0.966477156</td><td>0.03352284</td><td>1219</td><td>0</td><td>0</td><td>Preprocessor1_Model1</td></tr>\n",
              "\t<tr><td>train/test split</td><td>0.929772258</td><td>0.07022774</td><td>1227</td><td>0</td><td>0</td><td>Preprocessor1_Model1</td></tr>\n",
              "\t<tr><td>train/test split</td><td>0.949588716</td><td>0.05041128</td><td>1228</td><td>0</td><td>0</td><td>Preprocessor1_Model1</td></tr>\n",
              "\t<tr><td>train/test split</td><td>0.952502131</td><td>0.04749787</td><td>1236</td><td>0</td><td>0</td><td>Preprocessor1_Model1</td></tr>\n",
              "\t<tr><td>train/test split</td><td>0.896192193</td><td>0.10380781</td><td>1239</td><td>0</td><td>0</td><td>Preprocessor1_Model1</td></tr>\n",
              "\t<tr><td>train/test split</td><td>0.955597341</td><td>0.04440266</td><td>1242</td><td>0</td><td>0</td><td>Preprocessor1_Model1</td></tr>\n",
              "\t<tr><td>train/test split</td><td>0.890749633</td><td>0.10925037</td><td>1243</td><td>0</td><td>0</td><td>Preprocessor1_Model1</td></tr>\n",
              "\t<tr><td>train/test split</td><td>0.944308519</td><td>0.05569148</td><td>1249</td><td>0</td><td>0</td><td>Preprocessor1_Model1</td></tr>\n",
              "\t<tr><td>train/test split</td><td>0.974092603</td><td>0.02590740</td><td>1253</td><td>0</td><td>0</td><td>Preprocessor1_Model1</td></tr>\n",
              "\t<tr><td>train/test split</td><td>0.947328150</td><td>0.05267185</td><td>1254</td><td>0</td><td>0</td><td>Preprocessor1_Model1</td></tr>\n",
              "\t<tr><td>train/test split</td><td>0.021695709</td><td>0.97830429</td><td>1257</td><td>1</td><td>1</td><td>Preprocessor1_Model1</td></tr>\n",
              "\t<tr><td>train/test split</td><td>0.014261696</td><td>0.98573830</td><td>1258</td><td>1</td><td>1</td><td>Preprocessor1_Model1</td></tr>\n",
              "\t<tr><td>train/test split</td><td>0.961716771</td><td>0.03828323</td><td>1260</td><td>0</td><td>0</td><td>Preprocessor1_Model1</td></tr>\n",
              "\t<tr><td>train/test split</td><td>0.976458192</td><td>0.02354181</td><td>1262</td><td>0</td><td>0</td><td>Preprocessor1_Model1</td></tr>\n",
              "\t<tr><td>train/test split</td><td>0.942451298</td><td>0.05754870</td><td>1263</td><td>0</td><td>0</td><td>Preprocessor1_Model1</td></tr>\n",
              "\t<tr><td>train/test split</td><td>0.871439755</td><td>0.12856025</td><td>1266</td><td>0</td><td>0</td><td>Preprocessor1_Model1</td></tr>\n",
              "\t<tr><td>train/test split</td><td>0.740384758</td><td>0.25961524</td><td>1269</td><td>0</td><td>0</td><td>Preprocessor1_Model1</td></tr>\n",
              "\t<tr><td>train/test split</td><td>0.926334679</td><td>0.07366532</td><td>1272</td><td>0</td><td>0</td><td>Preprocessor1_Model1</td></tr>\n",
              "\t<tr><td>train/test split</td><td>0.927547932</td><td>0.07245207</td><td>1293</td><td>0</td><td>0</td><td>Preprocessor1_Model1</td></tr>\n",
              "\t<tr><td>train/test split</td><td>0.959512830</td><td>0.04048717</td><td>1294</td><td>0</td><td>0</td><td>Preprocessor1_Model1</td></tr>\n",
              "\t<tr><td>train/test split</td><td>0.957911253</td><td>0.04208875</td><td>1296</td><td>0</td><td>0</td><td>Preprocessor1_Model1</td></tr>\n",
              "\t<tr><td>train/test split</td><td>0.985351086</td><td>0.01464891</td><td>1298</td><td>0</td><td>0</td><td>Preprocessor1_Model1</td></tr>\n",
              "\t<tr><td>train/test split</td><td>0.976601243</td><td>0.02339876</td><td>1300</td><td>0</td><td>0</td><td>Preprocessor1_Model1</td></tr>\n",
              "\t<tr><td>train/test split</td><td>0.457636148</td><td>0.54236385</td><td>1306</td><td>1</td><td>0</td><td>Preprocessor1_Model1</td></tr>\n",
              "\t<tr><td>train/test split</td><td>0.911749601</td><td>0.08825040</td><td>1309</td><td>0</td><td>0</td><td>Preprocessor1_Model1</td></tr>\n",
              "\t<tr><td>train/test split</td><td>0.007901907</td><td>0.99209809</td><td>1312</td><td>1</td><td>1</td><td>Preprocessor1_Model1</td></tr>\n",
              "\t<tr><td>train/test split</td><td>0.976884544</td><td>0.02311546</td><td>1313</td><td>0</td><td>0</td><td>Preprocessor1_Model1</td></tr>\n",
              "</tbody>\n",
              "</table>\n"
            ],
            "text/markdown": "\nA tibble: 265 × 7\n\n| id &lt;chr&gt; | .pred_0 &lt;dbl&gt; | .pred_1 &lt;dbl&gt; | .row &lt;int&gt; | .pred_class &lt;fct&gt; | target &lt;fct&gt; | .config &lt;chr&gt; |\n|---|---|---|---|---|---|---|\n| train/test split | 0.95248568 | 0.04751432 |   2 | 0 | 0 | Preprocessor1_Model1 |\n| train/test split | 0.01885670 | 0.98114330 |   8 | 1 | 1 | Preprocessor1_Model1 |\n| train/test split | 0.96964169 | 0.03035831 |  44 | 0 | 0 | Preprocessor1_Model1 |\n| train/test split | 0.96954614 | 0.03045386 |  46 | 0 | 0 | Preprocessor1_Model1 |\n| train/test split | 0.93514043 | 0.06485957 |  47 | 0 | 0 | Preprocessor1_Model1 |\n| train/test split | 0.94388640 | 0.05611360 |  48 | 0 | 0 | Preprocessor1_Model1 |\n| train/test split | 0.98514128 | 0.01485872 |  56 | 0 | 0 | Preprocessor1_Model1 |\n| train/test split | 0.98789412 | 0.01210588 |  61 | 0 | 0 | Preprocessor1_Model1 |\n| train/test split | 0.96130115 | 0.03869885 |  65 | 0 | 0 | Preprocessor1_Model1 |\n| train/test split | 0.96841633 | 0.03158367 |  71 | 0 | 0 | Preprocessor1_Model1 |\n| train/test split | 0.97640944 | 0.02359056 |  90 | 0 | 0 | Preprocessor1_Model1 |\n| train/test split | 0.96189475 | 0.03810525 | 101 | 0 | 0 | Preprocessor1_Model1 |\n| train/test split | 0.04025959 | 0.95974041 | 103 | 1 | 1 | Preprocessor1_Model1 |\n| train/test split | 0.97217596 | 0.02782404 | 107 | 0 | 0 | Preprocessor1_Model1 |\n| train/test split | 0.98206156 | 0.01793844 | 108 | 0 | 0 | Preprocessor1_Model1 |\n| train/test split | 0.92128330 | 0.07871670 | 135 | 0 | 0 | Preprocessor1_Model1 |\n| train/test split | 0.89973259 | 0.10026741 | 141 | 0 | 0 | Preprocessor1_Model1 |\n| train/test split | 0.89266741 | 0.10733259 | 150 | 0 | 0 | Preprocessor1_Model1 |\n| train/test split | 0.01811789 | 0.98188211 | 153 | 1 | 1 | Preprocessor1_Model1 |\n| train/test split | 0.98047525 | 0.01952475 | 156 | 0 | 0 | Preprocessor1_Model1 |\n| train/test split | 0.98194838 | 0.01805162 | 161 | 0 | 0 | Preprocessor1_Model1 |\n| train/test split | 0.02206819 | 0.97793181 | 165 | 1 | 1 | Preprocessor1_Model1 |\n| train/test split | 0.98773056 | 0.01226944 | 171 | 0 | 0 | Preprocessor1_Model1 |\n| train/test split | 0.93371242 | 0.06628758 | 181 | 0 | 0 | Preprocessor1_Model1 |\n| train/test split | 0.87729126 | 0.12270874 | 190 | 0 | 0 | Preprocessor1_Model1 |\n| train/test split | 0.92601258 | 0.07398742 | 191 | 0 | 0 | Preprocessor1_Model1 |\n| train/test split | 0.96950591 | 0.03049409 | 197 | 0 | 0 | Preprocessor1_Model1 |\n| train/test split | 0.83656579 | 0.16343421 | 200 | 0 | 0 | Preprocessor1_Model1 |\n| train/test split | 0.97927892 | 0.02072108 | 204 | 0 | 0 | Preprocessor1_Model1 |\n| train/test split | 0.96448696 | 0.03551304 | 205 | 0 | 0 | Preprocessor1_Model1 |\n| ⋮ | ⋮ | ⋮ | ⋮ | ⋮ | ⋮ | ⋮ |\n| train/test split | 0.957902193 | 0.04209781 | 1207 | 0 | 0 | Preprocessor1_Model1 |\n| train/test split | 0.975961983 | 0.02403802 | 1208 | 0 | 0 | Preprocessor1_Model1 |\n| train/test split | 0.960769236 | 0.03923076 | 1216 | 0 | 0 | Preprocessor1_Model1 |\n| train/test split | 0.966477156 | 0.03352284 | 1219 | 0 | 0 | Preprocessor1_Model1 |\n| train/test split | 0.929772258 | 0.07022774 | 1227 | 0 | 0 | Preprocessor1_Model1 |\n| train/test split | 0.949588716 | 0.05041128 | 1228 | 0 | 0 | Preprocessor1_Model1 |\n| train/test split | 0.952502131 | 0.04749787 | 1236 | 0 | 0 | Preprocessor1_Model1 |\n| train/test split | 0.896192193 | 0.10380781 | 1239 | 0 | 0 | Preprocessor1_Model1 |\n| train/test split | 0.955597341 | 0.04440266 | 1242 | 0 | 0 | Preprocessor1_Model1 |\n| train/test split | 0.890749633 | 0.10925037 | 1243 | 0 | 0 | Preprocessor1_Model1 |\n| train/test split | 0.944308519 | 0.05569148 | 1249 | 0 | 0 | Preprocessor1_Model1 |\n| train/test split | 0.974092603 | 0.02590740 | 1253 | 0 | 0 | Preprocessor1_Model1 |\n| train/test split | 0.947328150 | 0.05267185 | 1254 | 0 | 0 | Preprocessor1_Model1 |\n| train/test split | 0.021695709 | 0.97830429 | 1257 | 1 | 1 | Preprocessor1_Model1 |\n| train/test split | 0.014261696 | 0.98573830 | 1258 | 1 | 1 | Preprocessor1_Model1 |\n| train/test split | 0.961716771 | 0.03828323 | 1260 | 0 | 0 | Preprocessor1_Model1 |\n| train/test split | 0.976458192 | 0.02354181 | 1262 | 0 | 0 | Preprocessor1_Model1 |\n| train/test split | 0.942451298 | 0.05754870 | 1263 | 0 | 0 | Preprocessor1_Model1 |\n| train/test split | 0.871439755 | 0.12856025 | 1266 | 0 | 0 | Preprocessor1_Model1 |\n| train/test split | 0.740384758 | 0.25961524 | 1269 | 0 | 0 | Preprocessor1_Model1 |\n| train/test split | 0.926334679 | 0.07366532 | 1272 | 0 | 0 | Preprocessor1_Model1 |\n| train/test split | 0.927547932 | 0.07245207 | 1293 | 0 | 0 | Preprocessor1_Model1 |\n| train/test split | 0.959512830 | 0.04048717 | 1294 | 0 | 0 | Preprocessor1_Model1 |\n| train/test split | 0.957911253 | 0.04208875 | 1296 | 0 | 0 | Preprocessor1_Model1 |\n| train/test split | 0.985351086 | 0.01464891 | 1298 | 0 | 0 | Preprocessor1_Model1 |\n| train/test split | 0.976601243 | 0.02339876 | 1300 | 0 | 0 | Preprocessor1_Model1 |\n| train/test split | 0.457636148 | 0.54236385 | 1306 | 1 | 0 | Preprocessor1_Model1 |\n| train/test split | 0.911749601 | 0.08825040 | 1309 | 0 | 0 | Preprocessor1_Model1 |\n| train/test split | 0.007901907 | 0.99209809 | 1312 | 1 | 1 | Preprocessor1_Model1 |\n| train/test split | 0.976884544 | 0.02311546 | 1313 | 0 | 0 | Preprocessor1_Model1 |\n\n",
            "text/latex": "A tibble: 265 × 7\n\\begin{tabular}{lllllll}\n id & .pred\\_0 & .pred\\_1 & .row & .pred\\_class & target & .config\\\\\n <chr> & <dbl> & <dbl> & <int> & <fct> & <fct> & <chr>\\\\\n\\hline\n\t train/test split & 0.95248568 & 0.04751432 &   2 & 0 & 0 & Preprocessor1\\_Model1\\\\\n\t train/test split & 0.01885670 & 0.98114330 &   8 & 1 & 1 & Preprocessor1\\_Model1\\\\\n\t train/test split & 0.96964169 & 0.03035831 &  44 & 0 & 0 & Preprocessor1\\_Model1\\\\\n\t train/test split & 0.96954614 & 0.03045386 &  46 & 0 & 0 & Preprocessor1\\_Model1\\\\\n\t train/test split & 0.93514043 & 0.06485957 &  47 & 0 & 0 & Preprocessor1\\_Model1\\\\\n\t train/test split & 0.94388640 & 0.05611360 &  48 & 0 & 0 & Preprocessor1\\_Model1\\\\\n\t train/test split & 0.98514128 & 0.01485872 &  56 & 0 & 0 & Preprocessor1\\_Model1\\\\\n\t train/test split & 0.98789412 & 0.01210588 &  61 & 0 & 0 & Preprocessor1\\_Model1\\\\\n\t train/test split & 0.96130115 & 0.03869885 &  65 & 0 & 0 & Preprocessor1\\_Model1\\\\\n\t train/test split & 0.96841633 & 0.03158367 &  71 & 0 & 0 & Preprocessor1\\_Model1\\\\\n\t train/test split & 0.97640944 & 0.02359056 &  90 & 0 & 0 & Preprocessor1\\_Model1\\\\\n\t train/test split & 0.96189475 & 0.03810525 & 101 & 0 & 0 & Preprocessor1\\_Model1\\\\\n\t train/test split & 0.04025959 & 0.95974041 & 103 & 1 & 1 & Preprocessor1\\_Model1\\\\\n\t train/test split & 0.97217596 & 0.02782404 & 107 & 0 & 0 & Preprocessor1\\_Model1\\\\\n\t train/test split & 0.98206156 & 0.01793844 & 108 & 0 & 0 & Preprocessor1\\_Model1\\\\\n\t train/test split & 0.92128330 & 0.07871670 & 135 & 0 & 0 & Preprocessor1\\_Model1\\\\\n\t train/test split & 0.89973259 & 0.10026741 & 141 & 0 & 0 & Preprocessor1\\_Model1\\\\\n\t train/test split & 0.89266741 & 0.10733259 & 150 & 0 & 0 & Preprocessor1\\_Model1\\\\\n\t train/test split & 0.01811789 & 0.98188211 & 153 & 1 & 1 & Preprocessor1\\_Model1\\\\\n\t train/test split & 0.98047525 & 0.01952475 & 156 & 0 & 0 & Preprocessor1\\_Model1\\\\\n\t train/test split & 0.98194838 & 0.01805162 & 161 & 0 & 0 & Preprocessor1\\_Model1\\\\\n\t train/test split & 0.02206819 & 0.97793181 & 165 & 1 & 1 & Preprocessor1\\_Model1\\\\\n\t train/test split & 0.98773056 & 0.01226944 & 171 & 0 & 0 & Preprocessor1\\_Model1\\\\\n\t train/test split & 0.93371242 & 0.06628758 & 181 & 0 & 0 & Preprocessor1\\_Model1\\\\\n\t train/test split & 0.87729126 & 0.12270874 & 190 & 0 & 0 & Preprocessor1\\_Model1\\\\\n\t train/test split & 0.92601258 & 0.07398742 & 191 & 0 & 0 & Preprocessor1\\_Model1\\\\\n\t train/test split & 0.96950591 & 0.03049409 & 197 & 0 & 0 & Preprocessor1\\_Model1\\\\\n\t train/test split & 0.83656579 & 0.16343421 & 200 & 0 & 0 & Preprocessor1\\_Model1\\\\\n\t train/test split & 0.97927892 & 0.02072108 & 204 & 0 & 0 & Preprocessor1\\_Model1\\\\\n\t train/test split & 0.96448696 & 0.03551304 & 205 & 0 & 0 & Preprocessor1\\_Model1\\\\\n\t ⋮ & ⋮ & ⋮ & ⋮ & ⋮ & ⋮ & ⋮\\\\\n\t train/test split & 0.957902193 & 0.04209781 & 1207 & 0 & 0 & Preprocessor1\\_Model1\\\\\n\t train/test split & 0.975961983 & 0.02403802 & 1208 & 0 & 0 & Preprocessor1\\_Model1\\\\\n\t train/test split & 0.960769236 & 0.03923076 & 1216 & 0 & 0 & Preprocessor1\\_Model1\\\\\n\t train/test split & 0.966477156 & 0.03352284 & 1219 & 0 & 0 & Preprocessor1\\_Model1\\\\\n\t train/test split & 0.929772258 & 0.07022774 & 1227 & 0 & 0 & Preprocessor1\\_Model1\\\\\n\t train/test split & 0.949588716 & 0.05041128 & 1228 & 0 & 0 & Preprocessor1\\_Model1\\\\\n\t train/test split & 0.952502131 & 0.04749787 & 1236 & 0 & 0 & Preprocessor1\\_Model1\\\\\n\t train/test split & 0.896192193 & 0.10380781 & 1239 & 0 & 0 & Preprocessor1\\_Model1\\\\\n\t train/test split & 0.955597341 & 0.04440266 & 1242 & 0 & 0 & Preprocessor1\\_Model1\\\\\n\t train/test split & 0.890749633 & 0.10925037 & 1243 & 0 & 0 & Preprocessor1\\_Model1\\\\\n\t train/test split & 0.944308519 & 0.05569148 & 1249 & 0 & 0 & Preprocessor1\\_Model1\\\\\n\t train/test split & 0.974092603 & 0.02590740 & 1253 & 0 & 0 & Preprocessor1\\_Model1\\\\\n\t train/test split & 0.947328150 & 0.05267185 & 1254 & 0 & 0 & Preprocessor1\\_Model1\\\\\n\t train/test split & 0.021695709 & 0.97830429 & 1257 & 1 & 1 & Preprocessor1\\_Model1\\\\\n\t train/test split & 0.014261696 & 0.98573830 & 1258 & 1 & 1 & Preprocessor1\\_Model1\\\\\n\t train/test split & 0.961716771 & 0.03828323 & 1260 & 0 & 0 & Preprocessor1\\_Model1\\\\\n\t train/test split & 0.976458192 & 0.02354181 & 1262 & 0 & 0 & Preprocessor1\\_Model1\\\\\n\t train/test split & 0.942451298 & 0.05754870 & 1263 & 0 & 0 & Preprocessor1\\_Model1\\\\\n\t train/test split & 0.871439755 & 0.12856025 & 1266 & 0 & 0 & Preprocessor1\\_Model1\\\\\n\t train/test split & 0.740384758 & 0.25961524 & 1269 & 0 & 0 & Preprocessor1\\_Model1\\\\\n\t train/test split & 0.926334679 & 0.07366532 & 1272 & 0 & 0 & Preprocessor1\\_Model1\\\\\n\t train/test split & 0.927547932 & 0.07245207 & 1293 & 0 & 0 & Preprocessor1\\_Model1\\\\\n\t train/test split & 0.959512830 & 0.04048717 & 1294 & 0 & 0 & Preprocessor1\\_Model1\\\\\n\t train/test split & 0.957911253 & 0.04208875 & 1296 & 0 & 0 & Preprocessor1\\_Model1\\\\\n\t train/test split & 0.985351086 & 0.01464891 & 1298 & 0 & 0 & Preprocessor1\\_Model1\\\\\n\t train/test split & 0.976601243 & 0.02339876 & 1300 & 0 & 0 & Preprocessor1\\_Model1\\\\\n\t train/test split & 0.457636148 & 0.54236385 & 1306 & 1 & 0 & Preprocessor1\\_Model1\\\\\n\t train/test split & 0.911749601 & 0.08825040 & 1309 & 0 & 0 & Preprocessor1\\_Model1\\\\\n\t train/test split & 0.007901907 & 0.99209809 & 1312 & 1 & 1 & Preprocessor1\\_Model1\\\\\n\t train/test split & 0.976884544 & 0.02311546 & 1313 & 0 & 0 & Preprocessor1\\_Model1\\\\\n\\end{tabular}\n",
            "text/plain": [
              "    id               .pred_0     .pred_1    .row .pred_class target\n",
              "1   train/test split 0.95248568  0.04751432   2  0           0     \n",
              "2   train/test split 0.01885670  0.98114330   8  1           1     \n",
              "3   train/test split 0.96964169  0.03035831  44  0           0     \n",
              "4   train/test split 0.96954614  0.03045386  46  0           0     \n",
              "5   train/test split 0.93514043  0.06485957  47  0           0     \n",
              "6   train/test split 0.94388640  0.05611360  48  0           0     \n",
              "7   train/test split 0.98514128  0.01485872  56  0           0     \n",
              "8   train/test split 0.98789412  0.01210588  61  0           0     \n",
              "9   train/test split 0.96130115  0.03869885  65  0           0     \n",
              "10  train/test split 0.96841633  0.03158367  71  0           0     \n",
              "11  train/test split 0.97640944  0.02359056  90  0           0     \n",
              "12  train/test split 0.96189475  0.03810525 101  0           0     \n",
              "13  train/test split 0.04025959  0.95974041 103  1           1     \n",
              "14  train/test split 0.97217596  0.02782404 107  0           0     \n",
              "15  train/test split 0.98206156  0.01793844 108  0           0     \n",
              "16  train/test split 0.92128330  0.07871670 135  0           0     \n",
              "17  train/test split 0.89973259  0.10026741 141  0           0     \n",
              "18  train/test split 0.89266741  0.10733259 150  0           0     \n",
              "19  train/test split 0.01811789  0.98188211 153  1           1     \n",
              "20  train/test split 0.98047525  0.01952475 156  0           0     \n",
              "21  train/test split 0.98194838  0.01805162 161  0           0     \n",
              "22  train/test split 0.02206819  0.97793181 165  1           1     \n",
              "23  train/test split 0.98773056  0.01226944 171  0           0     \n",
              "24  train/test split 0.93371242  0.06628758 181  0           0     \n",
              "25  train/test split 0.87729126  0.12270874 190  0           0     \n",
              "26  train/test split 0.92601258  0.07398742 191  0           0     \n",
              "27  train/test split 0.96950591  0.03049409 197  0           0     \n",
              "28  train/test split 0.83656579  0.16343421 200  0           0     \n",
              "29  train/test split 0.97927892  0.02072108 204  0           0     \n",
              "30  train/test split 0.96448696  0.03551304 205  0           0     \n",
              "⋮   ⋮                ⋮           ⋮          ⋮    ⋮           ⋮     \n",
              "236 train/test split 0.957902193 0.04209781 1207 0           0     \n",
              "237 train/test split 0.975961983 0.02403802 1208 0           0     \n",
              "238 train/test split 0.960769236 0.03923076 1216 0           0     \n",
              "239 train/test split 0.966477156 0.03352284 1219 0           0     \n",
              "240 train/test split 0.929772258 0.07022774 1227 0           0     \n",
              "241 train/test split 0.949588716 0.05041128 1228 0           0     \n",
              "242 train/test split 0.952502131 0.04749787 1236 0           0     \n",
              "243 train/test split 0.896192193 0.10380781 1239 0           0     \n",
              "244 train/test split 0.955597341 0.04440266 1242 0           0     \n",
              "245 train/test split 0.890749633 0.10925037 1243 0           0     \n",
              "246 train/test split 0.944308519 0.05569148 1249 0           0     \n",
              "247 train/test split 0.974092603 0.02590740 1253 0           0     \n",
              "248 train/test split 0.947328150 0.05267185 1254 0           0     \n",
              "249 train/test split 0.021695709 0.97830429 1257 1           1     \n",
              "250 train/test split 0.014261696 0.98573830 1258 1           1     \n",
              "251 train/test split 0.961716771 0.03828323 1260 0           0     \n",
              "252 train/test split 0.976458192 0.02354181 1262 0           0     \n",
              "253 train/test split 0.942451298 0.05754870 1263 0           0     \n",
              "254 train/test split 0.871439755 0.12856025 1266 0           0     \n",
              "255 train/test split 0.740384758 0.25961524 1269 0           0     \n",
              "256 train/test split 0.926334679 0.07366532 1272 0           0     \n",
              "257 train/test split 0.927547932 0.07245207 1293 0           0     \n",
              "258 train/test split 0.959512830 0.04048717 1294 0           0     \n",
              "259 train/test split 0.957911253 0.04208875 1296 0           0     \n",
              "260 train/test split 0.985351086 0.01464891 1298 0           0     \n",
              "261 train/test split 0.976601243 0.02339876 1300 0           0     \n",
              "262 train/test split 0.457636148 0.54236385 1306 1           0     \n",
              "263 train/test split 0.911749601 0.08825040 1309 0           0     \n",
              "264 train/test split 0.007901907 0.99209809 1312 1           1     \n",
              "265 train/test split 0.976884544 0.02311546 1313 0           0     \n",
              "    .config             \n",
              "1   Preprocessor1_Model1\n",
              "2   Preprocessor1_Model1\n",
              "3   Preprocessor1_Model1\n",
              "4   Preprocessor1_Model1\n",
              "5   Preprocessor1_Model1\n",
              "6   Preprocessor1_Model1\n",
              "7   Preprocessor1_Model1\n",
              "8   Preprocessor1_Model1\n",
              "9   Preprocessor1_Model1\n",
              "10  Preprocessor1_Model1\n",
              "11  Preprocessor1_Model1\n",
              "12  Preprocessor1_Model1\n",
              "13  Preprocessor1_Model1\n",
              "14  Preprocessor1_Model1\n",
              "15  Preprocessor1_Model1\n",
              "16  Preprocessor1_Model1\n",
              "17  Preprocessor1_Model1\n",
              "18  Preprocessor1_Model1\n",
              "19  Preprocessor1_Model1\n",
              "20  Preprocessor1_Model1\n",
              "21  Preprocessor1_Model1\n",
              "22  Preprocessor1_Model1\n",
              "23  Preprocessor1_Model1\n",
              "24  Preprocessor1_Model1\n",
              "25  Preprocessor1_Model1\n",
              "26  Preprocessor1_Model1\n",
              "27  Preprocessor1_Model1\n",
              "28  Preprocessor1_Model1\n",
              "29  Preprocessor1_Model1\n",
              "30  Preprocessor1_Model1\n",
              "⋮   ⋮                   \n",
              "236 Preprocessor1_Model1\n",
              "237 Preprocessor1_Model1\n",
              "238 Preprocessor1_Model1\n",
              "239 Preprocessor1_Model1\n",
              "240 Preprocessor1_Model1\n",
              "241 Preprocessor1_Model1\n",
              "242 Preprocessor1_Model1\n",
              "243 Preprocessor1_Model1\n",
              "244 Preprocessor1_Model1\n",
              "245 Preprocessor1_Model1\n",
              "246 Preprocessor1_Model1\n",
              "247 Preprocessor1_Model1\n",
              "248 Preprocessor1_Model1\n",
              "249 Preprocessor1_Model1\n",
              "250 Preprocessor1_Model1\n",
              "251 Preprocessor1_Model1\n",
              "252 Preprocessor1_Model1\n",
              "253 Preprocessor1_Model1\n",
              "254 Preprocessor1_Model1\n",
              "255 Preprocessor1_Model1\n",
              "256 Preprocessor1_Model1\n",
              "257 Preprocessor1_Model1\n",
              "258 Preprocessor1_Model1\n",
              "259 Preprocessor1_Model1\n",
              "260 Preprocessor1_Model1\n",
              "261 Preprocessor1_Model1\n",
              "262 Preprocessor1_Model1\n",
              "263 Preprocessor1_Model1\n",
              "264 Preprocessor1_Model1\n",
              "265 Preprocessor1_Model1"
            ]
          },
          "metadata": {}
        }
      ]
    },
    {
      "cell_type": "markdown",
      "source": [
        "Uniquement les parties 1,2,3 (models), 7 et 8\n"
      ],
      "metadata": {
        "id": "chw8csNiUjap"
      }
    },
    {
      "cell_type": "markdown",
      "source": [],
      "metadata": {
        "id": "cadx0Gd0-efk"
      }
    }
  ]
}